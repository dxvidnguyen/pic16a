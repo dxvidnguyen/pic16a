{
 "cells": [
  {
   "cell_type": "markdown",
   "metadata": {},
   "source": [
    "# Homework 1\n",
    "\n",
    "*Fill in your name and the names of any students who helped you below.* \n",
    "\n",
    "> I affirm that I personally wrote the text, code, and comments in this homework assignment. \n",
    "\n",
    "> I received help from Rashi and Lauren who gave me suggestions on 1 and 4.\n",
    "\n",
    "\\- David Nguyen\n",
    "\n",
    "\n",
    "This homework focuses on topics related to basic data types, collections, and iterations. For each problem, place your solution below the **Solution** headers. Refer to [Expectations for Assignments](https://nbviewer.jupyter.org/github/PhilChodrow/PIC16A/blob/master/content/preliminaries/expectations_for_assignments.ipynb) for instructions on submitting this assignment. For this assignment, it is not necessary to write docstrings for any of your code, but you should include comments and descriptions of your general approach. \n",
    "\n",
    "Submit this assignment on GradeScope. "
   ]
  },
  {
   "cell_type": "markdown",
   "metadata": {},
   "source": [
    "## Problem 1\n",
    "\n",
    "### (a)\n",
    "\n",
    "Create a string variable `s` such that the following works: \n",
    "\n",
    "You may need to use one or more special characters.\n",
    "\n",
    "```python\n",
    "print(s)\n",
    "```\n",
    "```\n",
    "Tired    : Doing math on your calculator. \n",
    "Wired    : Doing math in Python. \n",
    "Inspired : Training literal pythons to carry out long division using an abacus.\n",
    "```"
   ]
  },
  {
   "cell_type": "code",
   "execution_count": 1,
   "metadata": {},
   "outputs": [
    {
     "name": "stdout",
     "output_type": "stream",
     "text": [
      "Tired\t : Doing math on your calculator.\n",
      "Wired\t : Doing math in Python.\n",
      "Inspired : Training literal pythons to carry out long division using an abacus.\n"
     ]
    }
   ],
   "source": [
    "# your solution\n",
    "a = 'Tired'\n",
    "b = 'Wired'\n",
    "c = 'Inspired'\n",
    "aa = 'Doing math on your calculator.'\n",
    "bb = 'Doing math in Python.'\n",
    "cc = 'Training literal pythons to carry out long division using an abacus.'\n",
    "\n",
    "#combine all the strings above to make s\n",
    "s = a + '\\t : ' + aa + '\\n' + b + '\\t : ' + bb + '\\n' + c + ' : ' + cc \n",
    "print(s)"
   ]
  },
  {
   "cell_type": "markdown",
   "metadata": {},
   "source": [
    "Next, write Python commands which use `s` to print the specified outputs. Feel free to use loops and comprehensions; however, keep your code as concise as possible. Each solution should require at most three short lines of code.  \n",
    "\n",
    "For full credit, you should minimize the use of positional indexing (e.g. `s[5:10]`) when possible. \n",
    "\n",
    "### (b)\n",
    "\n",
    "Output: \n",
    "\n",
    "```\n",
    "Tired    \n",
    "Doing math on your calculator. \n",
    "Wired    \n",
    "Doing math in Python. \n",
    "Inspired \n",
    "Training literal pythons to carry out long division using an abacus.\n",
    "\n",
    "```"
   ]
  },
  {
   "cell_type": "code",
   "execution_count": 2,
   "metadata": {},
   "outputs": [
    {
     "name": "stdout",
     "output_type": "stream",
     "text": [
      "Tired\n",
      "Doing math on your calculator.\n",
      "Wired\n",
      "Doing math in Python.\n",
      "Inspired\n",
      "Training literal pythons to carry out long division using an abacus.\n"
     ]
    }
   ],
   "source": [
    "# your solution here. \n",
    "s = a + '\\n' + aa + '\\n' + b + '\\n' + bb + '\\n' + c + '\\n' + cc\n",
    "print(s)"
   ]
  },
  {
   "cell_type": "markdown",
   "metadata": {},
   "source": [
    "### (c)\n",
    "\n",
    "Output: \n",
    "\n",
    "```\n",
    "Tired\n",
    "Wired\n",
    "Inspired\n",
    "```\n",
    "\n",
    "**Hint**: look at the endings of words. A small amount of positional indexing might be handy here. "
   ]
  },
  {
   "cell_type": "code",
   "execution_count": 3,
   "metadata": {},
   "outputs": [
    {
     "name": "stdout",
     "output_type": "stream",
     "text": [
      "Tired\n",
      "Wired\n",
      "Inspired\n"
     ]
    }
   ],
   "source": [
    "# your solution here. \n",
    "s = a+'\\n'+b+'\\n'+c\n",
    "print(s)"
   ]
  },
  {
   "cell_type": "markdown",
   "metadata": {},
   "source": [
    "### (d)\n",
    "\n",
    "Output: \n",
    "\n",
    "```\n",
    "Tired    : Doing math on your calculator. \n",
    "Wired    : Doing math in Python. \n",
    "```\n",
    "\n",
    "**Hint**: These two lines are shorter than the other one.  \n"
   ]
  },
  {
   "cell_type": "code",
   "execution_count": 4,
   "metadata": {},
   "outputs": [
    {
     "name": "stdout",
     "output_type": "stream",
     "text": [
      "Tired\t : Doing math on your calculator.\n",
      "Wired\t : Doing math in Python.\n"
     ]
    }
   ],
   "source": [
    "s = a + '\\t : ' + aa + '\\n' + b + '\\t : ' + bb \n",
    "print(s)"
   ]
  },
  {
   "cell_type": "markdown",
   "metadata": {},
   "source": [
    "### (e)\n",
    "\n",
    "Output (note the lack of quotation marks). \n",
    "\n",
    "```\n",
    "Tired    : Doing data science on your calculator. \n",
    "Wired    : Doing data science in Python. \n",
    "Inspired : Training literal pythons to carry out machine learning using an abacus.\n",
    "```\n",
    "\n",
    "**Hint**: `str.replace`. \n"
   ]
  },
  {
   "cell_type": "code",
   "execution_count": 9,
   "metadata": {},
   "outputs": [
    {
     "name": "stdout",
     "output_type": "stream",
     "text": [
      "Tired\t : Doing data science on your calculator.\n",
      "Wired\t : Doing data science in Python.\n",
      "Inspired : Training literal pythons to carry out machine learning using an abacus.\n"
     ]
    }
   ],
   "source": [
    "# your solution here. \n",
    "s = a + '\\t : ' + aa + '\\n' + b + '\\t : ' + bb + '\\n' + c + ' : ' + cc \n",
    "temp1 = s.replace('math', 'data science')\n",
    "temp2 = temp1.replace('long division', 'machine learning')\n",
    "s = temp2 \n",
    "print(s)\n"
   ]
  },
  {
   "cell_type": "markdown",
   "metadata": {},
   "source": [
    "## Problem 2\n",
    "\n",
    "Write code which, given a list `L`, produces a dictionary `D` where: \n",
    "\n",
    "- The *keys* of `D` are the unique elements of `L` (i.e. each element of `L` appears only once). \n",
    "- The value `D[i]` is the number of times that `i` appears in list `L`. \n",
    "\n",
    "Demonstrate that your code works for lists of strings, lists of integers, and lists containing both strings and integers. (it's fine to copy and paste your code for this, although if you happen to know how to define functions then you might find that more efficient). \n",
    "\n",
    "For example: \n",
    "\n",
    "```python\n",
    "L = [\"a\", \"a\", \"b\", \"c\"]\n",
    "# your code here\n",
    "# ...\n",
    "D\n",
    "# output\n",
    "{\"a\" : 2, \"b\" : 1, \"c\" : 1}\n",
    "```"
   ]
  },
  {
   "cell_type": "markdown",
   "metadata": {},
   "source": [
    "## Solution"
   ]
  },
  {
   "cell_type": "code",
   "execution_count": 133,
   "metadata": {},
   "outputs": [
    {
     "name": "stdout",
     "output_type": "stream",
     "text": [
      "please input a list: a a a a b b c c c c d e e e\n",
      "{'a': 4, 'b': 2, 'c': 4, 'd': 1, 'e': 3}\n"
     ]
    }
   ],
   "source": [
    "A = input('please input a list: ')\n",
    "#L = A.replace(\" \",'')\n",
    "L = A.split()\n",
    "myList = [] #initialize empty list \n",
    "\n",
    "# go through the current list and create list for keys \n",
    "for x in range(len(L)):\n",
    "    if(L[x] not in myList):\n",
    "        myList.append(L[x])\n",
    "        \n",
    "        \n",
    "values = [] #empty list for values \n",
    "\n",
    "# go through list L and create list for values \n",
    "for x in range(len(myList)):\n",
    "    count = 0\n",
    "    \n",
    "    #for loop to check for values \n",
    "    for y in range(len(L)):\n",
    "        if L[y] == myList[x]:\n",
    "            count = count + 1 #increment \n",
    "            \n",
    "    values.append(count)\n",
    "            \n",
    "        \n",
    "\n",
    "#putting the two list together to make a dict \n",
    "D = {myList[i]:values[i] for i in range(len(myList))}\n",
    "\n",
    "\n",
    "print(D)"
   ]
  },
  {
   "cell_type": "markdown",
   "metadata": {},
   "source": [
    "\n"
   ]
  },
  {
   "cell_type": "markdown",
   "metadata": {},
   "source": [
    "# Problem 3\n",
    "\n",
    "The `input()` function allows you to accept typed input from a user as a string. For example, \n",
    "\n",
    "```python\n",
    "x = input(\"Please input a number.\")\n",
    "# user types 7\n",
    "x\n",
    "# output \n",
    "'7'\n",
    "```\n",
    "\n",
    "Write code that prompts a user to input an odd `int`. If the user inputs an even `int`, the code should re-prompt them for an odd integer. After the user has entered an odd integer, the code should print a list of all numbers that the user input. \n",
    "\n",
    "The code `int(\"1\")` will convert strings composed of numerals into integers. You may assume that the user will only input such strings. \n",
    "\n",
    "*Hint*: Try `while` and associated tools. \n",
    "\n",
    "### Example\n",
    "\n",
    "```python\n",
    "\n",
    "# your code\n",
    "\n",
    "> Please enter an integer.6\n",
    "> Please enter an integer.8\n",
    "> Please enter an integer.4\n",
    "> Please enter an integer.9\n",
    "> [6, 8, 4, 9]\n",
    "\n",
    "```\n",
    "\n",
    "## Solution"
   ]
  },
  {
   "cell_type": "code",
   "execution_count": 69,
   "metadata": {},
   "outputs": [
    {
     "name": "stdout",
     "output_type": "stream",
     "text": [
      "Note: Input an odd number to end the process\n",
      "Please enter an integer: 2\n",
      "Please enter an integer: 4\n",
      "Please enter an integer: 2\n",
      "Please enter an integer: 6\n",
      "Please enter an integer: 10\n",
      "Please enter an integer: 3\n",
      "[2, 4, 2, 6, 10, 3]\n"
     ]
    }
   ],
   "source": [
    "print('Note: Input an odd number to end the process')\n",
    "\n",
    "#initialize empty list\n",
    "newList = []\n",
    "\n",
    "#while loop \n",
    "while True:\n",
    "    num = input('Please enter an integer: ') #take input\n",
    "    num = int(num) #change from string to int\n",
    "    newList.append(num)\n",
    "    if num%2 == 1: #check if odd or even\n",
    "        break\n",
    "        \n",
    "print(newList)\n",
    "        "
   ]
  },
  {
   "cell_type": "markdown",
   "metadata": {},
   "source": [
    "## Problem 4"
   ]
  },
  {
   "cell_type": "markdown",
   "metadata": {},
   "source": [
    "Write list comprehensions which produce the specified list. Each list comprehension should fit on one line and be no longer than 80 characters. "
   ]
  },
  {
   "cell_type": "code",
   "execution_count": 82,
   "metadata": {},
   "outputs": [],
   "source": [
    "                                                                               # 80 characters\n"
   ]
  },
  {
   "cell_type": "markdown",
   "metadata": {},
   "source": [
    "## (a) \n",
    "\n",
    "A list of the first 10 [triangular numbers](https://en.wikipedia.org/wiki/Triangular_number). The $i$th triangular number is the sum of the integers up to and including $i$. For example, the sixth triangular number is \n",
    "\n",
    "$$1+2+3+4+5+6 = 21\\;.$$\n",
    "\n",
    "The first element in your list should be 1, and the last one should be 55. \n",
    "\n",
    "### Solution"
   ]
  },
  {
   "cell_type": "code",
   "execution_count": 9,
   "metadata": {},
   "outputs": [
    {
     "name": "stdout",
     "output_type": "stream",
     "text": [
      "[1.0, 3.0, 6.0, 10.0, 15.0, 21.0, 28.0, 36.0, 45.0, 55.0]\n"
     ]
    }
   ],
   "source": [
    "triNum = [(n*(n+1))/2 for n in range(1,11)]\n",
    "print(triNum)"
   ]
  },
  {
   "cell_type": "markdown",
   "metadata": {},
   "source": [
    "## (b)\n",
    "\n",
    "A list of the letters in a predefined string `s`, **except for vowels.** For the purposes of this example, an English vowel is any of the letters `[\"a\", \"e\", \"i\", \"o\", \"u\"]`. For example: \n",
    "\n",
    "```python\n",
    "s = \"make it so, number one\"\n",
    "# your code here\n",
    "# ...\n",
    "L\n",
    "# output\n",
    "[\"m\", \"k\", \"t\", \"s\", \"n\", \"m\", \"b\", \"r\", \"n\"]\n",
    "```\n",
    "You should also exclude spaces. It is ok to include punctuation.  \n",
    "\n",
    "*Hint:* Consider the following code: \n",
    "\n",
    "```python\n",
    "l = \"a\"\n",
    "l not in [\"e\", \"w\"]\n",
    "```\n",
    "\n",
    "### Solution"
   ]
  },
  {
   "cell_type": "code",
   "execution_count": 31,
   "metadata": {},
   "outputs": [
    {
     "name": "stdout",
     "output_type": "stream",
     "text": [
      "\"make it so, number one\"\n",
      "['m', 'k', 't', 's', 'n', 'm', 'b', 'r', 'n']\n"
     ]
    }
   ],
   "source": [
    "s = input()\n",
    "vowels = ['a','e','i','o','u']\n",
    "L = [n for n in s if n not in vowels and n.isalnum()]\n",
    "print(L)"
   ]
  },
  {
   "cell_type": "markdown",
   "metadata": {},
   "source": [
    "## (c)\n",
    "\n",
    "A list `L` whose elements are themselves lists. The `i`th element of `L` contains the powers of `X[i]` from `0` to `k`, where `X` is a list and `k` an integer that can be specified by the user. \n",
    "For example, \n",
    "\n",
    "```python\n",
    "X = [5, 6, 7]\n",
    "k = 2\n",
    "# your code here\n",
    "# ... \n",
    "L\n",
    "# output\n",
    "[[1, 5, 25], [1, 6, 36], [1, 7, 49]]\n",
    "```\n",
    "\n",
    "### Solution"
   ]
  },
  {
   "cell_type": "code",
   "execution_count": 53,
   "metadata": {},
   "outputs": [
    {
     "name": "stdout",
     "output_type": "stream",
     "text": [
      "Please input a list of numbers: 5 6 7\n",
      "Please input an exponent: 2\n",
      "[[1, 5, 25], [1, 6, 36], [1, 7, 49]]\n"
     ]
    }
   ],
   "source": [
    "X = input(\"Please input a list of numbers: \")\n",
    "X = X.split()\n",
    "X = [int(n) for n in X]\n",
    "k = int(input(\"Please input an exponent: \"))\n",
    "\n",
    "L = [[base**exp for exp in range(k+1)] for base in X]\n",
    "print(L)\n"
   ]
  },
  {
   "cell_type": "markdown",
   "metadata": {},
   "source": [
    "## (d)\n",
    "\n",
    "\n",
    "As in **(c)**, but now include only even powers of `X`. For example, \n",
    "\n",
    "```python\n",
    "X = [5, 6, 7]\n",
    "k = 8\n",
    "# your code here\n",
    "# ...\n",
    "L\n",
    "# output\n",
    "[[1, 25, 625, 15625, 390625],\n",
    " [1, 36, 1296, 46656, 1679616],\n",
    " [1, 49, 2401, 117649, 5764801]]\n",
    "```\n",
    "\n",
    "### Solution"
   ]
  },
  {
   "cell_type": "code",
   "execution_count": 54,
   "metadata": {},
   "outputs": [
    {
     "name": "stdout",
     "output_type": "stream",
     "text": [
      "Please input a list of numbers: 5 6 7\n",
      "Please input an exponent: 8\n",
      "[[1, 25, 625, 15625, 390625], [1, 36, 1296, 46656, 1679616], [1, 49, 2401, 117649, 5764801]]\n"
     ]
    }
   ],
   "source": [
    "X = input(\"Please input a list of numbers: \")\n",
    "X = X.split()\n",
    "X = [int(n) for n in X]\n",
    "k = int(input(\"Please input an exponent: \"))\n",
    "\n",
    "L = [[base**exp for exp in range(k+1) if exp%2 == 0] for base in X]\n",
    "print(L)\n"
   ]
  },
  {
   "cell_type": "markdown",
   "metadata": {},
   "source": [
    "# Problem 5\n",
    "\n",
    "In this problem, we'll simulate the *simple random walk*, perhaps the most important discrete-time stochastic process. Random walks are commonly used to model phenomena in physics,  chemistry, biology, and finance. In the simple random walk, at each timestep we flip a fair coin. If heads, we move foward one step; if tails, we move backwards. Let \"forwards\" be represented by positive integers, and \"backwards\" be represented by negative integers. For example, if we are currently three steps backwards from the starting point, our position is `-3`. \n",
    "\n",
    "Write code to simulate a random walk. Your code should: \n",
    "\n",
    "- Specify an upper and lower bound -- once the walk reaches one of these two numbers, the process terminates. \n",
    "- Keep a log of the results of the coin flips. \n",
    "- Keep a log of the position of the walk at each time step. \n",
    "- When the walk reaches the upper or lower bound, print a message and terminate the walk. \n",
    "\n",
    "To simulate a coin flip, run the following code once: \n",
    "\n",
    "```python \n",
    "import random\n",
    "```\n",
    "\n",
    "Then, you can let `x` be the value of a fairly flipped coin by writing:\n",
    "\n",
    "```python\n",
    "x = random.choice([\"heads\",\"tails\"])\n",
    "```\n",
    "\n",
    "You don't have to use `\"heads\"` and `\"tails\"` when using this function -- can you think of a more useful choice set?\n",
    "\n",
    "**Your code should include at least one instance of an `elif` statement and at least one instance of a `break` statement**. \n",
    "\n",
    "## Example\n",
    "\n",
    "\n",
    "\n",
    "```python\n",
    "import random\n",
    "\n",
    "upper_bound = 3\n",
    "lower_bound = -3\n",
    "\n",
    "# your code here\n",
    "# ...\n",
    "\n",
    "# message\n",
    "Upper bound at 3 reached\n",
    "\n",
    "positions \n",
    "# output\n",
    "[1, 2, 1, 2, 1, 0, 1, 2, 3]\n",
    "```\n",
    "\n",
    "Finally, you might be interested in visualizing the walk. Optionally, after your main code, run the following two lines to produce a plot. When the bounds are set very large, the resulting visualization can be quite intriguing and attractive. It is not necessary for you to understand the syntax of these commands at this stage. "
   ]
  },
  {
   "cell_type": "code",
   "execution_count": 102,
   "metadata": {},
   "outputs": [
    {
     "ename": "NameError",
     "evalue": "name 'positions' is not defined",
     "output_type": "error",
     "traceback": [
      "\u001b[0;31m---------------------------------------------------------------------------\u001b[0m",
      "\u001b[0;31mNameError\u001b[0m                                 Traceback (most recent call last)",
      "\u001b[0;32m<ipython-input-102-2544af150976>\u001b[0m in \u001b[0;36m<module>\u001b[0;34m\u001b[0m\n\u001b[1;32m      4\u001b[0m \u001b[0mlower_bound\u001b[0m \u001b[0;34m=\u001b[0m \u001b[0;34m-\u001b[0m\u001b[0;36m3\u001b[0m\u001b[0;34m\u001b[0m\u001b[0;34m\u001b[0m\u001b[0m\n\u001b[1;32m      5\u001b[0m \u001b[0;32mfrom\u001b[0m \u001b[0mmatplotlib\u001b[0m \u001b[0;32mimport\u001b[0m \u001b[0mpyplot\u001b[0m \u001b[0;32mas\u001b[0m \u001b[0mplt\u001b[0m\u001b[0;34m\u001b[0m\u001b[0;34m\u001b[0m\u001b[0m\n\u001b[0;32m----> 6\u001b[0;31m \u001b[0mplt\u001b[0m\u001b[0;34m.\u001b[0m\u001b[0mplot\u001b[0m\u001b[0;34m(\u001b[0m\u001b[0mpositions\u001b[0m\u001b[0;34m)\u001b[0m\u001b[0;34m\u001b[0m\u001b[0;34m\u001b[0m\u001b[0m\n\u001b[0m",
      "\u001b[0;31mNameError\u001b[0m: name 'positions' is not defined"
     ]
    }
   ],
   "source": [
    "from matplotlib import pyplot as plt\n",
    "plt.plot(positions)"
   ]
  },
  {
   "cell_type": "markdown",
   "metadata": {},
   "source": [
    "## Solution"
   ]
  },
  {
   "cell_type": "code",
   "execution_count": 6,
   "metadata": {},
   "outputs": [
    {
     "name": "stdout",
     "output_type": "stream",
     "text": [
      "Upper Bound: 3\n",
      "Lower Bound: -3\n",
      "\n",
      "Lower bound at -3 reached!\n",
      "Positions:\n",
      "[1, 0, -1, -2, -1, -2, -3]\n"
     ]
    }
   ],
   "source": [
    "import random\n",
    "\n",
    "upper_bound = int(input('Upper Bound: '))\n",
    "lower_bound = int(input('Lower Bound: '))\n",
    "\n",
    "step = 0 #by default \n",
    "stepList = [] #initialize list \n",
    "\n",
    "while True:\n",
    "    #generate random choice\n",
    "    x = random.choice(['0','1'])\n",
    "    \n",
    "    #check if moving up or down\n",
    "    if x == '1':\n",
    "        step += 1\n",
    "    elif x == '0':\n",
    "        step -= 1\n",
    "    \n",
    "    stepList.append(step)\n",
    "    \n",
    "    if step == upper_bound:\n",
    "        print('\\nUpper bound at ' + str(upper_bound) + ' reached!')\n",
    "        break\n",
    "    elif step == lower_bound:\n",
    "        print('\\nLower bound at ' + str(lower_bound) + ' reached!')\n",
    "        break\n",
    "        \n",
    "\n",
    "print('Positions:')\n",
    "print(stepList)\n",
    "\n"
   ]
  },
  {
   "cell_type": "code",
   "execution_count": null,
   "metadata": {},
   "outputs": [],
   "source": []
  },
  {
   "cell_type": "code",
   "execution_count": null,
   "metadata": {},
   "outputs": [],
   "source": []
  }
 ],
 "metadata": {
  "kernelspec": {
   "display_name": "Python 3",
   "language": "python",
   "name": "python3"
  },
  "language_info": {
   "codemirror_mode": {
    "name": "ipython",
    "version": 3
   },
   "file_extension": ".py",
   "mimetype": "text/x-python",
   "name": "python",
   "nbconvert_exporter": "python",
   "pygments_lexer": "ipython3",
   "version": "3.8.5"
  }
 },
 "nbformat": 4,
 "nbformat_minor": 4
}
