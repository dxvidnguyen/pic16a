{
 "cells": [
  {
   "cell_type": "code",
   "execution_count": null,
   "metadata": {},
   "outputs": [],
   "source": [
    "#tree\n",
    "best_depth, best_score = tree_best_depth()\n",
    "print(\"training score: \" + str(best_score))\n",
    "\n",
    "#decision tree model\n",
    "T = tree.DecisionTreeClassifier(max_depth = best_depth)\n",
    "T.fit(X_train, y_train)\n",
    "tree_score = T.score(X_test, y_test)\n",
    "\n",
    "#logistic regression\n",
    "best_comp, best_score = best_complex()\n",
    "print(\"training score: \" + str(best_score))\n",
    "\n",
    "#training lr model\n",
    "lr = LogisticRegression(max_iter = 1000, C = best_comp)\n",
    "lr.fit(X_train, y_train)\n",
    "lr_score = lr.score(X_test, y_test)\n",
    "\n",
    "#multilayer perception model\n",
    "mlp_best_score, mlp_best_depth = mlp_depth()\n",
    "print(\"training score: \" + str(mlp_best_score))\n",
    "\n",
    "clf = MLPClassifier(hidden_layer_sizes=(18, 18, 18), max_iter=3000).fit(X_train, y_train)\n",
    "mlp_score = clf.score(X_test, y_test)"
   ]
  }
 ],
 "metadata": {
  "kernelspec": {
   "display_name": "Python 3",
   "language": "python",
   "name": "python3"
  },
  "language_info": {
   "codemirror_mode": {
    "name": "ipython",
    "version": 3
   },
   "file_extension": ".py",
   "mimetype": "text/x-python",
   "name": "python",
   "nbconvert_exporter": "python",
   "pygments_lexer": "ipython3",
   "version": "3.8.5"
  }
 },
 "nbformat": 4,
 "nbformat_minor": 4
}
