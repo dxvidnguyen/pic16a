{
 "cells": [
  {
   "cell_type": "code",
   "execution_count": null,
   "metadata": {},
   "outputs": [],
   "source": [
    "#import libraries\n",
    "import pandas as pd\n",
    "import numpy as np\n",
    "from matplotlib import pyplot as plt\n",
    "from sklearn import tree, preprocessing, metrics\n",
    "from sklearn.model_selection import train_test_split, cross_val_score\n",
    "from sklearn.linear_model import LogisticRegression, LogisticRegressionCV\n",
    "from sklearn.metrics import roc_auc_score, roc_curve\n",
    "from sklearn.feature_selection import f_classif\n",
    "from sklearn.neural_network import MLPClassifier\n",
    "from sklearn.metrics import confusion_matrix\n",
    "from sklearn.metrics import plot_confusion_matrix\n",
    "import itertools"
   ]
  },
  {
   "cell_type": "code",
   "execution_count": null,
   "metadata": {},
   "outputs": [],
   "source": [
    "#penguins data\n",
    "url = \"https://philchodrow.github.io/PIC16A/datasets/palmer_penguins.csv\"\n",
    "penguins = pd.read_csv(url)\n",
    "\n",
    "#dropping columns: studyName, Individual ID, Date Egg, Sample Number\n",
    "pdata = penguins.drop(['studyName', 'Individual ID', 'Date Egg', 'Region', 'Sample Number', 'Comments'], axis = 1)\n",
    "\n",
    "#drop nan values\n",
    "mydata = pdata.dropna()\n",
    "\n",
    "#get rid of penguin with period for sex\n",
    "data = mydata.drop(mydata.index[318])\n",
    "\n",
    "#transforming cols that are not floats and ints\n",
    "le = preprocessing.LabelEncoder()\n",
    "\n",
    "#species \n",
    "data['Species'] = le.fit_transform(data['Species'])\n",
    "#island\n",
    "data['Island'] = le.fit_transform(data['Island'])\n",
    "#stage\n",
    "data['Stage'] = le.fit_transform(data['Stage'])\n",
    "#clutch competition\n",
    "data['Clutch Completion'] = le.fit_transform(data['Clutch Completion'])\n",
    "#sex\n",
    "data['Sex'] = le.fit_transform(data['Sex'])\n",
    "\n",
    "data.head(10)"
   ]
  },
  {
   "cell_type": "code",
   "execution_count": null,
   "metadata": {},
   "outputs": [],
   "source": [
    "#getting all possible combinations\n",
    "names = list(data.columns)[1:]\n",
    "combos = list(itertools.combinations(names, 3))\n",
    "combos"
   ]
  }
 ],
 "metadata": {
  "kernelspec": {
   "display_name": "Python 3",
   "language": "python",
   "name": "python3"
  },
  "language_info": {
   "codemirror_mode": {
    "name": "ipython",
    "version": 3
   },
   "file_extension": ".py",
   "mimetype": "text/x-python",
   "name": "python",
   "nbconvert_exporter": "python",
   "pygments_lexer": "ipython3",
   "version": "3.8.5"
  }
 },
 "nbformat": 4,
 "nbformat_minor": 4
}
