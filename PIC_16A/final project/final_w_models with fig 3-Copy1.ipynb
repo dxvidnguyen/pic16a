{
 "cells": [
  {
   "cell_type": "code",
   "execution_count": 64,
   "metadata": {},
   "outputs": [],
   "source": [
    "#import libraries\n",
    "import pandas as pd\n",
    "import numpy as np\n",
    "from matplotlib import pyplot as plt\n",
    "from sklearn import tree, preprocessing, metrics\n",
    "from sklearn.model_selection import train_test_split, cross_val_score\n",
    "from sklearn.linear_model import LogisticRegression, LogisticRegressionCV\n",
    "from sklearn.metrics import roc_auc_score, roc_curve\n",
    "from sklearn.feature_selection import f_classif\n",
    "from sklearn.neural_network import MLPClassifier\n",
    "from sklearn.metrics import confusion_matrix\n",
    "from sklearn.metrics import plot_confusion_matrix\n",
    "from itertools import combinations, product\n",
    "from statistics import mean\n",
    "from sklearn.feature_selection import f_classif\n",
    "import itertools"
   ]
  },
  {
   "cell_type": "markdown",
   "metadata": {},
   "source": [
    "First, we will read in and clean the data. "
   ]
  },
  {
   "cell_type": "code",
   "execution_count": 65,
   "metadata": {},
   "outputs": [],
   "source": [
    "def clean_data(penguins):\n",
    "    \"\"\"\n",
    "    Cleans the penguins data. \n",
    "    \"\"\"\n",
    "    # Dropping unneeded columns and rows\n",
    "    penguins = penguins.drop(['studyName', 'Sample Number', 'Individual ID', \n",
    "                              'Date Egg', 'Comments', 'Region'], axis = 1)\n",
    "    penguins = penguins.dropna()\n",
    "\n",
    "    # Recoding and cleaning Sex column\n",
    "    recode1 = {\"MALE\"  : 0, \"FEMALE\" : 1, \".\" : 2}\n",
    "    penguins[\"Sex\"] = penguins[\"Sex\"].map(recode1)\n",
    "    penguins = penguins[penguins['Sex'] != 2]\n",
    "\n",
    "    # Recoding Island column\n",
    "    recode2 = {'Biscoe'  : 0, 'Dream' : 1, 'Torgersen'  : 3}\n",
    "    penguins[\"Island\"] = penguins[\"Island\"].map(recode2)\n",
    "    \n",
    "    # Cleaning species column\n",
    "    penguins[\"Species\"] = penguins[\"Species\"].str.split().str.get(0)\n",
    "    \n",
    "    le = preprocessing.LabelEncoder()\n",
    "    #stage\n",
    "    penguins['Stage'] = le.fit_transform(penguins['Stage'])\n",
    "    #clutch competition\n",
    "    penguins['Clutch Completion'] = le.fit_transform(penguins['Clutch Completion'])\n",
    "\n",
    "    \n",
    "    return penguins"
   ]
  },
  {
   "cell_type": "code",
   "execution_count": 66,
   "metadata": {},
   "outputs": [],
   "source": [
    "url = \"https://philchodrow.github.io/PIC16A/datasets/palmer_penguins.csv\"\n",
    "penguins = pd.read_csv(url)\n",
    "myData = penguins\n",
    "penguins = clean_data(penguins)\n"
   ]
  },
  {
   "cell_type": "code",
   "execution_count": 67,
   "metadata": {},
   "outputs": [
    {
     "data": {
      "text/html": [
       "<div>\n",
       "<style scoped>\n",
       "    .dataframe tbody tr th:only-of-type {\n",
       "        vertical-align: middle;\n",
       "    }\n",
       "\n",
       "    .dataframe tbody tr th {\n",
       "        vertical-align: top;\n",
       "    }\n",
       "\n",
       "    .dataframe thead th {\n",
       "        text-align: right;\n",
       "    }\n",
       "</style>\n",
       "<table border=\"1\" class=\"dataframe\">\n",
       "  <thead>\n",
       "    <tr style=\"text-align: right;\">\n",
       "      <th></th>\n",
       "      <th>Species</th>\n",
       "      <th>Island</th>\n",
       "      <th>Stage</th>\n",
       "      <th>Clutch Completion</th>\n",
       "      <th>Culmen Length (mm)</th>\n",
       "      <th>Culmen Depth (mm)</th>\n",
       "      <th>Flipper Length (mm)</th>\n",
       "      <th>Body Mass (g)</th>\n",
       "      <th>Sex</th>\n",
       "      <th>Delta 15 N (o/oo)</th>\n",
       "      <th>Delta 13 C (o/oo)</th>\n",
       "    </tr>\n",
       "  </thead>\n",
       "  <tbody>\n",
       "    <tr>\n",
       "      <th>1</th>\n",
       "      <td>Adelie</td>\n",
       "      <td>3</td>\n",
       "      <td>0</td>\n",
       "      <td>1</td>\n",
       "      <td>39.5</td>\n",
       "      <td>17.4</td>\n",
       "      <td>186.0</td>\n",
       "      <td>3800.0</td>\n",
       "      <td>1</td>\n",
       "      <td>8.94956</td>\n",
       "      <td>-24.69454</td>\n",
       "    </tr>\n",
       "    <tr>\n",
       "      <th>2</th>\n",
       "      <td>Adelie</td>\n",
       "      <td>3</td>\n",
       "      <td>0</td>\n",
       "      <td>1</td>\n",
       "      <td>40.3</td>\n",
       "      <td>18.0</td>\n",
       "      <td>195.0</td>\n",
       "      <td>3250.0</td>\n",
       "      <td>1</td>\n",
       "      <td>8.36821</td>\n",
       "      <td>-25.33302</td>\n",
       "    </tr>\n",
       "    <tr>\n",
       "      <th>4</th>\n",
       "      <td>Adelie</td>\n",
       "      <td>3</td>\n",
       "      <td>0</td>\n",
       "      <td>1</td>\n",
       "      <td>36.7</td>\n",
       "      <td>19.3</td>\n",
       "      <td>193.0</td>\n",
       "      <td>3450.0</td>\n",
       "      <td>1</td>\n",
       "      <td>8.76651</td>\n",
       "      <td>-25.32426</td>\n",
       "    </tr>\n",
       "    <tr>\n",
       "      <th>5</th>\n",
       "      <td>Adelie</td>\n",
       "      <td>3</td>\n",
       "      <td>0</td>\n",
       "      <td>1</td>\n",
       "      <td>39.3</td>\n",
       "      <td>20.6</td>\n",
       "      <td>190.0</td>\n",
       "      <td>3650.0</td>\n",
       "      <td>0</td>\n",
       "      <td>8.66496</td>\n",
       "      <td>-25.29805</td>\n",
       "    </tr>\n",
       "    <tr>\n",
       "      <th>6</th>\n",
       "      <td>Adelie</td>\n",
       "      <td>3</td>\n",
       "      <td>0</td>\n",
       "      <td>0</td>\n",
       "      <td>38.9</td>\n",
       "      <td>17.8</td>\n",
       "      <td>181.0</td>\n",
       "      <td>3625.0</td>\n",
       "      <td>1</td>\n",
       "      <td>9.18718</td>\n",
       "      <td>-25.21799</td>\n",
       "    </tr>\n",
       "  </tbody>\n",
       "</table>\n",
       "</div>"
      ],
      "text/plain": [
       "  Species  Island  Stage  Clutch Completion  Culmen Length (mm)  \\\n",
       "1  Adelie       3      0                  1                39.5   \n",
       "2  Adelie       3      0                  1                40.3   \n",
       "4  Adelie       3      0                  1                36.7   \n",
       "5  Adelie       3      0                  1                39.3   \n",
       "6  Adelie       3      0                  0                38.9   \n",
       "\n",
       "   Culmen Depth (mm)  Flipper Length (mm)  Body Mass (g)  Sex  \\\n",
       "1               17.4                186.0         3800.0    1   \n",
       "2               18.0                195.0         3250.0    1   \n",
       "4               19.3                193.0         3450.0    1   \n",
       "5               20.6                190.0         3650.0    0   \n",
       "6               17.8                181.0         3625.0    1   \n",
       "\n",
       "   Delta 15 N (o/oo)  Delta 13 C (o/oo)  \n",
       "1            8.94956          -24.69454  \n",
       "2            8.36821          -25.33302  \n",
       "4            8.76651          -25.32426  \n",
       "5            8.66496          -25.29805  \n",
       "6            9.18718          -25.21799  "
      ]
     },
     "execution_count": 67,
     "metadata": {},
     "output_type": "execute_result"
    }
   ],
   "source": [
    "penguins.head()"
   ]
  },
  {
   "cell_type": "markdown",
   "metadata": {},
   "source": [
    "# Exploratory Figures and Table\n",
    "In this next section, we are going to use tables and figures to get a first look into seeing what columns we might want to use to train our model."
   ]
  },
  {
   "cell_type": "markdown",
   "metadata": {},
   "source": [
    "## Figure 1"
   ]
  },
  {
   "cell_type": "code",
   "execution_count": 68,
   "metadata": {},
   "outputs": [
    {
     "data": {
      "text/plain": [
       "Text(0.5, 0.98, 'Culmen Depth vs Culmen Length')"
      ]
     },
     "execution_count": 68,
     "metadata": {},
     "output_type": "execute_result"
    },
    {
     "data": {
      "image/png": "[encoded data removed]",
      "text/plain": [
       "<Figure size 432x288 with 1 Axes>"
      ]
     },
     "metadata": {
      "needs_background": "light"
     },
     "output_type": "display_data"
    }
   ],
   "source": [
    "fig, ax = plt.subplots(1)\n",
    "species = set(penguins['Species'])\n",
    "\n",
    "for s in species:\n",
    "    i = penguins[penguins['Species'] == s]\n",
    "    ax.scatter(i['Culmen Length (mm)'], i['Culmen Depth (mm)'], label = s)\n",
    "    \n",
    "ax.legend()\n",
    "\n",
    "ax.set(xlabel = 'Culmen Length (mm)',\n",
    "       ylabel = 'Culmen Depth (mm)')\n",
    "\n",
    "fig.suptitle('Culmen Depth vs Culmen Length', fontsize=15)"
   ]
  },
  {
   "cell_type": "markdown",
   "metadata": {},
   "source": [
    "This scatter plot tells us that culmen depth and culmen length correlation for each species. We can see that relative to the other penguins, the Chinstrap penguins have a high culmen length and depth, Gentoo penguins have a low culmen depth but high culmen length, and the Adelie penguins have a high culmen depth but low culmen length. This figure shows us that culmen depth and culmen length may good columns to use as there each species is grouped up and can be somewhat separated with these two qualities. "
   ]
  },
  {
   "cell_type": "markdown",
   "metadata": {},
   "source": [
    "## Figure 2"
   ]
  },
  {
   "cell_type": "code",
   "execution_count": 69,
   "metadata": {},
   "outputs": [
    {
     "data": {
      "text/html": [
       "<div>\n",
       "<style scoped>\n",
       "    .dataframe tbody tr th:only-of-type {\n",
       "        vertical-align: middle;\n",
       "    }\n",
       "\n",
       "    .dataframe tbody tr th {\n",
       "        vertical-align: top;\n",
       "    }\n",
       "\n",
       "    .dataframe thead th {\n",
       "        text-align: right;\n",
       "    }\n",
       "</style>\n",
       "<table border=\"1\" class=\"dataframe\">\n",
       "  <thead>\n",
       "    <tr style=\"text-align: right;\">\n",
       "      <th></th>\n",
       "    </tr>\n",
       "  </thead>\n",
       "  <tbody>\n",
       "  </tbody>\n",
       "</table>\n",
       "</div>"
      ],
      "text/plain": [
       "Empty DataFrame\n",
       "Columns: []\n",
       "Index: []"
      ]
     },
     "execution_count": 69,
     "metadata": {},
     "output_type": "execute_result"
    },
    {
     "data": {
      "image/png": "[encoded data removed]",
      "text/plain": [
       "<Figure size 432x288 with 1 Axes>"
      ]
     },
     "metadata": {
      "needs_background": "light"
     },
     "output_type": "display_data"
    }
   ],
   "source": [
    "fig, ax = plt.subplots(1)\n",
    "\n",
    "def plot_box(df):\n",
    "    ax.boxplot(df['Flipper Length (mm)'])\n",
    "\n",
    "penguins.groupby(\"Species\").apply(plot_box)"
   ]
  },
  {
   "cell_type": "code",
   "execution_count": 70,
   "metadata": {},
   "outputs": [
    {
     "data": {
      "image/png": "[encoded data removed]",
      "text/plain": [
       "<Figure size 432x288 with 1 Axes>"
      ]
     },
     "metadata": {
      "needs_background": "light"
     },
     "output_type": "display_data"
    }
   ],
   "source": [
    "ad = penguins[penguins[\"Species\"] == \"Adelie\"][\"Flipper Length (mm)\"] # 190\n",
    "ch = penguins[penguins[\"Species\"] == \"Chinstrap\"][\"Flipper Length (mm)\"] # 2\n",
    "ge = penguins[penguins[\"Species\"] == \"Gentoo\"][\"Flipper Length (mm)\"] # 3, tallest\n",
    "\n",
    "fig, ax = plt.subplots(1)\n",
    "\n",
    "bp = ax.boxplot([ad, ch, ge])\n",
    "l = ax.set(ylabel = \"Flipper Length\", title = \"Flipper Length by Species\")\n",
    "xl = plt.xticks([1, 2, 3], [\"Adelie\", \"Chinstrap\", \"Gentoo\"])"
   ]
  },
  {
   "cell_type": "markdown",
   "metadata": {},
   "source": [
    "Though we ended up using the column combination of Island, Culmen Length, and Culmen Depth, as the output of the top 10 best column combinations showed, there were other options that we could have chosen. One of the columns that showed up repeatedly as a good predictors of species (that we did not end up using) was Flipper Length. In this boxplot graph, I examined how well Flipper Length can predict Species. As you can see in the results, knowing a penguin's flipper length can likely help in determining whether or not a penguin is of the Gentoo species. However, Flipper Length would not be that helpful in determining whether or not a pegnuin belongs to the Adelie or Chinstrap species.  "
   ]
  },
  {
   "cell_type": "markdown",
   "metadata": {},
   "source": [
    "## Figure 3"
   ]
  },
  {
   "cell_type": "code",
   "execution_count": 71,
   "metadata": {},
   "outputs": [
    {
     "data": {
      "text/plain": [
       "<matplotlib.legend.Legend at 0x7fdc7b582430>"
      ]
     },
     "execution_count": 71,
     "metadata": {},
     "output_type": "execute_result"
    },
    {
     "data": {
      "image/png": "[encoded data removed]",
      "text/plain": [
       "<Figure size 432x288 with 1 Axes>"
      ]
     },
     "metadata": {
      "needs_background": "light"
     },
     "output_type": "display_data"
    }
   ],
   "source": [
    "myData[\"Species\"] = myData[\"Species\"].str.split().str.get(0)\n",
    "\n",
    "fig.set_figheight(15)\n",
    "fig.set_figwidth(10)\n",
    "\n",
    "fig, ax = plt.subplots(1)\n",
    "species = set(myData['Species'])\n",
    "location = set(myData['Island'])\n",
    "\n",
    "ax.set(xlabel = 'Flipper Length', \n",
    "       ylabel = 'Density', \n",
    "       title = 'Species by Island and Flipper Length')\n",
    "\n",
    "for s in species: \n",
    "    i = myData[myData['Species'] == s]\n",
    "    for l in location:\n",
    "        t = i[i['Island'] == l]\n",
    "        ax.hist(t['Flipper Length (mm)'], label = str(s) + ', ' + str(l) , alpha = 0.5)\n",
    "        ax.set_xlim([160,240])\n",
    "\n",
    "ax.legend()"
   ]
  },
  {
   "cell_type": "markdown",
   "metadata": {},
   "source": [
    "This graph shows us the correlation between the flipper length of each species on seperated by island. However this graph is really convoluted and we cannot see the data clearly."
   ]
  },
  {
   "cell_type": "code",
   "execution_count": 72,
   "metadata": {},
   "outputs": [
    {
     "data": {
      "image/png": "[encoded data removed]",
      "text/plain": [
       "<Figure size 720x1080 with 3 Axes>"
      ]
     },
     "metadata": {
      "needs_background": "light"
     },
     "output_type": "display_data"
    }
   ],
   "source": [
    "fig, ax = plt.subplots(3)\n",
    "species = set(myData['Species'])\n",
    "location = set(myData['Island'])\n",
    "\n",
    "fig.set_figheight(15)\n",
    "fig.set_figwidth(10)\n",
    "\n",
    "count = 0\n",
    "for l in location: \n",
    "   \n",
    "    for s in species:\n",
    "        i = myData[myData['Species'] == s]\n",
    "        t = i[i['Island'] == l]\n",
    "        ax[count].hist(t['Flipper Length (mm)'], label = str(s), alpha = 0.65)\n",
    "    ax[count].legend()\n",
    "    ax[count].set(xlabel = 'Flipper Length (mm)', ylabel = 'Density')\n",
    "    ax[count].set_title(str(l) + ' Island')\n",
    "    ax[count].set_xlim([160,240])\n",
    "    count += 1\n",
    "plt.tight_layout()"
   ]
  },
  {
   "cell_type": "markdown",
   "metadata": {},
   "source": [
    "When we seperate the penguins by island, we are able to get a clearer view of what penguin is where. We can see that Adelie penguin is on all 3 islands. However the Chinstrap is only on Dream island, and the Gentoo is only on Biscoe. As the Adelie is on all 3 islands, we can see that its flipper length remains the relatively the same on each island. However, factors such as competition will cause changes the bell curve. There is more of a spread on Biscoe where the Adelie must compete with the larger Gentoo. We can also see that the Adelie and Chinstrap have are similar in size so the bell curve remains tight. These graphs can tell us that island may be able to help us predict the species. The flipper length will also be able to help differentiate the Gentoo from the other two but the Adelie and Chinstrap are relatively the same size. "
   ]
  },
  {
   "cell_type": "markdown",
   "metadata": {},
   "source": [
    "## Table Part 1"
   ]
  },
  {
   "cell_type": "code",
   "execution_count": 73,
   "metadata": {},
   "outputs": [
    {
     "data": {
      "text/html": [
       "<div>\n",
       "<style scoped>\n",
       "    .dataframe tbody tr th:only-of-type {\n",
       "        vertical-align: middle;\n",
       "    }\n",
       "\n",
       "    .dataframe tbody tr th {\n",
       "        vertical-align: top;\n",
       "    }\n",
       "\n",
       "    .dataframe thead th {\n",
       "        text-align: right;\n",
       "    }\n",
       "</style>\n",
       "<table border=\"1\" class=\"dataframe\">\n",
       "  <thead>\n",
       "    <tr style=\"text-align: right;\">\n",
       "      <th></th>\n",
       "      <th>Stage</th>\n",
       "      <th>Clutch Completion</th>\n",
       "      <th>Sex</th>\n",
       "      <th>Body Mass (g)</th>\n",
       "    </tr>\n",
       "  </thead>\n",
       "  <tbody>\n",
       "    <tr>\n",
       "      <th>count</th>\n",
       "      <td>324.0</td>\n",
       "      <td>324.000000</td>\n",
       "      <td>324.000000</td>\n",
       "      <td>324.000000</td>\n",
       "    </tr>\n",
       "    <tr>\n",
       "      <th>mean</th>\n",
       "      <td>0.0</td>\n",
       "      <td>0.895062</td>\n",
       "      <td>0.503086</td>\n",
       "      <td>4213.966049</td>\n",
       "    </tr>\n",
       "    <tr>\n",
       "      <th>std</th>\n",
       "      <td>0.0</td>\n",
       "      <td>0.306948</td>\n",
       "      <td>0.500764</td>\n",
       "      <td>809.277529</td>\n",
       "    </tr>\n",
       "    <tr>\n",
       "      <th>min</th>\n",
       "      <td>0.0</td>\n",
       "      <td>0.000000</td>\n",
       "      <td>0.000000</td>\n",
       "      <td>2700.000000</td>\n",
       "    </tr>\n",
       "    <tr>\n",
       "      <th>25%</th>\n",
       "      <td>0.0</td>\n",
       "      <td>1.000000</td>\n",
       "      <td>0.000000</td>\n",
       "      <td>3550.000000</td>\n",
       "    </tr>\n",
       "    <tr>\n",
       "      <th>50%</th>\n",
       "      <td>0.0</td>\n",
       "      <td>1.000000</td>\n",
       "      <td>1.000000</td>\n",
       "      <td>4050.000000</td>\n",
       "    </tr>\n",
       "    <tr>\n",
       "      <th>75%</th>\n",
       "      <td>0.0</td>\n",
       "      <td>1.000000</td>\n",
       "      <td>1.000000</td>\n",
       "      <td>4800.000000</td>\n",
       "    </tr>\n",
       "    <tr>\n",
       "      <th>max</th>\n",
       "      <td>0.0</td>\n",
       "      <td>1.000000</td>\n",
       "      <td>1.000000</td>\n",
       "      <td>6300.000000</td>\n",
       "    </tr>\n",
       "  </tbody>\n",
       "</table>\n",
       "</div>"
      ],
      "text/plain": [
       "       Stage  Clutch Completion         Sex  Body Mass (g)\n",
       "count  324.0         324.000000  324.000000     324.000000\n",
       "mean     0.0           0.895062    0.503086    4213.966049\n",
       "std      0.0           0.306948    0.500764     809.277529\n",
       "min      0.0           0.000000    0.000000    2700.000000\n",
       "25%      0.0           1.000000    0.000000    3550.000000\n",
       "50%      0.0           1.000000    1.000000    4050.000000\n",
       "75%      0.0           1.000000    1.000000    4800.000000\n",
       "max      0.0           1.000000    1.000000    6300.000000"
      ]
     },
     "execution_count": 73,
     "metadata": {},
     "output_type": "execute_result"
    }
   ],
   "source": [
    "my_col = penguins[[ 'Species','Stage', 'Clutch Completion', 'Sex', 'Body Mass (g)']]\n",
    "my_col.describe()"
   ]
  },
  {
   "cell_type": "markdown",
   "metadata": {},
   "source": [
    "In this table, we are looking at the chart characteristics \"Stage\", \"Clutch Completion\", \"Sex\", \"Body Mass(g)\". From this chart we can sese that the column \"Stage\" would be a terrible factor to consider as it does not provide any data to help differentiate the species. The min and max are the same value. This means the only value in the column is the value 0, which represents the adult penguins. This column only shows that all the penguins are adults and does not help differentiate the species. For sex, it seems that the amount of male and female penguins is evenly distributed and that shows none of the penguin species are skewed a certain way. From this, we could conclude that sex would not be a good factor to include in our comparison. For clutch completion the data binarized and it does seem to be skewed toward. This might show that one species may have a high clutch completion. Therefore, compared to the other factors, this would be a stronger indicator of species. Last we have the body mass. The body mass might be the best indicator because it has the highest standard deviation. We can assume that this is due to the different species being different sizes. The body mass column is different from the other columns as the data is numerical and not just binarized. The more nunanced information will allow our models to be more specific. Overall, from this table we can infer that body mass and clutch completition will be strong indicators of species while stage and sex will not be as helpful. "
   ]
  },
  {
   "cell_type": "markdown",
   "metadata": {},
   "source": [
    "## Table Part 2"
   ]
  },
  {
   "cell_type": "code",
   "execution_count": 74,
   "metadata": {},
   "outputs": [
    {
     "data": {
      "text/html": [
       "<div>\n",
       "<style scoped>\n",
       "    .dataframe tbody tr th:only-of-type {\n",
       "        vertical-align: middle;\n",
       "    }\n",
       "\n",
       "    .dataframe tbody tr th {\n",
       "        vertical-align: top;\n",
       "    }\n",
       "\n",
       "    .dataframe thead tr th {\n",
       "        text-align: left;\n",
       "    }\n",
       "\n",
       "    .dataframe thead tr:last-of-type th {\n",
       "        text-align: right;\n",
       "    }\n",
       "</style>\n",
       "<table border=\"1\" class=\"dataframe\">\n",
       "  <thead>\n",
       "    <tr>\n",
       "      <th></th>\n",
       "      <th colspan=\"2\" halign=\"left\">Stage</th>\n",
       "      <th colspan=\"2\" halign=\"left\">Clutch Completion</th>\n",
       "      <th colspan=\"2\" halign=\"left\">Sex</th>\n",
       "      <th colspan=\"2\" halign=\"left\">Body Mass (g)</th>\n",
       "    </tr>\n",
       "    <tr>\n",
       "      <th></th>\n",
       "      <th>mean</th>\n",
       "      <th>std</th>\n",
       "      <th>mean</th>\n",
       "      <th>std</th>\n",
       "      <th>mean</th>\n",
       "      <th>std</th>\n",
       "      <th>mean</th>\n",
       "      <th>std</th>\n",
       "    </tr>\n",
       "    <tr>\n",
       "      <th>Species</th>\n",
       "      <th></th>\n",
       "      <th></th>\n",
       "      <th></th>\n",
       "      <th></th>\n",
       "      <th></th>\n",
       "      <th></th>\n",
       "      <th></th>\n",
       "      <th></th>\n",
       "    </tr>\n",
       "  </thead>\n",
       "  <tbody>\n",
       "    <tr>\n",
       "      <th>Adelie</th>\n",
       "      <td>0</td>\n",
       "      <td>0.0</td>\n",
       "      <td>0.906475</td>\n",
       "      <td>0.292220</td>\n",
       "      <td>0.510791</td>\n",
       "      <td>0.501691</td>\n",
       "      <td>3702.697842</td>\n",
       "      <td>460.167844</td>\n",
       "    </tr>\n",
       "    <tr>\n",
       "      <th>Chinstrap</th>\n",
       "      <td>0</td>\n",
       "      <td>0.0</td>\n",
       "      <td>0.791045</td>\n",
       "      <td>0.409631</td>\n",
       "      <td>0.507463</td>\n",
       "      <td>0.503718</td>\n",
       "      <td>3729.850746</td>\n",
       "      <td>386.300411</td>\n",
       "    </tr>\n",
       "    <tr>\n",
       "      <th>Gentoo</th>\n",
       "      <td>0</td>\n",
       "      <td>0.0</td>\n",
       "      <td>0.940678</td>\n",
       "      <td>0.237234</td>\n",
       "      <td>0.491525</td>\n",
       "      <td>0.502060</td>\n",
       "      <td>5091.101695</td>\n",
       "      <td>503.402158</td>\n",
       "    </tr>\n",
       "  </tbody>\n",
       "</table>\n",
       "</div>"
      ],
      "text/plain": [
       "          Stage      Clutch Completion                 Sex            \\\n",
       "           mean  std              mean       std      mean       std   \n",
       "Species                                                                \n",
       "Adelie        0  0.0          0.906475  0.292220  0.510791  0.501691   \n",
       "Chinstrap     0  0.0          0.791045  0.409631  0.507463  0.503718   \n",
       "Gentoo        0  0.0          0.940678  0.237234  0.491525  0.502060   \n",
       "\n",
       "          Body Mass (g)              \n",
       "                   mean         std  \n",
       "Species                              \n",
       "Adelie      3702.697842  460.167844  \n",
       "Chinstrap   3729.850746  386.300411  \n",
       "Gentoo      5091.101695  503.402158  "
      ]
     },
     "execution_count": 74,
     "metadata": {},
     "output_type": "execute_result"
    }
   ],
   "source": [
    "my_col.groupby('Species').aggregate([np.mean, np.std])"
   ]
  },
  {
   "cell_type": "markdown",
   "metadata": {},
   "source": [
    "The table above is similar to the previous table as we are looking at some statistics about the \"Stage\", \"Clutch Completion\", \"Sex\", \"Body Mass(g)\" columns. However here we have the data grouped by the species. The table above supports our some previous inferences. This table repeats that the stage shows no data at all as all penguins are at the same stage of life. The sex distribution between each species is very similar and lack any difference. We were also correct that body mass has more defined differences between each species. With the clutch completion, the data shows that this factor is stronger the stage and sex but not as strong for the body mass. "
   ]
  },
  {
   "cell_type": "markdown",
   "metadata": {},
   "source": [
    "# Finding the ideal combination using sklearn\n",
    "We are now going to find the ideal combination of columns with the tools from our sklearn kit. "
   ]
  },
  {
   "cell_type": "code",
   "execution_count": 75,
   "metadata": {},
   "outputs": [
    {
     "data": {
      "text/plain": [
       "[('Island', 'Stage', 'Culmen Length (mm)'),\n",
       " ('Island', 'Stage', 'Culmen Depth (mm)'),\n",
       " ('Island', 'Stage', 'Flipper Length (mm)'),\n",
       " ('Island', 'Stage', 'Body Mass (g)'),\n",
       " ('Island', 'Stage', 'Sex')]"
      ]
     },
     "execution_count": 75,
     "metadata": {},
     "output_type": "execute_result"
    }
   ],
   "source": [
    "#getting all possible combinations\n",
    "\n",
    "names = list(penguins.columns)[1:]\n",
    "combos = list(combinations(names, 3))\n",
    "\n",
    "combos[1:6]"
   ]
  },
  {
   "cell_type": "code",
   "execution_count": 76,
   "metadata": {},
   "outputs": [],
   "source": [
    "#list to hold the scores\n",
    "dtm_score = []\n",
    "lrm_score = []\n",
    "mlpm_score = []\n",
    "\n",
    "#lists to hold depths and complexities\n",
    "t_depth = []\n",
    "lr_c = []\n",
    "mlp_depths = []"
   ]
  },
  {
   "cell_type": "markdown",
   "metadata": {},
   "source": [
    "## Training Data using Decision Tree"
   ]
  },
  {
   "cell_type": "code",
   "execution_count": 77,
   "metadata": {},
   "outputs": [],
   "source": [
    "#using tree to select cols for using decision tree\n",
    "def check_column_score(cols):\n",
    "    \"\"\"\n",
    "    Trains and evaluates a model via cross-validation on the columns of the data\n",
    "    with selected indices\n",
    "    \"\"\"\n",
    "    T = tree.DecisionTreeClassifier(max_depth = 5)\n",
    "    return cross_val_score(T, x_train[cols], y_train, cv = 5).mean()  \n",
    "\n",
    "\n",
    "def test_column_score(tupCol):\n",
    "    \"\"\"\n",
    "    Trains and evaluates a model on the test set using the columns of the data\n",
    "    with selected indices\n",
    "    \"\"\"\n",
    "    cols = list(tupCol)\n",
    "    T = tree.DecisionTreeClassifier(max_depth = 5)\n",
    "    T.fit(x_train[cols], y_train)\n",
    "    return T.score(x_test[cols], y_test)"
   ]
  },
  {
   "cell_type": "code",
   "execution_count": 78,
   "metadata": {},
   "outputs": [],
   "source": [
    "#functions to find the best depths and complexities for each model\n",
    "def tree_best_depth(): \n",
    "    '''\n",
    "    prints a graph showing the depth for a decision tree model\n",
    "    returns the best depth and training score\n",
    "    '''\n",
    "    fig, ax = plt.subplots(1, figsize = (10, 7))\n",
    "    best_score = 0\n",
    "    for d in range(1,30):\n",
    "        T = tree.DecisionTreeClassifier(max_depth = d)\n",
    "        cv_score = cross_val_score(T, X_train, y_train, cv=10).mean()\n",
    "        ax.scatter(d, cv_score, color = \"black\")\n",
    "\n",
    "        if cv_score > best_score:\n",
    "            best_depth = d\n",
    "            best_score = cv_score\n",
    "\n",
    "    l = ax.set(title = \"Best Depth : \" + str(best_depth),\n",
    "           xlabel = \"Depth\", \n",
    "           ylabel = \"CV Score\")\n",
    "    return best_depth, best_score\n",
    "\n",
    "def best_complex():\n",
    "    '''\n",
    "    prints a graph showing the complexity for a logistic regression model\n",
    "    returns the best complexity and training score\n",
    "    '''\n",
    "    #test best complexity for logistic regresssion\n",
    "    fig, ax = plt.subplots(1, figsize = (10, 7))\n",
    "    lr_best_score = 0\n",
    "\n",
    "    #comp is short for complexity \n",
    "    for comp in np.linspace(0.1, 2, 41):\n",
    "        #range(1,30)\n",
    "        logreg = LogisticRegression(max_iter = 1000, C = comp)\n",
    "        cv_score = cross_val_score(logreg, X_train, y_train, cv=10).mean()\n",
    "        ax.scatter(comp, cv_score, color = \"black\")\n",
    "\n",
    "        if cv_score > lr_best_score:\n",
    "            best_comp = comp\n",
    "            lr_best_score = cv_score\n",
    "\n",
    "\n",
    "    l = ax.set(title = \"Best Complexity : \" + str(best_comp),\n",
    "           xlabel = \"Complexity\", \n",
    "           ylabel = \"CV Score\")\n",
    "    \n",
    "    return best_comp, best_score\n",
    "\n",
    "def mlp_depth():\n",
    "    '''\n",
    "    prints a graph showing the depth for a MLP model\n",
    "    returns the best depth and training score\n",
    "    '''\n",
    "    fig, ax = plt.subplots(1)\n",
    "    mlp_best_score = 0\n",
    "\n",
    "    # For 30 depths, find the highest score to find the best depth\n",
    "    for d in range(1,30):\n",
    "        clf = MLPClassifier(hidden_layer_sizes=(d, d, d), max_iter=3000)\n",
    "        cv_score = cross_val_score(clf, X_train, y_train, cv=10).mean()\n",
    "        ax.scatter(d, cv_score, color = \"black\")\n",
    "        if cv_score > mlp_best_score:\n",
    "            mlp_best_depth = d\n",
    "            mlp_best_score = cv_score\n",
    "\n",
    "    l = ax.set(title = \"Best Depth : \" + str(mlp_best_depth),\n",
    "    xlabel = \"Depth\",\n",
    "    ylabel = \"CV Score\")\n",
    "    \n",
    "    return mlp_best_depth, mlp_best_score"
   ]
  },
  {
   "cell_type": "code",
   "execution_count": 79,
   "metadata": {},
   "outputs": [],
   "source": [
    "# Splitting the data into test and training data\n",
    "train, test = train_test_split(penguins, test_size = 0.3)\n",
    "train.shape, test.shape\n",
    "\n",
    "x_train = train.drop(['Species'], axis = 1)\n",
    "y_train = train['Species'].values\n",
    "\n",
    "x_test = test.drop(['Species'], axis = 1)\n",
    "y_test = test['Species'].values"
   ]
  },
  {
   "cell_type": "code",
   "execution_count": 80,
   "metadata": {},
   "outputs": [],
   "source": [
    "# Dict with cross value score of each combination \n",
    "D = {}\n",
    "\n",
    "for i in range(len(combos)): \n",
    "    cols = list(combos[i])\n",
    "    x = check_column_score(cols)\n",
    "    D[i] = x"
   ]
  },
  {
   "cell_type": "code",
   "execution_count": 81,
   "metadata": {
    "scrolled": true
   },
   "outputs": [
    {
     "name": "stdout",
     "output_type": "stream",
     "text": [
      "---- 15\n",
      "('Island', 'Culmen Length (mm)', 'Culmen Depth (mm)'), Score: 0.97353\n",
      "Test score is: 0.9898\n",
      "---- 18\n",
      "('Island', 'Culmen Length (mm)', 'Sex'), Score: 0.97333\n",
      "Test score is: 0.9898\n",
      "---- 16\n",
      "('Island', 'Culmen Length (mm)', 'Flipper Length (mm)'), Score: 0.96899\n",
      "Test score is: 0.95918\n",
      "---- 86\n",
      "('Culmen Length (mm)', 'Culmen Depth (mm)', 'Body Mass (g)'), Score: 0.96464\n",
      "Test score is: 0.9898\n",
      "---- 90\n",
      "('Culmen Length (mm)', 'Flipper Length (mm)', 'Body Mass (g)'), Score: 0.96464\n",
      "Test score is: 0.90816\n",
      "---- 85\n",
      "('Culmen Length (mm)', 'Culmen Depth (mm)', 'Flipper Length (mm)'), Score: 0.96454\n",
      "Test score is: 0.95918\n",
      "---- 88\n",
      "('Culmen Length (mm)', 'Culmen Depth (mm)', 'Delta 15 N (o/oo)'), Score: 0.96019\n",
      "Test score is: 0.95918\n",
      "---- 91\n",
      "('Culmen Length (mm)', 'Flipper Length (mm)', 'Sex'), Score: 0.95575\n",
      "Test score is: 0.94898\n",
      "---- 17\n",
      "('Island', 'Culmen Length (mm)', 'Body Mass (g)'), Score: 0.95565\n",
      "Test score is: 0.92857\n",
      "---- 92\n",
      "('Culmen Length (mm)', 'Flipper Length (mm)', 'Delta 15 N (o/oo)'), Score: 0.9514\n",
      "Test score is: 0.94898\n"
     ]
    }
   ],
   "source": [
    "# Sorts D and shows the top 10 column combinations \n",
    "L = list(D.items())\n",
    "L.sort(key = lambda tup: tup[1], reverse = True)\n",
    "\n",
    "#show 10 best scores\n",
    "best = L[0:10]\n",
    "\n",
    "for where, score in best:\n",
    "    print(\"---- \" + str(where))\n",
    "    print(str(combos[where]) + \", Score: \" + str(np.round(score, 5)))\n",
    "    test_score = test_column_score(combos[where])\n",
    "    print(\"Test score is: \" + str(np.round(test_score, 5)))"
   ]
  },
  {
   "cell_type": "markdown",
   "metadata": {},
   "source": [
    "Looking at the above output, we believe that the column combination that has both the best cross evaluation score and the best test score is the combination at the 15th row of combos, which includes Island, Culmen Length, and Culmen Depth as its columns."
   ]
  },
  {
   "cell_type": "code",
   "execution_count": 82,
   "metadata": {},
   "outputs": [],
   "source": [
    "# Getting the data that includes just out best columns (which are located at combos[15])\n",
    "X_train = train[list(combos[15])]\n",
    "X_test = test[list(combos[15])]"
   ]
  },
  {
   "cell_type": "markdown",
   "metadata": {},
   "source": [
    "Now, we are going to use a decision tree model to try and predict penguin species. "
   ]
  },
  {
   "cell_type": "code",
   "execution_count": 83,
   "metadata": {},
   "outputs": [
    {
     "name": "stdout",
     "output_type": "stream",
     "text": [
      "training score: 0.9778656126482212\n"
     ]
    },
    {
     "data": {
      "image/png": "[encoded data removed]",
      "text/plain": [
       "<Figure size 720x504 with 1 Axes>"
      ]
     },
     "metadata": {
      "needs_background": "light"
     },
     "output_type": "display_data"
    }
   ],
   "source": [
    "#tree\n",
    "best_depth, best_score = tree_best_depth()\n",
    "print(\"training score: \" + str(best_score))\n",
    "\n",
    "#decision tree model\n",
    "T = tree.DecisionTreeClassifier(max_depth = best_depth)\n",
    "T.fit(X_train, y_train)\n",
    "tree_score = T.score(X_test, y_test)"
   ]
  },
  {
   "cell_type": "code",
   "execution_count": 84,
   "metadata": {},
   "outputs": [
    {
     "name": "stdout",
     "output_type": "stream",
     "text": [
      "Test score: 0.9897959183673469\n"
     ]
    }
   ],
   "source": [
    "dtm_score.append(tree_score)\n",
    "t_depth.append(best_depth)\n",
    "print('Test score: '+ str(tree_score))"
   ]
  },
  {
   "cell_type": "code",
   "execution_count": 85,
   "metadata": {},
   "outputs": [
    {
     "data": {
      "image/png": "[encoded data removed]",
      "text/plain": [
       "<Figure size 720x720 with 1 Axes>"
      ]
     },
     "metadata": {
      "needs_background": "light"
     },
     "output_type": "display_data"
    }
   ],
   "source": [
    "fig, ax = plt.subplots(1, figsize = (10, 10))\n",
    "p = tree.plot_tree(T, \n",
    "                   filled = True, \n",
    "                   feature_names = penguins.drop(['Species'], axis = 1).columns)"
   ]
  },
  {
   "cell_type": "markdown",
   "metadata": {},
   "source": [
    "Now, we are going to use a logistic regression model to try and predict penguin species. "
   ]
  },
  {
   "cell_type": "code",
   "execution_count": 86,
   "metadata": {},
   "outputs": [
    {
     "name": "stdout",
     "output_type": "stream",
     "text": [
      "training score: 0.9778656126482212\n"
     ]
    },
    {
     "data": {
      "image/png": "[encoded data removed]",
      "text/plain": [
       "<Figure size 720x504 with 1 Axes>"
      ]
     },
     "metadata": {
      "needs_background": "light"
     },
     "output_type": "display_data"
    }
   ],
   "source": [
    "best_comp, best_score = best_complex()\n",
    "print(\"training score: \" + str(best_score))\n",
    "\n",
    "#training lr model\n",
    "lr = LogisticRegression(max_iter = 1000, C = best_comp)\n",
    "lr.fit(X_train, y_train)\n",
    "lr_score = lr.score(X_test, y_test)"
   ]
  },
  {
   "cell_type": "code",
   "execution_count": 87,
   "metadata": {},
   "outputs": [
    {
     "name": "stdout",
     "output_type": "stream",
     "text": [
      "Test score: 0.9897959183673469\n"
     ]
    }
   ],
   "source": [
    "lrm_score.append(lr_score)\n",
    "lr_c.append(best_comp)\n",
    "print('Test score: '+ str(lr_score))"
   ]
  },
  {
   "cell_type": "markdown",
   "metadata": {},
   "source": [
    "Now, we are going to use a multilayer perceptron classifier model to try and predict penguin species. "
   ]
  },
  {
   "cell_type": "code",
   "execution_count": 88,
   "metadata": {
    "scrolled": true
   },
   "outputs": [
    {
     "name": "stdout",
     "output_type": "stream",
     "text": [
      "training score: 18\n"
     ]
    },
    {
     "data": {
      "image/png": "[encoded data removed]",
      "text/plain": [
       "<Figure size 432x288 with 1 Axes>"
      ]
     },
     "metadata": {
      "needs_background": "light"
     },
     "output_type": "display_data"
    }
   ],
   "source": [
    "mlp_best_score, mlp_best_depth = mlp_depth()\n",
    "print(\"training score: \" + str(mlp_best_score))\n",
    "\n",
    "clf = MLPClassifier(hidden_layer_sizes=(18, 18, 18), max_iter=3000).fit(X_train, y_train)\n",
    "mlp_score = clf.score(X_test, y_test)"
   ]
  },
  {
   "cell_type": "code",
   "execution_count": 89,
   "metadata": {},
   "outputs": [
    {
     "name": "stdout",
     "output_type": "stream",
     "text": [
      "Test Score: 0.9897959183673469\n"
     ]
    }
   ],
   "source": [
    "mlpm_score.append(mlp_score)\n",
    "mlp_depths.append(mlp_best_depth)\n",
    "print(\"Test Score: \" + str(mlp_score))"
   ]
  },
  {
   "cell_type": "markdown",
   "metadata": {},
   "source": [
    "## Training Data with Logistic Regression "
   ]
  },
  {
   "cell_type": "code",
   "execution_count": 90,
   "metadata": {},
   "outputs": [],
   "source": [
    "#functions to train data using logistric regression\n",
    "def check_column_scorecv(cols):\n",
    "    \"\"\"\n",
    "    Trains and evaluates a model via cross-validation on the columns of the data\n",
    "    with selected indices using logistic regression\n",
    "    \"\"\"\n",
    "    logreg = LogisticRegression(max_iter = 1000)\n",
    "    return cross_val_score(logreg, x_train[cols], y_train, cv = 5).mean()\n",
    "\n",
    "def test_column_scorecv(tupCol):\n",
    "    \"\"\"\n",
    "    Trains and evaluates a model on the test set using the columns of the data\n",
    "    with selected indices with logistic regreesion\n",
    "    \"\"\"\n",
    "    cols = list(tupCol)\n",
    "    logreg = LogisticRegression(max_iter = 1000)\n",
    "    logreg.fit(x_train[cols], y_train)\n",
    "    return logreg.score(x_test[cols], y_test)"
   ]
  },
  {
   "cell_type": "code",
   "execution_count": 91,
   "metadata": {},
   "outputs": [],
   "source": [
    "E = {}\n",
    "for i in range(len(combos)): \n",
    "    cols = list(combos[i])\n",
    "    x = check_column_scorecv(cols)\n",
    "    E[i] = x"
   ]
  },
  {
   "cell_type": "code",
   "execution_count": 92,
   "metadata": {},
   "outputs": [
    {
     "name": "stdout",
     "output_type": "stream",
     "text": [
      "---- 86\n",
      "('Culmen Length (mm)', 'Culmen Depth (mm)', 'Body Mass (g)'), Score: 0.99556\n",
      "Test score is: 0.97959\n",
      "---- 89\n",
      "('Culmen Length (mm)', 'Culmen Depth (mm)', 'Delta 13 C (o/oo)'), Score: 0.99556\n",
      "Test score is: 0.97959\n",
      "---- 87\n",
      "('Culmen Length (mm)', 'Culmen Depth (mm)', 'Sex'), Score: 0.99111\n",
      "Test score is: 0.9898\n",
      "---- 88\n",
      "('Culmen Length (mm)', 'Culmen Depth (mm)', 'Delta 15 N (o/oo)'), Score: 0.98222\n",
      "Test score is: 1.0\n",
      "---- 93\n",
      "('Culmen Length (mm)', 'Flipper Length (mm)', 'Delta 13 C (o/oo)'), Score: 0.98222\n",
      "Test score is: 0.94898\n",
      "---- 17\n",
      "('Island', 'Culmen Length (mm)', 'Body Mass (g)'), Score: 0.97778\n",
      "Test score is: 0.93878\n",
      "---- 85\n",
      "('Culmen Length (mm)', 'Culmen Depth (mm)', 'Flipper Length (mm)'), Score: 0.97778\n",
      "Test score is: 0.9898\n",
      "---- 92\n",
      "('Culmen Length (mm)', 'Flipper Length (mm)', 'Delta 15 N (o/oo)'), Score: 0.97778\n",
      "Test score is: 0.92857\n",
      "---- 94\n",
      "('Culmen Length (mm)', 'Body Mass (g)', 'Sex'), Score: 0.97778\n",
      "Test score is: 0.94898\n",
      "---- 99\n",
      "('Culmen Length (mm)', 'Delta 15 N (o/oo)', 'Delta 13 C (o/oo)'), Score: 0.97778\n",
      "Test score is: 0.95918\n",
      "---- 97\n",
      "('Culmen Length (mm)', 'Sex', 'Delta 15 N (o/oo)'), Score: 0.97343\n",
      "Test score is: 0.93878\n",
      "---- 16\n",
      "('Island', 'Culmen Length (mm)', 'Flipper Length (mm)'), Score: 0.97333\n",
      "Test score is: 0.91837\n",
      "---- 18\n",
      "('Island', 'Culmen Length (mm)', 'Sex'), Score: 0.97333\n",
      "Test score is: 0.96939\n",
      "---- 20\n",
      "('Island', 'Culmen Length (mm)', 'Delta 13 C (o/oo)'), Score: 0.97333\n",
      "Test score is: 0.96939\n",
      "---- 91\n",
      "('Culmen Length (mm)', 'Flipper Length (mm)', 'Sex'), Score: 0.97333\n",
      "Test score is: 0.92857\n",
      "---- 44\n",
      "('Stage', 'Culmen Length (mm)', 'Flipper Length (mm)'), Score: 0.96899\n",
      "Test score is: 0.90816\n",
      "---- 15\n",
      "('Island', 'Culmen Length (mm)', 'Culmen Depth (mm)'), Score: 0.96889\n",
      "Test score is: 0.97959\n",
      "---- 98\n",
      "('Culmen Length (mm)', 'Sex', 'Delta 13 C (o/oo)'), Score: 0.96889\n",
      "Test score is: 0.94898\n",
      "---- 103\n",
      "('Culmen Depth (mm)', 'Flipper Length (mm)', 'Delta 13 C (o/oo)'), Score: 0.96889\n",
      "Test score is: 0.94898\n",
      "---- 65\n",
      "('Clutch Completion', 'Culmen Length (mm)', 'Flipper Length (mm)'), Score: 0.96454\n",
      "Test score is: 0.91837\n",
      "---- 95\n",
      "('Culmen Length (mm)', 'Body Mass (g)', 'Delta 15 N (o/oo)'), Score: 0.96444\n",
      "Test score is: 0.93878\n",
      "---- 64\n",
      "('Clutch Completion', 'Culmen Length (mm)', 'Culmen Depth (mm)'), Score: 0.96019\n",
      "Test score is: 0.97959\n",
      "---- 29\n",
      "('Island', 'Flipper Length (mm)', 'Delta 13 C (o/oo)'), Score: 0.9601\n",
      "Test score is: 0.92857\n",
      "---- 45\n",
      "('Stage', 'Culmen Length (mm)', 'Body Mass (g)'), Score: 0.9601\n",
      "Test score is: 0.92857\n",
      "---- 66\n",
      "('Clutch Completion', 'Culmen Length (mm)', 'Body Mass (g)'), Score: 0.9601\n",
      "Test score is: 0.92857\n",
      "---- 19\n",
      "('Island', 'Culmen Length (mm)', 'Delta 15 N (o/oo)'), Score: 0.96\n",
      "Test score is: 0.95918\n",
      "---- 48\n",
      "('Stage', 'Culmen Length (mm)', 'Delta 13 C (o/oo)'), Score: 0.95556\n",
      "Test score is: 0.90816\n",
      "---- 69\n",
      "('Clutch Completion', 'Culmen Length (mm)', 'Delta 13 C (o/oo)'), Score: 0.95556\n",
      "Test score is: 0.92857\n",
      "---- 43\n",
      "('Stage', 'Culmen Length (mm)', 'Culmen Depth (mm)'), Score: 0.94696\n",
      "Test score is: 0.9898\n",
      "---- 114\n",
      "('Flipper Length (mm)', 'Sex', 'Delta 13 C (o/oo)'), Score: 0.94686\n",
      "Test score is: 0.92857\n",
      "---- 115\n",
      "('Flipper Length (mm)', 'Delta 15 N (o/oo)', 'Delta 13 C (o/oo)'), Score: 0.94676\n",
      "Test score is: 0.93878\n",
      "---- 57\n",
      "('Stage', 'Flipper Length (mm)', 'Delta 13 C (o/oo)'), Score: 0.94676\n",
      "Test score is: 0.89796\n",
      "---- 78\n",
      "('Clutch Completion', 'Flipper Length (mm)', 'Delta 13 C (o/oo)'), Score: 0.94676\n",
      "Test score is: 0.90816\n",
      "---- 8\n",
      "('Island', 'Clutch Completion', 'Culmen Length (mm)'), Score: 0.94667\n",
      "Test score is: 0.93878\n",
      "---- 108\n",
      "('Culmen Depth (mm)', 'Sex', 'Delta 13 C (o/oo)'), Score: 0.94242\n",
      "Test score is: 0.88776\n",
      "---- 1\n",
      "('Island', 'Stage', 'Culmen Length (mm)'), Score: 0.94222\n",
      "Test score is: 0.94898\n",
      "---- 68\n",
      "('Clutch Completion', 'Culmen Length (mm)', 'Delta 15 N (o/oo)'), Score: 0.93353\n",
      "Test score is: 0.90816\n",
      "---- 47\n",
      "('Stage', 'Culmen Length (mm)', 'Delta 15 N (o/oo)'), Score: 0.93343\n",
      "Test score is: 0.90816\n",
      "---- 96\n",
      "('Culmen Length (mm)', 'Body Mass (g)', 'Delta 13 C (o/oo)'), Score: 0.93343\n",
      "Test score is: 0.91837\n",
      "---- 74\n",
      "('Clutch Completion', 'Culmen Depth (mm)', 'Delta 13 C (o/oo)'), Score: 0.92928\n",
      "Test score is: 0.88776\n",
      "---- 53\n",
      "('Stage', 'Culmen Depth (mm)', 'Delta 13 C (o/oo)'), Score: 0.92493\n",
      "Test score is: 0.88776\n",
      "---- 109\n",
      "('Culmen Depth (mm)', 'Delta 15 N (o/oo)', 'Delta 13 C (o/oo)'), Score: 0.91623\n",
      "Test score is: 0.88776\n",
      "---- 25\n",
      "('Island', 'Culmen Depth (mm)', 'Delta 13 C (o/oo)'), Score: 0.91614\n",
      "Test score is: 0.88776\n",
      "---- 90\n",
      "('Culmen Length (mm)', 'Flipper Length (mm)', 'Body Mass (g)'), Score: 0.91556\n",
      "Test score is: 0.86735\n",
      "---- 102\n",
      "('Culmen Depth (mm)', 'Flipper Length (mm)', 'Delta 15 N (o/oo)'), Score: 0.89816\n",
      "Test score is: 0.85714\n",
      "---- 35\n",
      "('Island', 'Delta 15 N (o/oo)', 'Delta 13 C (o/oo)'), Score: 0.89807\n",
      "Test score is: 0.84694\n",
      "---- 113\n",
      "('Flipper Length (mm)', 'Sex', 'Delta 15 N (o/oo)'), Score: 0.88502\n",
      "Test score is: 0.83673\n",
      "---- 112\n",
      "('Flipper Length (mm)', 'Body Mass (g)', 'Delta 13 C (o/oo)'), Score: 0.88493\n",
      "Test score is: 0.82653\n",
      "---- 106\n",
      "('Culmen Depth (mm)', 'Body Mass (g)', 'Delta 13 C (o/oo)'), Score: 0.87643\n",
      "Test score is: 0.7551\n",
      "---- 24\n",
      "('Island', 'Culmen Depth (mm)', 'Delta 15 N (o/oo)'), Score: 0.8628\n",
      "Test score is: 0.77551\n",
      "---- 28\n",
      "('Island', 'Flipper Length (mm)', 'Delta 15 N (o/oo)'), Score: 0.85391\n",
      "Test score is: 0.84694\n",
      "---- 107\n",
      "('Culmen Depth (mm)', 'Sex', 'Delta 15 N (o/oo)'), Score: 0.84957\n",
      "Test score is: 0.79592\n",
      "---- 77\n",
      "('Clutch Completion', 'Flipper Length (mm)', 'Delta 15 N (o/oo)'), Score: 0.84937\n",
      "Test score is: 0.89796\n",
      "---- 7\n",
      "('Island', 'Stage', 'Delta 13 C (o/oo)'), Score: 0.84493\n",
      "Test score is: 0.82653\n",
      "---- 14\n",
      "('Island', 'Clutch Completion', 'Delta 13 C (o/oo)'), Score: 0.84493\n",
      "Test score is: 0.83673\n",
      "---- 56\n",
      "('Stage', 'Flipper Length (mm)', 'Delta 15 N (o/oo)'), Score: 0.84058\n",
      "Test score is: 0.86735\n",
      "---- 118\n",
      "('Body Mass (g)', 'Delta 15 N (o/oo)', 'Delta 13 C (o/oo)'), Score: 0.84058\n",
      "Test score is: 0.86735\n",
      "---- 34\n",
      "('Island', 'Sex', 'Delta 13 C (o/oo)'), Score: 0.84048\n",
      "Test score is: 0.82653\n",
      "---- 73\n",
      "('Clutch Completion', 'Culmen Depth (mm)', 'Delta 15 N (o/oo)'), Score: 0.83643\n",
      "Test score is: 0.7449\n",
      "---- 119\n",
      "('Sex', 'Delta 15 N (o/oo)', 'Delta 13 C (o/oo)'), Score: 0.83623\n",
      "Test score is: 0.81633\n",
      "---- 63\n",
      "('Stage', 'Delta 15 N (o/oo)', 'Delta 13 C (o/oo)'), Score: 0.83179\n",
      "Test score is: 0.82653\n",
      "---- 52\n",
      "('Stage', 'Culmen Depth (mm)', 'Delta 15 N (o/oo)'), Score: 0.82754\n",
      "Test score is: 0.7449\n",
      "---- 84\n",
      "('Clutch Completion', 'Delta 15 N (o/oo)', 'Delta 13 C (o/oo)'), Score: 0.82734\n",
      "Test score is: 0.82653\n",
      "---- 49\n",
      "('Stage', 'Culmen Depth (mm)', 'Flipper Length (mm)'), Score: 0.81865\n",
      "Test score is: 0.79592\n",
      "---- 27\n",
      "('Island', 'Flipper Length (mm)', 'Sex'), Score: 0.81855\n",
      "Test score is: 0.78571\n",
      "---- 105\n",
      "('Culmen Depth (mm)', 'Body Mass (g)', 'Delta 15 N (o/oo)'), Score: 0.8143\n",
      "Test score is: 0.69388\n",
      "---- 67\n",
      "('Clutch Completion', 'Culmen Length (mm)', 'Sex'), Score: 0.80976\n",
      "Test score is: 0.7449\n",
      "---- 101\n",
      "('Culmen Depth (mm)', 'Flipper Length (mm)', 'Sex'), Score: 0.80976\n",
      "Test score is: 0.82653\n",
      "---- 21\n",
      "('Island', 'Culmen Depth (mm)', 'Flipper Length (mm)'), Score: 0.80966\n",
      "Test score is: 0.79592\n",
      "---- 76\n",
      "('Clutch Completion', 'Flipper Length (mm)', 'Sex'), Score: 0.80541\n",
      "Test score is: 0.78571\n",
      "---- 10\n",
      "('Island', 'Clutch Completion', 'Flipper Length (mm)'), Score: 0.80531\n",
      "Test score is: 0.80612\n",
      "---- 22\n",
      "('Island', 'Culmen Depth (mm)', 'Body Mass (g)'), Score: 0.80531\n",
      "Test score is: 0.76531\n",
      "---- 55\n",
      "('Stage', 'Flipper Length (mm)', 'Sex'), Score: 0.80531\n",
      "Test score is: 0.79592\n",
      "---- 3\n",
      "('Island', 'Stage', 'Flipper Length (mm)'), Score: 0.80522\n",
      "Test score is: 0.78571\n",
      "---- 38\n",
      "('Stage', 'Clutch Completion', 'Flipper Length (mm)'), Score: 0.80097\n",
      "Test score is: 0.79592\n",
      "---- 50\n",
      "('Stage', 'Culmen Depth (mm)', 'Body Mass (g)'), Score: 0.80087\n",
      "Test score is: 0.76531\n",
      "---- 104\n",
      "('Culmen Depth (mm)', 'Body Mass (g)', 'Sex'), Score: 0.80087\n",
      "Test score is: 0.76531\n",
      "---- 58\n",
      "('Stage', 'Body Mass (g)', 'Sex'), Score: 0.79643\n",
      "Test score is: 0.7449\n",
      "---- 100\n",
      "('Culmen Depth (mm)', 'Flipper Length (mm)', 'Body Mass (g)'), Score: 0.79623\n",
      "Test score is: 0.71429\n",
      "---- 70\n",
      "('Clutch Completion', 'Culmen Depth (mm)', 'Flipper Length (mm)'), Score: 0.79217\n",
      "Test score is: 0.81633\n",
      "---- 23\n",
      "('Island', 'Culmen Depth (mm)', 'Sex'), Score: 0.79208\n",
      "Test score is: 0.73469\n",
      "---- 79\n",
      "('Clutch Completion', 'Body Mass (g)', 'Sex'), Score: 0.79208\n"
     ]
    },
    {
     "name": "stdout",
     "output_type": "stream",
     "text": [
      "Test score is: 0.7449\n",
      "---- 6\n",
      "('Island', 'Stage', 'Delta 15 N (o/oo)'), Score: 0.79188\n",
      "Test score is: 0.71429\n",
      "---- 71\n",
      "('Clutch Completion', 'Culmen Depth (mm)', 'Body Mass (g)'), Score: 0.78763\n",
      "Test score is: 0.76531\n",
      "---- 36\n",
      "('Stage', 'Clutch Completion', 'Culmen Length (mm)'), Score: 0.78754\n",
      "Test score is: 0.71429\n",
      "---- 46\n",
      "('Stage', 'Culmen Length (mm)', 'Sex'), Score: 0.78754\n",
      "Test score is: 0.72449\n",
      "---- 72\n",
      "('Clutch Completion', 'Culmen Depth (mm)', 'Sex'), Score: 0.78338\n",
      "Test score is: 0.72449\n",
      "---- 51\n",
      "('Stage', 'Culmen Depth (mm)', 'Sex'), Score: 0.78329\n",
      "Test score is: 0.72449\n",
      "---- 33\n",
      "('Island', 'Sex', 'Delta 15 N (o/oo)'), Score: 0.78309\n",
      "Test score is: 0.71429\n",
      "---- 117\n",
      "('Body Mass (g)', 'Sex', 'Delta 13 C (o/oo)'), Score: 0.78309\n",
      "Test score is: 0.7449\n",
      "---- 9\n",
      "('Island', 'Clutch Completion', 'Culmen Depth (mm)'), Score: 0.77894\n",
      "Test score is: 0.71429\n",
      "---- 111\n",
      "('Flipper Length (mm)', 'Body Mass (g)', 'Delta 15 N (o/oo)'), Score: 0.77894\n",
      "Test score is: 0.71429\n",
      "---- 81\n",
      "('Clutch Completion', 'Body Mass (g)', 'Delta 13 C (o/oo)'), Score: 0.77807\n",
      "Test score is: 0.68367\n",
      "---- 2\n",
      "('Island', 'Stage', 'Culmen Depth (mm)'), Score: 0.77459\n",
      "Test score is: 0.71429\n",
      "---- 13\n",
      "('Island', 'Clutch Completion', 'Delta 15 N (o/oo)'), Score: 0.7742\n",
      "Test score is: 0.7449\n",
      "---- 116\n",
      "('Body Mass (g)', 'Sex', 'Delta 15 N (o/oo)'), Score: 0.76995\n",
      "Test score is: 0.72449\n",
      "---- 37\n",
      "('Stage', 'Clutch Completion', 'Culmen Depth (mm)'), Score: 0.7657\n",
      "Test score is: 0.71429\n",
      "---- 31\n",
      "('Island', 'Body Mass (g)', 'Delta 15 N (o/oo)'), Score: 0.76551\n",
      "Test score is: 0.67347\n",
      "---- 32\n",
      "('Island', 'Body Mass (g)', 'Delta 13 C (o/oo)'), Score: 0.76531\n",
      "Test score is: 0.72449\n",
      "---- 59\n",
      "('Stage', 'Body Mass (g)', 'Delta 15 N (o/oo)'), Score: 0.74783\n",
      "Test score is: 0.68367\n",
      "---- 80\n",
      "('Clutch Completion', 'Body Mass (g)', 'Delta 15 N (o/oo)'), Score: 0.73913\n",
      "Test score is: 0.66327\n",
      "---- 4\n",
      "('Island', 'Stage', 'Body Mass (g)'), Score: 0.73865\n",
      "Test score is: 0.63265\n",
      "---- 110\n",
      "('Flipper Length (mm)', 'Body Mass (g)', 'Sex'), Score: 0.73865\n",
      "Test score is: 0.67347\n",
      "---- 60\n",
      "('Stage', 'Body Mass (g)', 'Delta 13 C (o/oo)'), Score: 0.73459\n",
      "Test score is: 0.68367\n",
      "---- 26\n",
      "('Island', 'Flipper Length (mm)', 'Body Mass (g)'), Score: 0.71662\n",
      "Test score is: 0.63265\n",
      "---- 82\n",
      "('Clutch Completion', 'Sex', 'Delta 15 N (o/oo)'), Score: 0.71652\n",
      "Test score is: 0.64286\n",
      "---- 61\n",
      "('Stage', 'Sex', 'Delta 15 N (o/oo)'), Score: 0.71217\n",
      "Test score is: 0.66327\n",
      "---- 30\n",
      "('Island', 'Body Mass (g)', 'Sex'), Score: 0.69913\n",
      "Test score is: 0.7449\n",
      "---- 39\n",
      "('Stage', 'Clutch Completion', 'Body Mass (g)'), Score: 0.69903\n",
      "Test score is: 0.73469\n",
      "---- 41\n",
      "('Stage', 'Clutch Completion', 'Delta 15 N (o/oo)'), Score: 0.69884\n",
      "Test score is: 0.64286\n",
      "---- 54\n",
      "('Stage', 'Flipper Length (mm)', 'Body Mass (g)'), Score: 0.69488\n",
      "Test score is: 0.67347\n",
      "---- 11\n",
      "('Island', 'Clutch Completion', 'Body Mass (g)'), Score: 0.69469\n",
      "Test score is: 0.72449\n",
      "---- 42\n",
      "('Stage', 'Clutch Completion', 'Delta 13 C (o/oo)'), Score: 0.6772\n",
      "Test score is: 0.66327\n",
      "---- 0\n",
      "('Island', 'Stage', 'Clutch Completion'), Score: 0.67246\n",
      "Test score is: 0.63265\n",
      "---- 12\n",
      "('Island', 'Clutch Completion', 'Sex'), Score: 0.67246\n",
      "Test score is: 0.64286\n",
      "---- 5\n",
      "('Island', 'Stage', 'Sex'), Score: 0.66802\n",
      "Test score is: 0.63265\n",
      "---- 62\n",
      "('Stage', 'Sex', 'Delta 13 C (o/oo)'), Score: 0.65507\n",
      "Test score is: 0.67347\n",
      "---- 83\n",
      "('Clutch Completion', 'Sex', 'Delta 13 C (o/oo)'), Score: 0.64164\n",
      "Test score is: 0.68367\n",
      "---- 75\n",
      "('Clutch Completion', 'Flipper Length (mm)', 'Body Mass (g)'), Score: 0.62386\n",
      "Test score is: 0.67347\n",
      "---- 40\n",
      "('Stage', 'Clutch Completion', 'Sex'), Score: 0.3628\n",
      "Test score is: 0.33673\n"
     ]
    }
   ],
   "source": [
    "M = list(E.items())\n",
    "M.sort(key = lambda tup: tup[1], reverse = True)\n",
    "\n",
    "best = M\n",
    "\n",
    "for where, score in best:\n",
    "    print(\"---- \" + str(where))\n",
    "    print(str(combos[where]) + \", Score: \" + str(np.round(score, 5)))\n",
    "    test_score = test_column_scorecv(combos[where])\n",
    "    print(\"Test score is: \" + str(np.round(test_score, 5)))"
   ]
  },
  {
   "cell_type": "code",
   "execution_count": 93,
   "metadata": {},
   "outputs": [],
   "source": [
    "#testing models \n",
    "X_train = train[list(combos[89])]\n",
    "X_test = test[list(combos[89])]"
   ]
  },
  {
   "cell_type": "code",
   "execution_count": 94,
   "metadata": {},
   "outputs": [
    {
     "name": "stdout",
     "output_type": "stream",
     "text": [
      "training score: 0.9687747035573123\n"
     ]
    },
    {
     "data": {
      "image/png": "[encoded data removed]",
      "text/plain": [
       "<Figure size 720x504 with 1 Axes>"
      ]
     },
     "metadata": {
      "needs_background": "light"
     },
     "output_type": "display_data"
    }
   ],
   "source": [
    "#tree\n",
    "best_depth, best_score = tree_best_depth()\n",
    "print(\"training score: \" + str(best_score))\n",
    "\n",
    "#decision tree model\n",
    "T = tree.DecisionTreeClassifier(max_depth = best_depth)\n",
    "T.fit(X_train, y_train)\n",
    "tree_score = T.score(X_test, y_test)"
   ]
  },
  {
   "cell_type": "code",
   "execution_count": 95,
   "metadata": {},
   "outputs": [
    {
     "name": "stdout",
     "output_type": "stream",
     "text": [
      "Test Score: )0.9489795918367347\n"
     ]
    }
   ],
   "source": [
    "dtm_score.append(tree_score)\n",
    "t_depth.append(best_depth)\n",
    "print('Test Score: )' + str(tree_score))"
   ]
  },
  {
   "cell_type": "code",
   "execution_count": 96,
   "metadata": {},
   "outputs": [
    {
     "name": "stdout",
     "output_type": "stream",
     "text": [
      "training score: 0.9687747035573123\n"
     ]
    },
    {
     "data": {
      "image/png": "[encoded data removed]",
      "text/plain": [
       "<Figure size 720x504 with 1 Axes>"
      ]
     },
     "metadata": {
      "needs_background": "light"
     },
     "output_type": "display_data"
    }
   ],
   "source": [
    "#logistic regression\n",
    "best_comp, best_score = best_complex()\n",
    "print(\"training score: \" + str(best_score))\n",
    "\n",
    "#training lr model\n",
    "lr = LogisticRegression(max_iter = 1000, C = best_comp)\n",
    "lr.fit(X_train, y_train)\n",
    "lr_score = lr.score(X_test, y_test)"
   ]
  },
  {
   "cell_type": "code",
   "execution_count": 97,
   "metadata": {},
   "outputs": [
    {
     "name": "stdout",
     "output_type": "stream",
     "text": [
      "Test score: 0.9795918367346939\n"
     ]
    }
   ],
   "source": [
    "lrm_score.append(lr_score)\n",
    "lr_c.append(best_comp)\n",
    "print('Test score: '+ str(lr_score))"
   ]
  },
  {
   "cell_type": "code",
   "execution_count": 98,
   "metadata": {},
   "outputs": [
    {
     "name": "stdout",
     "output_type": "stream",
     "text": [
      "training score: 22\n"
     ]
    },
    {
     "data": {
      "image/png": "[encoded data removed]",
      "text/plain": [
       "<Figure size 432x288 with 1 Axes>"
      ]
     },
     "metadata": {
      "needs_background": "light"
     },
     "output_type": "display_data"
    }
   ],
   "source": [
    "#multilayer perception model\n",
    "mlp_best_score, mlp_best_depth = mlp_depth()\n",
    "print(\"training score: \" + str(mlp_best_score))\n",
    "\n",
    "clf = MLPClassifier(hidden_layer_sizes=(18, 18, 18), max_iter=3000).fit(X_train, y_train)\n",
    "mlp_score = clf.score(X_test, y_test)"
   ]
  },
  {
   "cell_type": "code",
   "execution_count": 99,
   "metadata": {},
   "outputs": [
    {
     "name": "stdout",
     "output_type": "stream",
     "text": [
      "Test Score: 0.9693877551020408\n"
     ]
    }
   ],
   "source": [
    "mlpm_score.append(mlp_score)\n",
    "mlp_depths.append(mlp_best_depth)\n",
    "print(\"Test Score: \" + str(mlp_score))"
   ]
  },
  {
   "cell_type": "markdown",
   "metadata": {},
   "source": [
    "## Selecting Features Using High Feature Method"
   ]
  },
  {
   "cell_type": "code",
   "execution_count": 100,
   "metadata": {},
   "outputs": [
    {
     "name": "stdout",
     "output_type": "stream",
     "text": [
      "Stage nan\n",
      "Flipper Length (mm) 372.30696108867085\n",
      "Culmen Length (mm) 255.0538925833613\n",
      "Culmen Depth (mm) 231.33052162697155\n",
      "Body Mass (g) 229.29561152516797\n"
     ]
    },
    {
     "name": "stderr",
     "output_type": "stream",
     "text": [
      "/opt/anaconda3/lib/python3.8/site-packages/sklearn/feature_selection/_univariate_selection.py:114: UserWarning: Features [1] are constant.\n",
      "  warnings.warn(\"Features %s are constant.\" % constant_features_idx,\n",
      "/opt/anaconda3/lib/python3.8/site-packages/sklearn/feature_selection/_univariate_selection.py:116: RuntimeWarning: invalid value encountered in true_divide\n",
      "  f = msb / msw\n"
     ]
    }
   ],
   "source": [
    "threshold = 5 # the number of most relevant features\n",
    "high_score_features = []\n",
    "feature_scores = f_classif(x_train, y_train)[0]\n",
    "for score, f_name in sorted(zip(feature_scores, x_train.columns), reverse=True)[:threshold]:\n",
    "      print(f_name, score)\n",
    "      high_score_features.append(f_name)"
   ]
  },
  {
   "cell_type": "markdown",
   "metadata": {},
   "source": [
    "We decided to go with the features culmen length, culmen depth and sex. We chose these features because culmen length and depth were scored highly while sex is a binarized characteristic and we wanted to see it's effectiveness. "
   ]
  },
  {
   "cell_type": "code",
   "execution_count": 101,
   "metadata": {},
   "outputs": [],
   "source": [
    "X_train = train[['Culmen Length (mm)', 'Culmen Depth (mm)', 'Sex']]\n",
    "X_test = test[['Culmen Length (mm)', 'Culmen Depth (mm)', 'Sex']]"
   ]
  },
  {
   "cell_type": "code",
   "execution_count": 102,
   "metadata": {},
   "outputs": [
    {
     "name": "stdout",
     "output_type": "stream",
     "text": [
      "training score: 0.9778656126482215\n"
     ]
    },
    {
     "data": {
      "image/png": "[encoded data removed]",
      "text/plain": [
       "<Figure size 720x504 with 1 Axes>"
      ]
     },
     "metadata": {
      "needs_background": "light"
     },
     "output_type": "display_data"
    }
   ],
   "source": [
    "#tree\n",
    "best_depth, best_score = tree_best_depth()\n",
    "print(\"training score: \" + str(best_score))\n",
    "\n",
    "#decision tree model\n",
    "T = tree.DecisionTreeClassifier(max_depth = best_depth)\n",
    "T.fit(X_train, y_train)\n",
    "tree_score = T.score(X_test, y_test)"
   ]
  },
  {
   "cell_type": "code",
   "execution_count": 103,
   "metadata": {},
   "outputs": [
    {
     "name": "stdout",
     "output_type": "stream",
     "text": [
      "Test Score: 0.9897959183673469\n"
     ]
    }
   ],
   "source": [
    "dtm_score.append(tree_score)\n",
    "t_depth.append(best_depth)\n",
    "print('Test Score: ' + str(tree_score))"
   ]
  },
  {
   "cell_type": "code",
   "execution_count": 104,
   "metadata": {},
   "outputs": [
    {
     "name": "stdout",
     "output_type": "stream",
     "text": [
      "training score: 0.9778656126482215\n"
     ]
    },
    {
     "data": {
      "image/png": "[encoded data removed]",
      "text/plain": [
       "<Figure size 720x504 with 1 Axes>"
      ]
     },
     "metadata": {
      "needs_background": "light"
     },
     "output_type": "display_data"
    }
   ],
   "source": [
    "#logistic regression\n",
    "best_comp, best_score = best_complex()\n",
    "print(\"training score: \" + str(best_score))\n",
    "\n",
    "#training lr model\n",
    "lr = LogisticRegression(max_iter = 1000, C = best_comp)\n",
    "lr.fit(X_train, y_train)\n",
    "lr_score = lr.score(X_test, y_test)"
   ]
  },
  {
   "cell_type": "code",
   "execution_count": 105,
   "metadata": {},
   "outputs": [
    {
     "name": "stdout",
     "output_type": "stream",
     "text": [
      "Test score: 0.9897959183673469\n"
     ]
    }
   ],
   "source": [
    "lrm_score.append(lr_score)\n",
    "lr_c.append(best_comp)\n",
    "print('Test score: '+ str(lr_score))"
   ]
  },
  {
   "cell_type": "code",
   "execution_count": null,
   "metadata": {},
   "outputs": [],
   "source": [
    "#multilayer perception model\n",
    "mlp_best_score, mlp_best_depth = mlp_depth()\n",
    "print(\"training score: \" + str(mlp_best_score))\n",
    "\n",
    "clf = MLPClassifier(hidden_layer_sizes=(18, 18, 18), max_iter=3000).fit(X_train, y_train)\n",
    "mlp_score = clf.score(X_test, y_test)"
   ]
  },
  {
   "cell_type": "code",
   "execution_count": null,
   "metadata": {},
   "outputs": [],
   "source": [
    "mlpm_score.append(mlp_score)\n",
    "mlp_depths.append(mlp_best_depth)\n",
    "print(\"Test Score: \" + str(mlp_score))"
   ]
  },
  {
   "cell_type": "code",
   "execution_count": null,
   "metadata": {},
   "outputs": [],
   "source": [
    "clf.fit(X_train, y_train)\n",
    "y_train_pred = clf.predict(X_train)\n",
    "c = confusion_matrix(y_train, y_train_pred)\n",
    "\n",
    "disp = plot_confusion_matrix(clf, X_test, y_test, cmap = plt.cm.Blues)"
   ]
  },
  {
   "cell_type": "markdown",
   "metadata": {},
   "source": [
    "Looking at the confusion matrix, we can see that there were a few penguins that were labeled wrong and it may have been due to factors such as size. This also may be due to the sex not being a strong factor."
   ]
  },
  {
   "cell_type": "markdown",
   "metadata": {},
   "source": [
    "# Contribution Statement: \n",
    "Rashi, David, and Lauren each did one model and one figure. \n",
    "Lauren made figure 1. \n",
    "Rashi made figure 2.\n",
    "David made figure 3.\n",
    "David made the table, parts 1 and 2. \n",
    "Rashi made the decision tree diagram and decision tree model.\n",
    "David made the logistic regression model.\n",
    "Lauren and Rashi made the MLP model. \n",
    "Lauren did the confusion matrix.\n",
    "David did the conclusion. \n",
    "We each found a method of finding the best combination. Rashi did the decision tree cross validation, David used the logistic regression cross validation and Lauren used high feature.\n",
    "Rashi and David combined all the group work together. \n",
    "We all also worked on the explanations together. "
   ]
  },
  {
   "cell_type": "code",
   "execution_count": null,
   "metadata": {},
   "outputs": [],
   "source": []
  },
  {
   "cell_type": "code",
   "execution_count": null,
   "metadata": {},
   "outputs": [],
   "source": []
  }
 ],
 "metadata": {
  "kernelspec": {
   "display_name": "Python 3",
   "language": "python",
   "name": "python3"
  },
  "language_info": {
   "codemirror_mode": {
    "name": "ipython",
    "version": 3
   },
   "file_extension": ".py",
   "mimetype": "text/x-python",
   "name": "python",
   "nbconvert_exporter": "python",
   "pygments_lexer": "ipython3",
   "version": "3.8.5"
  }
 },
 "nbformat": 4,
 "nbformat_minor": 4
}
