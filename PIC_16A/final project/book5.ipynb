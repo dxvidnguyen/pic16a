{
 "cells": [
  {
   "cell_type": "code",
   "execution_count": 1,
   "metadata": {},
   "outputs": [],
   "source": [
    "#import libraries\n",
    "import pandas as pd\n",
    "import numpy as np\n",
    "from matplotlib import pyplot as plt\n",
    "from sklearn import tree, preprocessing, metrics\n",
    "from sklearn.model_selection import train_test_split, cross_val_score\n",
    "from sklearn.linear_model import LogisticRegression\n",
    "from sklearn.linear_model import LogisticRegressionCV\n",
    "from sklearn.metrics import roc_auc_score\n",
    "from sklearn.metrics import roc_curve\n",
    "import itertools"
   ]
  },
  {
   "cell_type": "code",
   "execution_count": 2,
   "metadata": {},
   "outputs": [],
   "source": [
    "#penguins data\n",
    "url = \"https://philchodrow.github.io/PIC16A/datasets/palmer_penguins.csv\"\n",
    "penguins = pd.read_csv(url)\n",
    "\n",
    "#dropping columns: studyName, Individual ID, Date Egg, Sample Number\n",
    "pdata = penguins.drop(['studyName', 'Individual ID', 'Date Egg', 'Region', 'Sample Number', 'Comments'], axis = 1)\n",
    "\n",
    "#drop nan values\n",
    "mydata = pdata.dropna()\n",
    "\n",
    "#get rid of penguin with period for sex\n",
    "#data = mydata.drop(mydata.index[318])\n"
   ]
  },
  {
   "cell_type": "code",
   "execution_count": 5,
   "metadata": {},
   "outputs": [
    {
     "data": {
      "text/plain": [
       "336"
      ]
     },
     "execution_count": 5,
     "metadata": {},
     "output_type": "execute_result"
    }
   ],
   "source": [
    "mydata.index[318]"
   ]
  },
  {
   "cell_type": "code",
   "execution_count": 7,
   "metadata": {},
   "outputs": [
    {
     "data": {
      "text/plain": [
       "Species                Gentoo penguin (Pygoscelis papua)\n",
       "Island                                            Biscoe\n",
       "Stage                                 Adult, 1 Egg Stage\n",
       "Clutch Completion                                    Yes\n",
       "Culmen Length (mm)                                  44.5\n",
       "Culmen Depth (mm)                                   15.7\n",
       "Flipper Length (mm)                                  217\n",
       "Body Mass (g)                                       4875\n",
       "Sex                                                    .\n",
       "Delta 15 N (o/oo)                                8.04111\n",
       "Delta 13 C (o/oo)                               -26.1844\n",
       "Name: 336, dtype: object"
      ]
     },
     "execution_count": 7,
     "metadata": {},
     "output_type": "execute_result"
    }
   ],
   "source": [
    "mydata.loc[336]"
   ]
  },
  {
   "cell_type": "code",
   "execution_count": null,
   "metadata": {},
   "outputs": [],
   "source": []
  }
 ],
 "metadata": {
  "kernelspec": {
   "display_name": "Python 3",
   "language": "python",
   "name": "python3"
  },
  "language_info": {
   "codemirror_mode": {
    "name": "ipython",
    "version": 3
   },
   "file_extension": ".py",
   "mimetype": "text/x-python",
   "name": "python",
   "nbconvert_exporter": "python",
   "pygments_lexer": "ipython3",
   "version": "3.8.5"
  }
 },
 "nbformat": 4,
 "nbformat_minor": 4
}
