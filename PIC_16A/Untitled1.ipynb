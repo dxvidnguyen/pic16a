{
 "cells": [
  {
   "cell_type": "code",
   "execution_count": 1,
   "metadata": {},
   "outputs": [],
   "source": [
    "# Imports\n",
    "import pandas as pd\n",
    "from matplotlib import pyplot as plt\n",
    "from sklearn import tree, preprocessing\n",
    "import numpy as np"
   ]
  },
  {
   "cell_type": "code",
   "execution_count": 2,
   "metadata": {},
   "outputs": [],
   "source": [
    "# Load the data\n",
    "url = \"https://philchodrow.github.io/PIC16A/datasets/palmer_penguins.csv\"\n",
    "penguins = pd.read_csv(url)"
   ]
  },
  {
   "cell_type": "code",
   "execution_count": 3,
   "metadata": {},
   "outputs": [],
   "source": [
    "# Split the data into test/train sets\n",
    "from sklearn.model_selection import train_test_split\n",
    "\n",
    "penguins = penguins[['Species', 'Culmen Length (mm)', \n",
    "                     'Culmen Depth (mm)', 'Flipper Length (mm)', \n",
    "                     'Body Mass (g)', 'Sex']]\n",
    "penguins = penguins.dropna()\n",
    "# make sure that the random values that your code will generate \n",
    "# will be the same every time you run the code.\n",
    "np.random.seed(3354354524)\n",
    "\n",
    "# Since Species is the target variable...\n",
    "X = penguins.drop(['Species'], axis = 1)\n",
    "y = penguins['Species']\n",
    "\n",
    "X_train, X_test, y_train, y_test = train_test_split(X, y, test_size = 0.2)"
   ]
  },
  {
   "cell_type": "code",
   "execution_count": 4,
   "metadata": {},
   "outputs": [],
   "source": [
    "# Clean and transform the data\n",
    "\n",
    "def clean_penguin_data(x_train, x_test, Y_train, Y_test):\n",
    "    '''\n",
    "    clean_penguin_data takes in the four train/test sets as parameters\n",
    "    and cleans the data for each and then returns the cleaned copies back\n",
    "    '''\n",
    "    xtr = x_train.copy()\n",
    "    xt = x_test.copy()\n",
    "    le = preprocessing.LabelEncoder()\n",
    "    xtr['Sex'] = le.fit_transform(x_train['Sex'])\n",
    "    Y_train = le.fit_transform(Y_train)\n",
    "    xt['Sex'] = le.fit_transform(x_test['Sex'])\n",
    "    Y_test = le.fit_transform(Y_test)\n",
    "    \n",
    "    return (xtr, xt, Y_train, Y_test)\n",
    "\n",
    "X_train, X_test, y_train, y_test = clean_penguin_data(X_train, X_test, y_train, y_test)"
   ]
  },
  {
   "cell_type": "code",
   "execution_count": 5,
   "metadata": {},
   "outputs": [
    {
     "name": "stdout",
     "output_type": "stream",
     "text": [
      "Flipper Length (mm) 455.7072058518755\n",
      "Culmen Depth (mm) 315.4109641320591\n",
      "Culmen Length (mm) 308.22792100679123\n",
      "Body Mass (g) 270.64662388142307\n",
      "Sex 0.3421039825847912\n"
     ]
    }
   ],
   "source": [
    "# Select 3 columns (features)\n",
    "\n",
    "from sklearn.feature_selection import f_classif\n",
    "threshold = 5 # the number of most relevant features\n",
    "high_score_features = []\n",
    "feature_scores = f_classif(X_train, y_train)[0]\n",
    "for score, f_name in sorted(zip(feature_scores, X_train.columns), reverse=True)[:threshold]:\n",
    "      print(f_name, score)\n",
    "      high_score_features.append(f_name)"
   ]
  },
  {
   "cell_type": "code",
   "execution_count": 6,
   "metadata": {},
   "outputs": [
    {
     "data": {
      "image/png": "[encoded data removed]",
      "text/plain": [
       "<Figure size 432x288 with 1 Axes>"
      ]
     },
     "metadata": {
      "needs_background": "light"
     },
     "output_type": "display_data"
    }
   ],
   "source": [
    "# Use cross-validation\n",
    "\n",
    "# First, drop the columns that aren't being used anymore\n",
    "X = penguins.drop(['Species', 'Culmen Length (mm)', 'Body Mass (g)'], axis=1)\n",
    "X_train, X_test, y_train, y_test = train_test_split(X, y, test_size = 0.2)\n",
    "X_train, X_test, y_train, y_test = clean_penguin_data(X_train, X_test, y_train, y_test)\n",
    "\n",
    "from sklearn.model_selection import cross_val_score\n",
    "from sklearn.neural_network import MLPClassifier\n",
    "\n",
    "fig, ax = plt.subplots(1)\n",
    "best_score = 0\n",
    "\n",
    "# For 30 depths, find the highest score to find the best depth\n",
    "for d in range(1,30):\n",
    "    clf = MLPClassifier(hidden_layer_sizes=(d, d, d), max_iter=3000)\n",
    "    cv_score = cross_val_score(clf, X_train, y_train, cv=10).mean()\n",
    "    ax.scatter(d, cv_score, color = \"black\")\n",
    "    if cv_score > best_score:\n",
    "        best_depth = d\n",
    "        best_score = cv_score\n",
    "        \n",
    "l = ax.set(title = \"Best Depth : \" + str(best_depth),\n",
    "xlabel = \"Depth\",\n",
    "ylabel = \"CV Score\")"
   ]
  },
  {
   "cell_type": "code",
   "execution_count": 7,
   "metadata": {},
   "outputs": [
    {
     "data": {
      "text/plain": [
       "0.8507462686567164"
      ]
     },
     "execution_count": 7,
     "metadata": {},
     "output_type": "execute_result"
    }
   ],
   "source": [
    "# Train an MLPClassifier at best complexity, and evaluate the model on the test set\n",
    "\n",
    "clf = MLPClassifier(hidden_layer_sizes=(17, 17, 17), max_iter=3000).fit(X_train, y_train)\n",
    "clf.score(X_test, y_test)"
   ]
  },
  {
   "cell_type": "code",
   "execution_count": 8,
   "metadata": {},
   "outputs": [
    {
     "data": {
      "image/png": "[encoded data removed]",
      "text/plain": [
       "<Figure size 432x288 with 2 Axes>"
      ]
     },
     "metadata": {
      "needs_background": "light"
     },
     "output_type": "display_data"
    }
   ],
   "source": [
    "# Create and comment on a confusion matrix \n",
    "\n",
    "from sklearn.metrics import confusion_matrix\n",
    "from sklearn.metrics import plot_confusion_matrix\n",
    "\n",
    "clf.fit(X_train, y_train)\n",
    "y_train_pred = clf.predict(X_train)\n",
    "c = confusion_matrix(y_train, y_train_pred)\n",
    "\n",
    "disp = plot_confusion_matrix(clf, X_test, y_test, cmap = plt.cm.Blues)"
   ]
  },
  {
   "cell_type": "code",
   "execution_count": 13,
   "metadata": {},
   "outputs": [],
   "source": [
    "x0 = X['Flipper Length (mm)']\n",
    "x1 = X['Culmen Depth (mm)']"
   ]
  },
  {
   "cell_type": "code",
   "execution_count": 17,
   "metadata": {},
   "outputs": [
    {
     "data": {
      "text/plain": [
       "(0      18.7\n",
       " 1      17.4\n",
       " 2      18.0\n",
       " 4      19.3\n",
       " 5      20.6\n",
       "        ... \n",
       " 338    13.7\n",
       " 340    14.3\n",
       " 341    15.7\n",
       " 342    14.8\n",
       " 343    16.1\n",
       " Name: Culmen Depth (mm), Length: 334, dtype: float64,\n",
       " 0      181.0\n",
       " 1      186.0\n",
       " 2      195.0\n",
       " 4      193.0\n",
       " 5      190.0\n",
       "        ...  \n",
       " 338    214.0\n",
       " 340    215.0\n",
       " 341    222.0\n",
       " 342    212.0\n",
       " 343    213.0\n",
       " Name: Flipper Length (mm), Length: 334, dtype: float64)"
      ]
     },
     "execution_count": 17,
     "metadata": {},
     "output_type": "execute_result"
    }
   ],
   "source": [
    "x1, x0"
   ]
  },
  {
   "cell_type": "code",
   "execution_count": 19,
   "metadata": {},
   "outputs": [],
   "source": [
    "grid_x = np.linspace(x0.min(),x0.max(),501)\n",
    "grid_y = np.linspace(x1.min(),x1.max(),501)\n",
    "xx, yy = np.meshgrid(grid_x, grid_y)"
   ]
  },
  {
   "cell_type": "code",
   "execution_count": 20,
   "metadata": {},
   "outputs": [],
   "source": [
    "XX = xx.ravel()\n",
    "YY = yy.ravel()\n",
    "XY = np.c_[XX, YY]"
   ]
  },
  {
   "cell_type": "code",
   "execution_count": 21,
   "metadata": {},
   "outputs": [
    {
     "data": {
      "text/plain": [
       "array([[172.   ,  13.1  ],\n",
       "       [172.118,  13.1  ],\n",
       "       [172.236,  13.1  ],\n",
       "       ...,\n",
       "       [230.764,  21.5  ],\n",
       "       [230.882,  21.5  ],\n",
       "       [231.   ,  21.5  ]])"
      ]
     },
     "execution_count": 21,
     "metadata": {},
     "output_type": "execute_result"
    }
   ],
   "source": [
    "XY"
   ]
  },
  {
   "cell_type": "code",
   "execution_count": 55,
   "metadata": {},
   "outputs": [
    {
     "name": "stdout",
     "output_type": "stream",
     "text": [
      "501\n",
      "501\n"
     ]
    }
   ],
   "source": [
    "p = clf.predict(XY)\n",
    "p = p.reshape(xx.shape)\n",
    "print(len(p))\n",
    "counter = 0\n",
    "for num in p:\n",
    "    if num.all() == 0:\n",
    "        counter += 1\n",
    "print(counter)\n",
    "    "
   ]
  },
  {
   "cell_type": "code",
   "execution_count": 26,
   "metadata": {},
   "outputs": [
    {
     "data": {
      "image/png": "[encoded data removed]",
      "text/plain": [
       "<Figure size 432x288 with 1 Axes>"
      ]
     },
     "metadata": {
      "needs_background": "light"
     },
     "output_type": "display_data"
    }
   ],
   "source": [
    "fig, ax = plt.subplots(1)"
   ]
  },
  {
   "cell_type": "code",
   "execution_count": 28,
   "metadata": {},
   "outputs": [
    {
     "data": {
      "image/png": "[encoded data removed]",
      "text/plain": [
       "<Figure size 432x288 with 1 Axes>"
      ]
     },
     "execution_count": 28,
     "metadata": {},
     "output_type": "execute_result"
    }
   ],
   "source": [
    "ax.contourf(xx, yy, p, cmap = \"jet\", alpha = 0.2, vmin = 0, vmax = 2)\n",
    "fig"
   ]
  },
  {
   "cell_type": "code",
   "execution_count": 39,
   "metadata": {},
   "outputs": [
    {
     "data": {
      "image/png": "[encoded data removed]",
      "text/plain": [
       "<Figure size 432x288 with 1 Axes>"
      ]
     },
     "execution_count": 39,
     "metadata": {},
     "output_type": "execute_result"
    }
   ],
   "source": [
    "ax.scatter(x0, x1, cmap = \"jet\", vmin = 0, vmax = 2)\n",
    "fig"
   ]
  },
  {
   "cell_type": "code",
   "execution_count": 40,
   "metadata": {},
   "outputs": [
    {
     "data": {
      "image/png": "[encoded data removed]",
      "text/plain": [
       "<Figure size 432x288 with 1 Axes>"
      ]
     },
     "execution_count": 40,
     "metadata": {},
     "output_type": "execute_result"
    }
   ],
   "source": [
    "ax.set(xlabel = \"Flipper Length (mm)\", ylabel = \"Culmen Depth (mm)\")\n",
    "fig"
   ]
  },
  {
   "cell_type": "code",
   "execution_count": null,
   "metadata": {},
   "outputs": [],
   "source": []
  }
 ],
 "metadata": {
  "kernelspec": {
   "display_name": "Python 3",
   "language": "python",
   "name": "python3"
  },
  "language_info": {
   "codemirror_mode": {
    "name": "ipython",
    "version": 3
   },
   "file_extension": ".py",
   "mimetype": "text/x-python",
   "name": "python",
   "nbconvert_exporter": "python",
   "pygments_lexer": "ipython3",
   "version": "3.8.5"
  }
 },
 "nbformat": 4,
 "nbformat_minor": 4
}
