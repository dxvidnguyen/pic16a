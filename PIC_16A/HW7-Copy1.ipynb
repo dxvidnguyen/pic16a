{
 "cells": [
  {
   "cell_type": "markdown",
   "metadata": {},
   "source": [
    "# Homework 7\n",
    "\n",
    "Unlike previous homework assignments, this homework is **completed as a group** and **submitted on CCLE.** In other words, it's similar to an extended Discussion Activity. \n",
    "\n",
    "> We affirm that we personally wrote the text, code, and comments in this homework assignment. \n",
    "\n",
    "> We received help from \\[live lecture notes\\]  who gave me suggestions on \\[plotting the graphs and checking to see for mistakes\\].\n",
    "\n",
    "\\- \\[Lauren, Rashi, David\\] May 26, 2021"
   ]
  },
  {
   "cell_type": "markdown",
   "metadata": {},
   "source": [
    "## Problem 0\n",
    "\n",
    "It is highly recommended that you work with your group to fully complete the previous Discussion assignments related to the project this week, as all of these are directly helpful for your project submission. "
   ]
  },
  {
   "cell_type": "markdown",
   "metadata": {},
   "source": [
    "## Problem 1\n",
    "\n",
    "In your project, you are required to demonstrate the use of decision trees and multinomial logistic regression classifiers. Groups of three must also demonstrate the use of one additional model. In this homework assignment, you will write a detailed report that will largely fulfill this requirement. \n",
    "\n",
    "Choose one machine learning model, other than decision trees and multinomial logistic regression (unless you are a group of 2 -- see below). Some possibilities include, but are not limited to: \n",
    "\n",
    "- Support vector classifiers (`sklearn.svm.SVC`). Complexity parameter is called `gamma`. Higher values create more complex models)\n",
    "- K-nearest-neighbor classifiers (`sklearn.neighbors.KNeighborsClassifier`). Complexity parameter is called `n_neighbors`. Higher values create less complex models. When working with KNN models, it is helpful to standardize your data columns first. For this purpose, `sklearn.preprocessing.StandardScaler` can be used. \n",
    "- Multilayer perceptron classifier, a kind of neural network (`sklearn.neural_network.MLPClassifier`). The complexity is controlled by the number of neurons and layers, as specified by the `hidden_layer_sizes` parameter -- more neurons and layers correspond to more complex models. \n",
    "\n",
    "You should consult the documentation for these models, which is available online or via `?`. \n",
    "\n",
    "\n",
    "#### Groups of 2\n",
    "\n",
    "If you are a group of 2, you are not required to use an additional model and may instead use multinomial logistic regression for this assignment. Please note this in your submission. \n",
    "\n",
    "- Multinomial logistic regression (`sklearn.linear_model.LogisticRegression`). The complexity is controlled by `C`, the inverse regularization strength. Larger values of `C` correspond to more complex models. \n",
    "\n",
    "### Instructions\n",
    "\n",
    "Replicate and expand the pipeline from Discussion 15, substituting out decision trees for your chosen classifier. In particular, you should: \n",
    "\n",
    "1. **Load** the data. \n",
    "2. **Split the data** into training and test sets. \n",
    "3. Write one or more functions to **clean and transform the data** as needed. You should add comments and function docstrings as appropriate to describe to your reader what you are doing and why. Apply your functions to the training and test sets. \n",
    "4. **Select 3 columns (features)** from the data. You are required to use at least one qualitative feature (like Island or Sex). We saw one way of doing this \"by hand\" during a previous Live Lecture, but there are many other approaches as well. You may wish to delegate one group member to do some research on the topic of \"feature selection in Python with sklearn\". \n",
    "4. **Use cross-validation** to estimate optimal model complexity (*Note*: cross-validation is also an acceptable way to perform feature selection -- you may use it above, but you are required to use it here). \n",
    "5. Having selected your features and an optimal complexity, **evaluate your model on the test set.** \n",
    "6. **Inspect** a few instances in which your trained model gave the wrong answer on the test set. Explain why your model was \"tricked\" in this case? Create and comment on a confusion matrix -- [check Monday's lecture notes](https://nbviewer.jupyter.org/github/PhilChodrow/PIC16A/blob/master/content/ML/digits.ipynb) for an example. \n",
    "7. **Plot the decision regions** for your model. These are covered in a recent live lecture, and code required to construct them is below. The horizontal and vertical axes should be the two quantitative predictor variables that you selected. Create a separate plot for each possible value of the qualitative predictor variable that you selected. For example, if you chose `Sex` as your qualitative variable, you should show two plots, with the decision regions for Female and Male penguins separately. Add appropriate axis labels and any other measures required to make your plots look professional. Add commentary to contextualize the mistakes that your model made. \n",
    "    - You are welcome to use the [code from live lecture](https://nbviewer.jupyter.org/github/PhilChodrow/PIC16A/blob/master/live_lectures/22-live-lecture.ipynb) for this purpose. A common pitfall when using code for manual decision regions is re-training a model (using `model.fit()`) once for each plot. You should ensure that your model is only trained once, and that its predictions are then extracted for each plot. \n",
    "\n",
    "Throughout, add helpful explanation for your reader. For example, you should explain the idea behind cross-validation; anything you are able to learn about how your model works; how to interpret the optimal complexity parameter; and why your model went wrong in certain cases.  \n",
    "\n",
    "### Additional Specifications\n",
    "\n",
    "This homework will be graded by me personally, and will be graded using a rubric very similar to that used for the final project. I'll also give you some feedback indicating how you can improve. To get the most benefit out of this feedback, you should **treat this homework as a rehearsal for the full project.** \n",
    "\n",
    "Your solution should **not** fit in a single code cell -- a good, readable, and adequately-explained solution will likely require at least one code cell for each of the eight steps above. Make sure that there is plenty of surrounding text explanation and comments. Add code cells and plenty of markdown cells as needed. You can also use section headers with `###` to organize your work. \n",
    "\n",
    "Your comments and explanation should be written to an imaginary reader who has never encountered the Palmer Penguins data set before, and knows less about machine learning than you do. Explain your steps. Why train-test split? Why cross-validation? Why decision regions? And so on. If you'd like, imagine that you are writing to a time-traveller version of you from two weeks ago. \n",
    "\n",
    "It is not necessary to submit the HW on a copy of this notebook -- you may create and submit a fresh notebook if you wold like. Regardless, \n",
    "\n",
    "#### You are required to include a Group Contributions Statement on this HW. \n",
    "\n",
    "## Your Solution"
   ]
  },
  {
   "cell_type": "code",
   "execution_count": 1,
   "metadata": {},
   "outputs": [],
   "source": [
    "# Imports\n",
    "import pandas as pd\n",
    "from matplotlib import pyplot as plt\n",
    "from sklearn import tree, preprocessing\n",
    "import numpy as np"
   ]
  },
  {
   "cell_type": "code",
   "execution_count": 2,
   "metadata": {},
   "outputs": [],
   "source": [
    "# Load the data\n",
    "url = \"https://philchodrow.github.io/PIC16A/datasets/palmer_penguins.csv\"\n",
    "penguins = pd.read_csv(url)"
   ]
  },
  {
   "cell_type": "code",
   "execution_count": 3,
   "metadata": {},
   "outputs": [],
   "source": [
    "#drop penguin with sex as period\n",
    "penguins = penguins.drop(penguins.index[336])"
   ]
  },
  {
   "cell_type": "code",
   "execution_count": 4,
   "metadata": {},
   "outputs": [],
   "source": [
    "# Split the data into test/train sets\n",
    "from sklearn.model_selection import train_test_split\n",
    "\n",
    "penguins = penguins[['Species', 'Culmen Length (mm)', \n",
    "                     'Culmen Depth (mm)', 'Flipper Length (mm)', \n",
    "                     'Body Mass (g)', 'Sex']]\n",
    "penguins = penguins.dropna()\n",
    "# make sure that the random values that your code will generate \n",
    "# will be the same every time you run the code.\n",
    "np.random.seed(3354354524)\n",
    "\n",
    "# Since Species is the target variable...\n",
    "X = penguins.drop(['Species'], axis = 1)\n",
    "y = penguins['Species']\n",
    "\n",
    "X_train, X_test, y_train, y_test = train_test_split(X, y, test_size = 0.2)"
   ]
  },
  {
   "cell_type": "code",
   "execution_count": 5,
   "metadata": {},
   "outputs": [],
   "source": [
    "# Clean and transform the data\n",
    "\n",
    "def clean_penguin_data(x_train, x_test, Y_train, Y_test):\n",
    "    '''\n",
    "    clean_penguin_data takes in the four train/test sets as parameters\n",
    "    and cleans the data for each and then returns the cleaned copies back\n",
    "    '''\n",
    "    xtr = x_train.copy()\n",
    "    xt = x_test.copy()\n",
    "    le = preprocessing.LabelEncoder()\n",
    "    xtr['Sex'] = le.fit_transform(x_train['Sex'])\n",
    "    Y_train = le.fit_transform(Y_train)\n",
    "    xt['Sex'] = le.fit_transform(x_test['Sex'])\n",
    "    Y_test = le.fit_transform(Y_test)\n",
    "    \n",
    "    return (xtr, xt, Y_train, Y_test)\n",
    "\n",
    "X_train, X_test, y_train, y_test = clean_penguin_data(X_train, X_test, y_train, y_test)"
   ]
  },
  {
   "cell_type": "code",
   "execution_count": 6,
   "metadata": {},
   "outputs": [
    {
     "name": "stdout",
     "output_type": "stream",
     "text": [
      "Flipper Length (mm) 457.9338633778228\n",
      "Culmen Length (mm) 314.000282132296\n",
      "Body Mass (g) 289.5602925739326\n",
      "Culmen Depth (mm) 281.48061139126463\n",
      "Sex 0.0018421586083179375\n"
     ]
    }
   ],
   "source": [
    "# Select 3 columns (features)\n",
    "\n",
    "from sklearn.feature_selection import f_classif\n",
    "threshold = 5 # the number of most relevant features\n",
    "high_score_features = []\n",
    "feature_scores = f_classif(X_train, y_train)[0]\n",
    "for score, f_name in sorted(zip(feature_scores, X_train.columns), reverse=True)[:threshold]:\n",
    "      print(f_name, score)\n",
    "      high_score_features.append(f_name)"
   ]
  },
  {
   "cell_type": "markdown",
   "metadata": {},
   "source": [
    "### Selected Columns\n",
    "We can see that the Flipper Length, Culmen Depth, and Culmen Length are the most relevant features.\n",
    "Since it is required to have a qualitative column as well, we will choose the top two columns and one qualitative feature.\n",
    "\n",
    "So, the 3 columns that we choose are **Flipper Length, Culmen Depth, and Sex**."
   ]
  },
  {
   "cell_type": "code",
   "execution_count": 7,
   "metadata": {},
   "outputs": [
    {
     "data": {
      "image/png": "[encoded data removed]",
      "text/plain": [
       "<Figure size 432x288 with 1 Axes>"
      ]
     },
     "metadata": {
      "needs_background": "light"
     },
     "output_type": "display_data"
    }
   ],
   "source": [
    "# Use cross-validation\n",
    "\n",
    "# First, drop the columns that aren't being used anymore\n",
    "X = penguins.drop(['Species', 'Culmen Length (mm)', 'Body Mass (g)'], axis=1)\n",
    "X_train, X_test, y_train, y_test = train_test_split(X, y, test_size = 0.2)\n",
    "X_train, X_test, y_train, y_test = clean_penguin_data(X_train, X_test, y_train, y_test)\n",
    "\n",
    "from sklearn.model_selection import cross_val_score\n",
    "from sklearn.neural_network import MLPClassifier\n",
    "\n",
    "fig, ax = plt.subplots(1)\n",
    "best_score = 0\n",
    "\n",
    "# For 30 depths, find the highest score to find the best depth\n",
    "for d in range(1,30):\n",
    "    clf = MLPClassifier(hidden_layer_sizes=(d, d, d), max_iter=3000)\n",
    "    cv_score = cross_val_score(clf, X_train, y_train, cv=10).mean()\n",
    "    ax.scatter(d, cv_score, color = \"black\")\n",
    "    if cv_score > best_score:\n",
    "        best_depth = d\n",
    "        best_score = cv_score\n",
    "        \n",
    "l = ax.set(title = \"Best Depth : \" + str(best_depth),\n",
    "xlabel = \"Depth\",\n",
    "ylabel = \"CV Score\")"
   ]
  },
  {
   "cell_type": "code",
   "execution_count": 8,
   "metadata": {},
   "outputs": [
    {
     "data": {
      "text/plain": [
       "0.7313432835820896"
      ]
     },
     "execution_count": 8,
     "metadata": {},
     "output_type": "execute_result"
    }
   ],
   "source": [
    "# Train an MLPClassifier at best complexity, and evaluate the model on the test set\n",
    "\n",
    "clf = MLPClassifier(hidden_layer_sizes=(17, 17, 17), max_iter=3000).fit(X_train, y_train)\n",
    "clf.score(X_test, y_test)"
   ]
  },
  {
   "cell_type": "code",
   "execution_count": 9,
   "metadata": {},
   "outputs": [
    {
     "data": {
      "image/png": "[encoded data removed]",
      "text/plain": [
       "<Figure size 432x288 with 2 Axes>"
      ]
     },
     "metadata": {
      "needs_background": "light"
     },
     "output_type": "display_data"
    }
   ],
   "source": [
    "# Create and comment on a confusion matrix \n",
    "\n",
    "from sklearn.metrics import confusion_matrix\n",
    "from sklearn.metrics import plot_confusion_matrix\n",
    "\n",
    "clf.fit(X_train, y_train)\n",
    "y_train_pred = clf.predict(X_train)\n",
    "c = confusion_matrix(y_train, y_train_pred)\n",
    "\n",
    "disp = plot_confusion_matrix(clf, X_test, y_test, cmap = plt.cm.Blues)"
   ]
  },
  {
   "cell_type": "code",
   "execution_count": 10,
   "metadata": {},
   "outputs": [
    {
     "data": {
      "text/plain": [
       "array([[108,   9,   0],\n",
       "       [ 53,   7,   0],\n",
       "       [  0,   0,  89]])"
      ]
     },
     "execution_count": 10,
     "metadata": {},
     "output_type": "execute_result"
    }
   ],
   "source": [
    "#array for confusin matrix\n",
    "c"
   ]
  },
  {
   "cell_type": "code",
   "execution_count": 15,
   "metadata": {},
   "outputs": [
    {
     "data": {
      "text/plain": [
       "(array([0, 0, 0, 0, 1, 0, 0, 0, 0, 0, 1, 0, 0, 0, 0, 1, 0, 0, 0, 0, 0, 1,\n",
       "        0, 0, 0, 0, 0, 0, 0, 0, 1, 0, 0, 0, 0, 0, 0, 1, 0, 1, 0, 0, 0, 0,\n",
       "        0, 0, 0, 0, 1, 0, 0, 0, 1, 0, 0, 0, 0, 0, 0, 0, 0, 0]),\n",
       " array([1, 1, 1, 1, 0, 1, 1, 1, 1, 1, 0, 1, 1, 1, 1, 0, 1, 1, 1, 1, 1, 0,\n",
       "        1, 1, 1, 1, 1, 1, 1, 1, 0, 1, 1, 1, 1, 1, 1, 0, 1, 0, 1, 1, 1, 1,\n",
       "        1, 1, 1, 1, 0, 1, 1, 1, 0, 1, 1, 1, 1, 1, 1, 1, 1, 1]))"
      ]
     },
     "execution_count": 15,
     "metadata": {},
     "output_type": "execute_result"
    }
   ],
   "source": [
    "mistakes = X_train[y_train != y_train_pred]\n",
    "mistake_labels = y_train[y_train != y_train_pred]\n",
    "mistake_preds = y_train_pred[y_train != y_train_pred]\n",
    "\n",
    "mistake_preds, mistake_labels\n",
    "#pred is the what the model gave / predicted\n",
    "#label is the actual value"
   ]
  },
  {
   "cell_type": "markdown",
   "metadata": {},
   "source": [
    "Note: For species <br>\n",
    "0 = adelie  <br>\n",
    "1 = chinstrap<br>\n",
    "2 = gentoo"
   ]
  },
  {
   "cell_type": "markdown",
   "metadata": {},
   "source": [
    "### Discussion of Mistakes\n",
    "As we were training our model, we used Flipper Length, Culmen Depth, and Sex. The model wrong and had managed to classify all the chinstrap penguins as adelie penguins. The model probably was tricked because the adelie and chinstrap penguins are similar sizes. Although generally the chinstrap is typically slightly larger than the adelie penguins, the difference was not apparent enough for our model to take notice. The model was only able to notice the difference between the adelie and chinstrap as 1 group and the gentoo as its own group. While the model failed to see the difference between the adelie and chinstrap, the gentoo penguins size was noticably larger and the model could recognize them as their own. It is possible that the categories we chose were not optimal which allowed our model to get tricked.Because of the similarity in size, the model was tricked. Maybe for our finalized version, we could replace one of our current categories with a category with more variance so the data will be able to pick out differences. \n"
   ]
  },
  {
   "cell_type": "code",
   "execution_count": 14,
   "metadata": {},
   "outputs": [
    {
     "data": {
      "text/plain": [
       "array([[2, 2, 2, ..., 0, 0, 0],\n",
       "       [2, 2, 2, ..., 0, 0, 0],\n",
       "       [2, 2, 2, ..., 0, 0, 0],\n",
       "       ...,\n",
       "       [2, 2, 2, ..., 0, 0, 0],\n",
       "       [2, 2, 2, ..., 0, 0, 0],\n",
       "       [2, 2, 2, ..., 0, 0, 0]])"
      ]
     },
     "execution_count": 14,
     "metadata": {},
     "output_type": "execute_result"
    },
    {
     "data": {
      "image/png": "[encoded data removed]",
      "text/plain": [
       "<Figure size 432x288 with 1 Axes>"
      ]
     },
     "metadata": {
      "needs_background": "light"
     },
     "output_type": "display_data"
    },
    {
     "data": {
      "image/png": "[encoded data removed]",
      "text/plain": [
       "<Figure size 432x288 with 1 Axes>"
      ]
     },
     "metadata": {
      "needs_background": "light"
     },
     "output_type": "display_data"
    }
   ],
   "source": [
    "# Plot the decision regions\n",
    "from sklearn import tree\n",
    "def plot_regions(c, X, y):\n",
    "    '''\n",
    "    function used to plot regions \n",
    "    borrowed from the live lecture's code\n",
    "    '''\n",
    "        \n",
    "    # for convenience, give names to the two \n",
    "    # columns of the data\n",
    "    x1 = X['Flipper Length (mm)']\n",
    "    x0 = X['Culmen Depth (mm)']\n",
    "    \n",
    "    # create a grid\n",
    "    grid_x = np.linspace(x0.min(),x0.max(),501)\n",
    "    grid_y = np.linspace(x1.min(),x1.max(),501)\n",
    "    xx, yy = np.meshgrid(grid_x, grid_y)\n",
    "    \n",
    "    # extract model predictions, using the \n",
    "    # np.c_ attribute to join together the \n",
    "    # two parts of the grid. \n",
    "    # array.ravel() converts an multidimensional\n",
    "    # array into a 1d array, and we use array.reshape()\n",
    "    # to turn the resulting predictions p \n",
    "    # back into 2d\n",
    "    \n",
    "    XX = xx.ravel()\n",
    "    YY = yy.ravel()\n",
    "    \n",
    "    XY = np.c_[XX, YY]\n",
    "\n",
    "    p = c.predict(XY)\n",
    "    p = p.reshape(xx.shape)\n",
    "    \n",
    "    # create the plot\n",
    "    fig, ax = plt.subplots(1)\n",
    "    \n",
    "    # use contour plot to visualize the predictions\n",
    "    ax.contourf(xx, yy, p, cmap = \"jet\", alpha = 0.2, vmin = 0, vmax = 2)\n",
    "    \n",
    "    # plot the data\n",
    "    ax.scatter(x0, x1, c = y, cmap = \"jet\", vmin = 0, vmax = 2)\n",
    "    \n",
    "    ax.set(xlabel = \"Flipper Length (mm)\", \n",
    "           ylabel = \"Culmen Depth (mm)\")\n",
    "    \n",
    "    return p\n",
    "\n",
    "\n",
    "# Fit the model with dropped Sex column, so that it can have 2 columns for plot regions\n",
    "clf.fit(X_train.drop(['Sex'], axis=1), y_train)\n",
    "\n",
    "# Separate the males and females, drop the sex column, predict the y's and plot\n",
    "X_male = X_train.loc[X_train['Sex'] == 0]\n",
    "X_male = X_male.drop(['Sex'], axis=1)\n",
    "y_male = clf.predict(X_male)\n",
    "\n",
    "X_female = X_train.loc[X_train['Sex'] == 1]\n",
    "X_female = X_female.drop(['Sex'], axis=1)\n",
    "y_female = clf.predict(X_female)\n",
    "\n",
    "thing = plot_regions(clf, X_male, y_male)\n",
    "plot_regions(clf, X_female, y_female)"
   ]
  },
  {
   "cell_type": "markdown",
   "metadata": {},
   "source": [
    "Group Contribution Statement:\n",
    "\n",
    "Lauren did the actual coding for loading in the data prepping it. \n",
    "Rashi and Lauren both worked on deciding which columns would be used and cross validating the data.\n",
    "Lauren created the confusion matrix.\n",
    "David intrepreted the confusion matrix and wrote the explaination.\n",
    "Lauren and David worked on plotting the regions.\n",
    "\n"
   ]
  },
  {
   "cell_type": "code",
   "execution_count": 13,
   "metadata": {},
   "outputs": [
    {
     "data": {
      "text/html": [
       "<div>\n",
       "<style scoped>\n",
       "    .dataframe tbody tr th:only-of-type {\n",
       "        vertical-align: middle;\n",
       "    }\n",
       "\n",
       "    .dataframe tbody tr th {\n",
       "        vertical-align: top;\n",
       "    }\n",
       "\n",
       "    .dataframe thead th {\n",
       "        text-align: right;\n",
       "    }\n",
       "</style>\n",
       "<table border=\"1\" class=\"dataframe\">\n",
       "  <thead>\n",
       "    <tr style=\"text-align: right;\">\n",
       "      <th></th>\n",
       "      <th>Culmen Depth (mm)</th>\n",
       "      <th>Flipper Length (mm)</th>\n",
       "      <th>Sex</th>\n",
       "    </tr>\n",
       "  </thead>\n",
       "  <tbody>\n",
       "    <tr>\n",
       "      <th>141</th>\n",
       "      <td>17.2</td>\n",
       "      <td>187.0</td>\n",
       "      <td>1</td>\n",
       "    </tr>\n",
       "    <tr>\n",
       "      <th>328</th>\n",
       "      <td>14.0</td>\n",
       "      <td>208.0</td>\n",
       "      <td>0</td>\n",
       "    </tr>\n",
       "    <tr>\n",
       "      <th>178</th>\n",
       "      <td>18.4</td>\n",
       "      <td>200.0</td>\n",
       "      <td>0</td>\n",
       "    </tr>\n",
       "    <tr>\n",
       "      <th>23</th>\n",
       "      <td>18.1</td>\n",
       "      <td>185.0</td>\n",
       "      <td>1</td>\n",
       "    </tr>\n",
       "    <tr>\n",
       "      <th>202</th>\n",
       "      <td>16.4</td>\n",
       "      <td>199.0</td>\n",
       "      <td>0</td>\n",
       "    </tr>\n",
       "    <tr>\n",
       "      <th>...</th>\n",
       "      <td>...</td>\n",
       "      <td>...</td>\n",
       "      <td>...</td>\n",
       "    </tr>\n",
       "    <tr>\n",
       "      <th>105</th>\n",
       "      <td>18.9</td>\n",
       "      <td>184.0</td>\n",
       "      <td>1</td>\n",
       "    </tr>\n",
       "    <tr>\n",
       "      <th>247</th>\n",
       "      <td>15.0</td>\n",
       "      <td>215.0</td>\n",
       "      <td>1</td>\n",
       "    </tr>\n",
       "    <tr>\n",
       "      <th>272</th>\n",
       "      <td>14.4</td>\n",
       "      <td>210.0</td>\n",
       "      <td>0</td>\n",
       "    </tr>\n",
       "    <tr>\n",
       "      <th>107</th>\n",
       "      <td>20.0</td>\n",
       "      <td>190.0</td>\n",
       "      <td>1</td>\n",
       "    </tr>\n",
       "    <tr>\n",
       "      <th>59</th>\n",
       "      <td>19.1</td>\n",
       "      <td>194.0</td>\n",
       "      <td>1</td>\n",
       "    </tr>\n",
       "  </tbody>\n",
       "</table>\n",
       "<p>266 rows × 3 columns</p>\n",
       "</div>"
      ],
      "text/plain": [
       "     Culmen Depth (mm)  Flipper Length (mm)  Sex\n",
       "141               17.2                187.0    1\n",
       "328               14.0                208.0    0\n",
       "178               18.4                200.0    0\n",
       "23                18.1                185.0    1\n",
       "202               16.4                199.0    0\n",
       "..                 ...                  ...  ...\n",
       "105               18.9                184.0    1\n",
       "247               15.0                215.0    1\n",
       "272               14.4                210.0    0\n",
       "107               20.0                190.0    1\n",
       "59                19.1                194.0    1\n",
       "\n",
       "[266 rows x 3 columns]"
      ]
     },
     "execution_count": 13,
     "metadata": {},
     "output_type": "execute_result"
    }
   ],
   "source": [
    "X_train"
   ]
  },
  {
   "cell_type": "code",
   "execution_count": null,
   "metadata": {},
   "outputs": [],
   "source": []
  }
 ],
 "metadata": {
  "kernelspec": {
   "display_name": "Python 3",
   "language": "python",
   "name": "python3"
  },
  "language_info": {
   "codemirror_mode": {
    "name": "ipython",
    "version": 3
   },
   "file_extension": ".py",
   "mimetype": "text/x-python",
   "name": "python",
   "nbconvert_exporter": "python",
   "pygments_lexer": "ipython3",
   "version": "3.8.5"
  }
 },
 "nbformat": 4,
 "nbformat_minor": 4
}
