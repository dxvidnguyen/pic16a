{
 "cells": [
  {
   "cell_type": "code",
   "execution_count": 2,
   "metadata": {
    "scrolled": true
   },
   "outputs": [
    {
     "data": {
      "text/html": [
       "<div>\n",
       "<style scoped>\n",
       "    .dataframe tbody tr th:only-of-type {\n",
       "        vertical-align: middle;\n",
       "    }\n",
       "\n",
       "    .dataframe tbody tr th {\n",
       "        vertical-align: top;\n",
       "    }\n",
       "\n",
       "    .dataframe thead th {\n",
       "        text-align: right;\n",
       "    }\n",
       "</style>\n",
       "<table border=\"1\" class=\"dataframe\">\n",
       "  <thead>\n",
       "    <tr style=\"text-align: right;\">\n",
       "      <th></th>\n",
       "      <th>Species</th>\n",
       "      <th>Island</th>\n",
       "      <th>Culmen Length (mm)</th>\n",
       "      <th>Culmen Depth (mm)</th>\n",
       "      <th>Flipper Length (mm)</th>\n",
       "      <th>Body Mass (g)</th>\n",
       "      <th>Sex</th>\n",
       "      <th>Delta 15 N (o/oo)</th>\n",
       "      <th>Delta 13 C (o/oo)</th>\n",
       "    </tr>\n",
       "  </thead>\n",
       "  <tbody>\n",
       "    <tr>\n",
       "      <th>1</th>\n",
       "      <td>Adelie</td>\n",
       "      <td>3</td>\n",
       "      <td>39.5</td>\n",
       "      <td>17.4</td>\n",
       "      <td>186.0</td>\n",
       "      <td>3800.0</td>\n",
       "      <td>1</td>\n",
       "      <td>8.94956</td>\n",
       "      <td>-24.69454</td>\n",
       "    </tr>\n",
       "    <tr>\n",
       "      <th>2</th>\n",
       "      <td>Adelie</td>\n",
       "      <td>3</td>\n",
       "      <td>40.3</td>\n",
       "      <td>18.0</td>\n",
       "      <td>195.0</td>\n",
       "      <td>3250.0</td>\n",
       "      <td>1</td>\n",
       "      <td>8.36821</td>\n",
       "      <td>-25.33302</td>\n",
       "    </tr>\n",
       "    <tr>\n",
       "      <th>4</th>\n",
       "      <td>Adelie</td>\n",
       "      <td>3</td>\n",
       "      <td>36.7</td>\n",
       "      <td>19.3</td>\n",
       "      <td>193.0</td>\n",
       "      <td>3450.0</td>\n",
       "      <td>1</td>\n",
       "      <td>8.76651</td>\n",
       "      <td>-25.32426</td>\n",
       "    </tr>\n",
       "    <tr>\n",
       "      <th>5</th>\n",
       "      <td>Adelie</td>\n",
       "      <td>3</td>\n",
       "      <td>39.3</td>\n",
       "      <td>20.6</td>\n",
       "      <td>190.0</td>\n",
       "      <td>3650.0</td>\n",
       "      <td>0</td>\n",
       "      <td>8.66496</td>\n",
       "      <td>-25.29805</td>\n",
       "    </tr>\n",
       "    <tr>\n",
       "      <th>6</th>\n",
       "      <td>Adelie</td>\n",
       "      <td>3</td>\n",
       "      <td>38.9</td>\n",
       "      <td>17.8</td>\n",
       "      <td>181.0</td>\n",
       "      <td>3625.0</td>\n",
       "      <td>1</td>\n",
       "      <td>9.18718</td>\n",
       "      <td>-25.21799</td>\n",
       "    </tr>\n",
       "    <tr>\n",
       "      <th>7</th>\n",
       "      <td>Adelie</td>\n",
       "      <td>3</td>\n",
       "      <td>39.2</td>\n",
       "      <td>19.6</td>\n",
       "      <td>195.0</td>\n",
       "      <td>4675.0</td>\n",
       "      <td>0</td>\n",
       "      <td>9.46060</td>\n",
       "      <td>-24.89958</td>\n",
       "    </tr>\n",
       "    <tr>\n",
       "      <th>14</th>\n",
       "      <td>Adelie</td>\n",
       "      <td>3</td>\n",
       "      <td>34.6</td>\n",
       "      <td>21.1</td>\n",
       "      <td>198.0</td>\n",
       "      <td>4400.0</td>\n",
       "      <td>0</td>\n",
       "      <td>8.55583</td>\n",
       "      <td>-25.22588</td>\n",
       "    </tr>\n",
       "    <tr>\n",
       "      <th>16</th>\n",
       "      <td>Adelie</td>\n",
       "      <td>3</td>\n",
       "      <td>38.7</td>\n",
       "      <td>19.0</td>\n",
       "      <td>195.0</td>\n",
       "      <td>3450.0</td>\n",
       "      <td>1</td>\n",
       "      <td>9.18528</td>\n",
       "      <td>-25.06691</td>\n",
       "    </tr>\n",
       "    <tr>\n",
       "      <th>17</th>\n",
       "      <td>Adelie</td>\n",
       "      <td>3</td>\n",
       "      <td>42.5</td>\n",
       "      <td>20.7</td>\n",
       "      <td>197.0</td>\n",
       "      <td>4500.0</td>\n",
       "      <td>0</td>\n",
       "      <td>8.67538</td>\n",
       "      <td>-25.13993</td>\n",
       "    </tr>\n",
       "    <tr>\n",
       "      <th>18</th>\n",
       "      <td>Adelie</td>\n",
       "      <td>3</td>\n",
       "      <td>34.4</td>\n",
       "      <td>18.4</td>\n",
       "      <td>184.0</td>\n",
       "      <td>3325.0</td>\n",
       "      <td>1</td>\n",
       "      <td>8.47827</td>\n",
       "      <td>-25.23319</td>\n",
       "    </tr>\n",
       "  </tbody>\n",
       "</table>\n",
       "</div>"
      ],
      "text/plain": [
       "   Species  Island  Culmen Length (mm)  Culmen Depth (mm)  \\\n",
       "1   Adelie       3                39.5               17.4   \n",
       "2   Adelie       3                40.3               18.0   \n",
       "4   Adelie       3                36.7               19.3   \n",
       "5   Adelie       3                39.3               20.6   \n",
       "6   Adelie       3                38.9               17.8   \n",
       "7   Adelie       3                39.2               19.6   \n",
       "14  Adelie       3                34.6               21.1   \n",
       "16  Adelie       3                38.7               19.0   \n",
       "17  Adelie       3                42.5               20.7   \n",
       "18  Adelie       3                34.4               18.4   \n",
       "\n",
       "    Flipper Length (mm)  Body Mass (g)  Sex  Delta 15 N (o/oo)  \\\n",
       "1                 186.0         3800.0    1            8.94956   \n",
       "2                 195.0         3250.0    1            8.36821   \n",
       "4                 193.0         3450.0    1            8.76651   \n",
       "5                 190.0         3650.0    0            8.66496   \n",
       "6                 181.0         3625.0    1            9.18718   \n",
       "7                 195.0         4675.0    0            9.46060   \n",
       "14                198.0         4400.0    0            8.55583   \n",
       "16                195.0         3450.0    1            9.18528   \n",
       "17                197.0         4500.0    0            8.67538   \n",
       "18                184.0         3325.0    1            8.47827   \n",
       "\n",
       "    Delta 13 C (o/oo)  \n",
       "1           -24.69454  \n",
       "2           -25.33302  \n",
       "4           -25.32426  \n",
       "5           -25.29805  \n",
       "6           -25.21799  \n",
       "7           -24.89958  \n",
       "14          -25.22588  \n",
       "16          -25.06691  \n",
       "17          -25.13993  \n",
       "18          -25.23319  "
      ]
     },
     "execution_count": 2,
     "metadata": {},
     "output_type": "execute_result"
    }
   ],
   "source": [
    "import pandas as pd\n",
    "from matplotlib import pyplot as plt\n",
    "import numpy as np\n",
    "from sklearn.model_selection import train_test_split\n",
    "from sklearn import tree\n",
    "from sklearn.model_selection import cross_val_score\n",
    "\n",
    "url = 'https://philchodrow.github.io/PIC16A/datasets/palmer_penguins.csv'\n",
    "penguins = pd.read_csv(url)\n",
    "\n",
    "penguins = penguins.drop(['studyName', 'Sample Number', 'Stage', 'Individual ID', 'Clutch Completion', 'Date Egg', 'Comments', 'Region'], axis = 1)\n",
    "penguins = penguins.dropna()\n",
    "\n",
    "penguins[\"Species\"] = penguins[\"Species\"].str.split().str.get(0)\n",
    "\n",
    "recode1 = {\"MALE\"  : 0, \"FEMALE\" : 1, \".\" : 2}\n",
    "penguins[\"Sex\"] = penguins[\"Sex\"].map(recode1)\n",
    "\n",
    "recode2 = {'Biscoe'  : 0, 'Dream' : 1, 'Torgersen'  : 3}\n",
    "penguins[\"Island\"] = penguins[\"Island\"].map(recode2)\n",
    "\n",
    "\n",
    "penguins.head(10)"
   ]
  },
  {
   "cell_type": "code",
   "execution_count": 3,
   "metadata": {},
   "outputs": [
    {
     "data": {
      "text/plain": [
       "[('Island', 'Culmen Length (mm)', 'Culmen Depth (mm)'),\n",
       " ('Island', 'Culmen Length (mm)', 'Flipper Length (mm)'),\n",
       " ('Island', 'Culmen Length (mm)', 'Body Mass (g)'),\n",
       " ('Island', 'Culmen Length (mm)', 'Sex'),\n",
       " ('Island', 'Culmen Length (mm)', 'Delta 15 N (o/oo)'),\n",
       " ('Island', 'Culmen Length (mm)', 'Delta 13 C (o/oo)'),\n",
       " ('Island', 'Culmen Depth (mm)', 'Flipper Length (mm)'),\n",
       " ('Island', 'Culmen Depth (mm)', 'Body Mass (g)'),\n",
       " ('Island', 'Culmen Depth (mm)', 'Sex'),\n",
       " ('Island', 'Culmen Depth (mm)', 'Delta 15 N (o/oo)'),\n",
       " ('Island', 'Culmen Depth (mm)', 'Delta 13 C (o/oo)'),\n",
       " ('Island', 'Flipper Length (mm)', 'Body Mass (g)'),\n",
       " ('Island', 'Flipper Length (mm)', 'Sex'),\n",
       " ('Island', 'Flipper Length (mm)', 'Delta 15 N (o/oo)'),\n",
       " ('Island', 'Flipper Length (mm)', 'Delta 13 C (o/oo)'),\n",
       " ('Island', 'Body Mass (g)', 'Sex'),\n",
       " ('Island', 'Body Mass (g)', 'Delta 15 N (o/oo)'),\n",
       " ('Island', 'Body Mass (g)', 'Delta 13 C (o/oo)'),\n",
       " ('Island', 'Sex', 'Delta 15 N (o/oo)'),\n",
       " ('Island', 'Sex', 'Delta 13 C (o/oo)'),\n",
       " ('Island', 'Delta 15 N (o/oo)', 'Delta 13 C (o/oo)'),\n",
       " ('Culmen Length (mm)', 'Culmen Depth (mm)', 'Flipper Length (mm)'),\n",
       " ('Culmen Length (mm)', 'Culmen Depth (mm)', 'Body Mass (g)'),\n",
       " ('Culmen Length (mm)', 'Culmen Depth (mm)', 'Sex'),\n",
       " ('Culmen Length (mm)', 'Culmen Depth (mm)', 'Delta 15 N (o/oo)'),\n",
       " ('Culmen Length (mm)', 'Culmen Depth (mm)', 'Delta 13 C (o/oo)'),\n",
       " ('Culmen Length (mm)', 'Flipper Length (mm)', 'Body Mass (g)'),\n",
       " ('Culmen Length (mm)', 'Flipper Length (mm)', 'Sex'),\n",
       " ('Culmen Length (mm)', 'Flipper Length (mm)', 'Delta 15 N (o/oo)'),\n",
       " ('Culmen Length (mm)', 'Flipper Length (mm)', 'Delta 13 C (o/oo)'),\n",
       " ('Culmen Length (mm)', 'Body Mass (g)', 'Sex'),\n",
       " ('Culmen Length (mm)', 'Body Mass (g)', 'Delta 15 N (o/oo)'),\n",
       " ('Culmen Length (mm)', 'Body Mass (g)', 'Delta 13 C (o/oo)'),\n",
       " ('Culmen Length (mm)', 'Sex', 'Delta 15 N (o/oo)'),\n",
       " ('Culmen Length (mm)', 'Sex', 'Delta 13 C (o/oo)'),\n",
       " ('Culmen Length (mm)', 'Delta 15 N (o/oo)', 'Delta 13 C (o/oo)'),\n",
       " ('Culmen Depth (mm)', 'Flipper Length (mm)', 'Body Mass (g)'),\n",
       " ('Culmen Depth (mm)', 'Flipper Length (mm)', 'Sex'),\n",
       " ('Culmen Depth (mm)', 'Flipper Length (mm)', 'Delta 15 N (o/oo)'),\n",
       " ('Culmen Depth (mm)', 'Flipper Length (mm)', 'Delta 13 C (o/oo)'),\n",
       " ('Culmen Depth (mm)', 'Body Mass (g)', 'Sex'),\n",
       " ('Culmen Depth (mm)', 'Body Mass (g)', 'Delta 15 N (o/oo)'),\n",
       " ('Culmen Depth (mm)', 'Body Mass (g)', 'Delta 13 C (o/oo)'),\n",
       " ('Culmen Depth (mm)', 'Sex', 'Delta 15 N (o/oo)'),\n",
       " ('Culmen Depth (mm)', 'Sex', 'Delta 13 C (o/oo)'),\n",
       " ('Culmen Depth (mm)', 'Delta 15 N (o/oo)', 'Delta 13 C (o/oo)'),\n",
       " ('Flipper Length (mm)', 'Body Mass (g)', 'Sex'),\n",
       " ('Flipper Length (mm)', 'Body Mass (g)', 'Delta 15 N (o/oo)'),\n",
       " ('Flipper Length (mm)', 'Body Mass (g)', 'Delta 13 C (o/oo)'),\n",
       " ('Flipper Length (mm)', 'Sex', 'Delta 15 N (o/oo)'),\n",
       " ('Flipper Length (mm)', 'Sex', 'Delta 13 C (o/oo)'),\n",
       " ('Flipper Length (mm)', 'Delta 15 N (o/oo)', 'Delta 13 C (o/oo)'),\n",
       " ('Body Mass (g)', 'Sex', 'Delta 15 N (o/oo)'),\n",
       " ('Body Mass (g)', 'Sex', 'Delta 13 C (o/oo)'),\n",
       " ('Body Mass (g)', 'Delta 15 N (o/oo)', 'Delta 13 C (o/oo)'),\n",
       " ('Sex', 'Delta 15 N (o/oo)', 'Delta 13 C (o/oo)')]"
      ]
     },
     "execution_count": 3,
     "metadata": {},
     "output_type": "execute_result"
    }
   ],
   "source": [
    "names = list(penguins.columns)[1:9]\n",
    "\n",
    "import itertools\n",
    "combos = list(itertools.combinations(names, 3))\n",
    "combos"
   ]
  },
  {
   "cell_type": "code",
   "execution_count": 4,
   "metadata": {},
   "outputs": [],
   "source": [
    "def check_column_score(cols):\n",
    "    \"\"\"\n",
    "    Trains and evaluates a model via cross-validation on the columns of the data\n",
    "    with selected indices\n",
    "    \"\"\"\n",
    "    T = tree.DecisionTreeClassifier(max_depth = 5)\n",
    "    return cross_val_score(T, x_train[cols], y_train, cv = 5).mean()  \n",
    "\n",
    "\n",
    "def test_column_score(tupCol):\n",
    "    \"\"\"\n",
    "    Trains and evaluates a model on the test set using the columns of the data\n",
    "    with selected indices\n",
    "    \"\"\"\n",
    "    cols = list(tupCol)\n",
    "    T = tree.DecisionTreeClassifier(max_depth = 5)\n",
    "    T.fit(x_train[cols], y_train)\n",
    "    return T.score(x_test[cols], y_test)\n"
   ]
  },
  {
   "cell_type": "code",
   "execution_count": 5,
   "metadata": {},
   "outputs": [],
   "source": [
    "train, test = train_test_split(penguins, test_size = 0.3)\n",
    "train.shape, test.shape\n",
    "\n",
    "x_train = train.drop(['Species'], axis = 1)\n",
    "y_train = train['Species'].values\n",
    "\n",
    "x_test = test.drop(['Species'], axis = 1)\n",
    "y_test = test['Species'].values"
   ]
  },
  {
   "cell_type": "code",
   "execution_count": 6,
   "metadata": {},
   "outputs": [],
   "source": [
    "D = {}\n",
    "\n",
    "for i in range(len(combos)): \n",
    "    cols = list(combos[i])\n",
    "    x = check_column_score(cols)\n",
    "    D[i] = x"
   ]
  },
  {
   "cell_type": "code",
   "execution_count": 7,
   "metadata": {
    "scrolled": true
   },
   "outputs": [
    {
     "name": "stdout",
     "output_type": "stream",
     "text": [
      "---- 3\n",
      "('Island', 'Culmen Length (mm)', 'Sex'), Score: 0.98251\n",
      "Test score is: 0.94898\n",
      "---- 0\n",
      "('Island', 'Culmen Length (mm)', 'Culmen Depth (mm)'), Score: 0.98242\n",
      "Test score is: 0.93878\n",
      "---- 1\n",
      "('Island', 'Culmen Length (mm)', 'Flipper Length (mm)'), Score: 0.97362\n",
      "Test score is: 0.92857\n",
      "---- 4\n",
      "('Island', 'Culmen Length (mm)', 'Delta 15 N (o/oo)'), Score: 0.96493\n",
      "Test score is: 0.94898\n",
      "---- 22\n",
      "('Culmen Length (mm)', 'Culmen Depth (mm)', 'Body Mass (g)'), Score: 0.96483\n",
      "Test score is: 0.95918\n",
      "---- 21\n",
      "('Culmen Length (mm)', 'Culmen Depth (mm)', 'Flipper Length (mm)'), Score: 0.96473\n",
      "Test score is: 0.92857\n",
      "---- 5\n",
      "('Island', 'Culmen Length (mm)', 'Delta 13 C (o/oo)'), Score: 0.96048\n",
      "Test score is: 0.93878\n",
      "---- 25\n",
      "('Culmen Length (mm)', 'Culmen Depth (mm)', 'Delta 13 C (o/oo)'), Score: 0.96048\n",
      "Test score is: 0.97959\n",
      "---- 30\n",
      "('Culmen Length (mm)', 'Body Mass (g)', 'Sex'), Score: 0.96048\n",
      "Test score is: 0.91837\n",
      "---- 26\n",
      "('Culmen Length (mm)', 'Flipper Length (mm)', 'Body Mass (g)'), Score: 0.95565\n",
      "Test score is: 0.92857\n"
     ]
    }
   ],
   "source": [
    "L = list(D.items())\n",
    "L.sort(key = lambda tup: tup[1], reverse = True)\n",
    "\n",
    "best = L[0:10]\n",
    "\n",
    "for where, score in best:\n",
    "    print(\"---- \" + str(where))\n",
    "    print(str(combos[where]) + \", Score: \" + str(np.round(score, 5)))\n",
    "    test_score = test_column_score(combos[where])\n",
    "    print(\"Test score is: \" + str(np.round(test_score, 5)))"
   ]
  },
  {
   "cell_type": "code",
   "execution_count": 8,
   "metadata": {},
   "outputs": [],
   "source": [
    "X_train = train[list(combos[0])]\n",
    "X_test = test[list(combos[0])]\n"
   ]
  },
  {
   "cell_type": "code",
   "execution_count": 9,
   "metadata": {},
   "outputs": [
    {
     "data": {
      "image/png": "[encoded data removed]",
      "text/plain": [
       "<Figure size 720x504 with 1 Axes>"
      ]
     },
     "metadata": {
      "needs_background": "light"
     },
     "output_type": "display_data"
    }
   ],
   "source": [
    "fig, ax = plt.subplots(1, figsize = (10, 7))\n",
    "\n",
    "best_score = 0\n",
    "\n",
    "for d in range(1,30):\n",
    "    T = tree.DecisionTreeClassifier(max_depth = d)\n",
    "    cv_score = cross_val_score(T, X_train, y_train, cv=10).mean()\n",
    "    ax.scatter(d, cv_score, color = \"black\")\n",
    "    \n",
    "    if cv_score > best_score:\n",
    "        best_depth = d\n",
    "        best_score = cv_score\n",
    "\n",
    "l = ax.set(title = \"Best Depth : \" + str(best_depth),\n",
    "       xlabel = \"Depth\", \n",
    "       ylabel = \"CV Score\")"
   ]
  },
  {
   "cell_type": "code",
   "execution_count": 10,
   "metadata": {},
   "outputs": [
    {
     "data": {
      "text/plain": [
       "0.9387755102040817"
      ]
     },
     "execution_count": 10,
     "metadata": {},
     "output_type": "execute_result"
    }
   ],
   "source": [
    "T = tree.DecisionTreeClassifier(max_depth = best_depth)\n",
    "T.fit(X_train, y_train)\n",
    "T.score(X_test, y_test)"
   ]
  },
  {
   "cell_type": "code",
   "execution_count": 11,
   "metadata": {},
   "outputs": [
    {
     "data": {
      "image/png": "[encoded data removed]",
      "text/plain": [
       "<Figure size 720x720 with 1 Axes>"
      ]
     },
     "metadata": {
      "needs_background": "light"
     },
     "output_type": "display_data"
    }
   ],
   "source": [
    "fig, ax = plt.subplots(1, figsize = (10, 10))\n",
    "p = tree.plot_tree(T, \n",
    "                   filled = True, \n",
    "                   feature_names = penguins.drop(['Species'], axis = 1).columns)"
   ]
  },
  {
   "cell_type": "code",
   "execution_count": null,
   "metadata": {},
   "outputs": [],
   "source": []
  },
  {
   "cell_type": "code",
   "execution_count": null,
   "metadata": {},
   "outputs": [],
   "source": []
  },
  {
   "cell_type": "code",
   "execution_count": null,
   "metadata": {},
   "outputs": [],
   "source": []
  }
 ],
 "metadata": {
  "kernelspec": {
   "display_name": "Python 3",
   "language": "python",
   "name": "python3"
  },
  "language_info": {
   "codemirror_mode": {
    "name": "ipython",
    "version": 3
   },
   "file_extension": ".py",
   "mimetype": "text/x-python",
   "name": "python",
   "nbconvert_exporter": "python",
   "pygments_lexer": "ipython3",
   "version": "3.8.5"
  }
 },
 "nbformat": 4,
 "nbformat_minor": 4
}
