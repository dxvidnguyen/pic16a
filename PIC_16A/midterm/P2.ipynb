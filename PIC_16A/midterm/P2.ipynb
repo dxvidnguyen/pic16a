{
 "cells": [
  {
   "cell_type": "markdown",
   "metadata": {},
   "source": [
    "# Academic Integrity Statement\n",
    "\n",
    "As a matter of Departmental policy, **we are required to give you a 0** unless you **type your name** after the following statement: \n",
    "\n",
    "> *I certify on my honor that I have neither given nor received any help, or used any non-permitted resources, while completing this evaluation.*\n",
    "\n",
    "DAVID NGUYEN\n",
    "\n",
    "## Permitted Resources\n",
    "\n",
    "This exam is open-book, open-notes, open-internet, open-everything. The only thing you are not allowed to do is ask another human being for help, with the exception of me. Examples: \n",
    "\n",
    "1. **Permitted**: Checking course notes and videos; browsing Google or StackOverflow; consulting previous Campuswire posts. \n",
    "2. **Not permitted**: Requesting help on Chegg; publicly posting on Campuswire (messages to me are ok); privately asking classmates for help; posting on StackOverflow. \n",
    "\n",
    "If you encounter any situation in which you're not 100% sure what's permitted, **just ask**! \n",
    "\n",
    "\n",
    "### Partial Credit\n",
    "\n",
    "Let us give you partial credit! If you're stuck on a problem and just can't get your code to run: \n",
    "\n",
    "First, **breathe**. Then, do any or all of the following: \n",
    "    \n",
    "1. Write down everything relevant that you know about the problem, as comments where your code would go. \n",
    "2. If you have non-functioning code that demonstrates some correct ideas, indicate that and keep it (commented out). \n",
    "3. Write down pseudocode (written instructions) outlining your solution approach. \n",
    "\n",
    "In brief, even if you can't quite get your code to work, you can still **show us what you know.**\n"
   ]
  },
  {
   "cell_type": "markdown",
   "metadata": {},
   "source": [
    "# Part A (30 points)\n",
    "\n",
    "Write a Car class. This car should have the following attributes and properties: \n",
    "\n",
    "- A class variable called `wheels` with value `4` (since all cars have four wheels). \n",
    "- An instance variable `make` (string), e.g. `\"Toyota\"`, `\"Subaru\"`, `\"Chevy\"`). \n",
    "- An instance variable `model` (string), e.g. `\"Corolla\"`, `\"Outback\"`, `\"Tahoe`\"). \n",
    "- An instance variable `year` (integer) the year the car was manufactured e.g. 2010). \n",
    "- An instance variable `miles_per_gallon` (float) the number of miles the car can drive per gallon of gas: e.g. 18.0)\n",
    "- An instance variable `current_gas_level` (float), the number of gallons currently in the tank of the car. \n",
    "\n",
    "### Prompt\n",
    "\n",
    "1. Your function should have an `__init__` method which  checks that `make` and `model` are strings, that `year` is an integer which is greater than 1900, that `current_gas_level` and `miles_per_gallon` are floats or ints, and that `current_gas_level`$\\geq0$. You should also check that `miles_per_gallon`>0. Make sure to raise *informative* errors if any of these checks fail.  You should appropriately use both type errors and value errors in your solution. \n",
    "2. Write a `drive()` method. This method should accept an argument `number_of_miles` giving the desired number of miles to drive. The `current_gas_level` should be reduced by an appropriate amount. If the `current_gas_level` is not sufficient to drive the specified number of miles, then raise an informative error of an appropriate type, and do not change `current_gas_level`. \n",
    "3. Demonstrate **one example** of successfully constructing an object of class `Car` and **three different examples** of raising an error from checks in the `__init__` method. \n",
    "4. Demonstrate **one example** of sucessfully calling the `drive` method, printing the  `current_gas_level` before and after. Demonstrate **one example** in which there is not enough gas and the corresponding error is raised. \n",
    "\n",
    "### Specs\n",
    "\n",
    "**Comments and docstrings, please!** \n",
    "\n",
    "1. Remember that the class itself should have a docstring describing its overall purpose, instance variables, and methods. \n",
    "2. Each method (with the possible exception of `__init__` should have a docstring describing its purpose, inputs, and outputs/other effects. "
   ]
  },
  {
   "cell_type": "code",
   "execution_count": 161,
   "metadata": {},
   "outputs": [],
   "source": [
    "# define your class here \n",
    "class car:\n",
    "    '''\n",
    "    car class that has characteristics to represent a car in real life \n",
    "    class variable is the number of wheels on the vehicle\n",
    "    instance varibles represent the make, model, year, mpg, and gas tank\n",
    "    drive method to show emulate gas consumption over certain number of miles\n",
    "    '''\n",
    "    \n",
    "    wheels = 4 #class variable wheels  \n",
    "\n",
    "    def __init__(self, make, model , year, miles_per_gallon, current_gas_level):\n",
    "        #error checks for each variable \n",
    "        if type(make) is not str:\n",
    "            raise TypeError(\"'make' should be string!\")\n",
    "        if type(model) is not str:\n",
    "            raise TypeError(\"'model' should be a string!\")\n",
    "        if type(year) is not int:\n",
    "            raise TypeError(\"'year' should be an int!\")\n",
    "        if year <= 1900:\n",
    "            raise ValueError(\"'year' should be greater than 1900!\")\n",
    "        if type(current_gas_level) not in [float, int]: \n",
    "            raise TypeError(\"'current_gas_level' should be a float or int!\")\n",
    "        if current_gas_level < 0:\n",
    "            raise ValueError(\"'current_gas_level' should be at least 0\")\n",
    "        if type(miles_per_gallon) not in [float, int]: \n",
    "            raise TypeError(\"'miles_per_gallon' should be a float or int!\")\n",
    "        if miles_per_gallon <= 0:\n",
    "            raise ValueError(\"'miles_per_gallon' cannot be 0 or less!\")\n",
    "        \n",
    "        #if we pass all the error checks, put the values into our instance variables \n",
    "        self.make = make\n",
    "        self.model = model\n",
    "        self.year = year \n",
    "        self.mpg = miles_per_gallon\n",
    "        self.cgl = current_gas_level\n",
    "    \n",
    "    \n",
    "    def drive(self, number_of_miles):\n",
    "        '''\n",
    "        takes input number of miles to drive and then adjusts the gas level \n",
    "            to correct amount after drive\n",
    "        if input, number_of_miles, is too larges, method raises an error \n",
    "        '''\n",
    "        #conversion to check the amount of gas needed for the input\n",
    "        gal_needed = float(number_of_miles)/float(self.mpg)\n",
    "        \n",
    "        #check if number_of_miles is too much or valid\n",
    "        if self.cgl < gal_needed:\n",
    "            #if input is too much then, we raise a ValueError\n",
    "            raise ValueError(\"'number_of_miles' is too large, not enough gas\")\n",
    "        else:\n",
    "            #if input is value, we decrement the current gas level\n",
    "            self.cgl -= gal_needed \n",
    "        \n",
    "    \n",
    "        \n"
   ]
  },
  {
   "cell_type": "markdown",
   "metadata": {},
   "source": [
    "Show the required examples in the code blocks below. Feel free to make new code blocks as needed. "
   ]
  },
  {
   "cell_type": "code",
   "execution_count": 145,
   "metadata": {},
   "outputs": [
    {
     "ename": "TypeError",
     "evalue": "'make' should be string!",
     "output_type": "error",
     "traceback": [
      "\u001b[0;31m---------------------------------------------------------------------------\u001b[0m",
      "\u001b[0;31mTypeError\u001b[0m                                 Traceback (most recent call last)",
      "\u001b[0;32m<ipython-input-145-229f721335be>\u001b[0m in \u001b[0;36m<module>\u001b[0;34m\u001b[0m\n\u001b[1;32m      1\u001b[0m \u001b[0;31m# demo 1: expected wrong make type\u001b[0m\u001b[0;34m\u001b[0m\u001b[0;34m\u001b[0m\u001b[0;34m\u001b[0m\u001b[0m\n\u001b[0;32m----> 2\u001b[0;31m \u001b[0mmyCar\u001b[0m \u001b[0;34m=\u001b[0m \u001b[0mcar\u001b[0m\u001b[0;34m(\u001b[0m\u001b[0;36m1\u001b[0m\u001b[0;34m,\u001b[0m \u001b[0;34m'Accord'\u001b[0m\u001b[0;34m,\u001b[0m \u001b[0;36m2012\u001b[0m\u001b[0;34m,\u001b[0m \u001b[0;36m23\u001b[0m\u001b[0;34m,\u001b[0m \u001b[0;36m10\u001b[0m\u001b[0;34m)\u001b[0m\u001b[0;34m\u001b[0m\u001b[0;34m\u001b[0m\u001b[0m\n\u001b[0m",
      "\u001b[0;32m<ipython-input-144-9e828015498a>\u001b[0m in \u001b[0;36m__init__\u001b[0;34m(self, make, model, year, miles_per_gallon, current_gas_level)\u001b[0m\n\u001b[1;32m     10\u001b[0m         \u001b[0;31m#error checks\u001b[0m\u001b[0;34m\u001b[0m\u001b[0;34m\u001b[0m\u001b[0;34m\u001b[0m\u001b[0m\n\u001b[1;32m     11\u001b[0m         \u001b[0;32mif\u001b[0m \u001b[0mtype\u001b[0m\u001b[0;34m(\u001b[0m\u001b[0mmake\u001b[0m\u001b[0;34m)\u001b[0m \u001b[0;32mis\u001b[0m \u001b[0;32mnot\u001b[0m \u001b[0mstr\u001b[0m\u001b[0;34m:\u001b[0m\u001b[0;34m\u001b[0m\u001b[0;34m\u001b[0m\u001b[0m\n\u001b[0;32m---> 12\u001b[0;31m             \u001b[0;32mraise\u001b[0m \u001b[0mTypeError\u001b[0m\u001b[0;34m(\u001b[0m\u001b[0;34m\"'make' should be string!\"\u001b[0m\u001b[0;34m)\u001b[0m\u001b[0;34m\u001b[0m\u001b[0;34m\u001b[0m\u001b[0m\n\u001b[0m\u001b[1;32m     13\u001b[0m         \u001b[0;32mif\u001b[0m \u001b[0mtype\u001b[0m\u001b[0;34m(\u001b[0m\u001b[0mmodel\u001b[0m\u001b[0;34m)\u001b[0m \u001b[0;32mis\u001b[0m \u001b[0;32mnot\u001b[0m \u001b[0mstr\u001b[0m\u001b[0;34m:\u001b[0m\u001b[0;34m\u001b[0m\u001b[0;34m\u001b[0m\u001b[0m\n\u001b[1;32m     14\u001b[0m             \u001b[0;32mraise\u001b[0m \u001b[0mTypeError\u001b[0m\u001b[0;34m(\u001b[0m\u001b[0;34m\"'model' should be a string!\"\u001b[0m\u001b[0;34m)\u001b[0m\u001b[0;34m\u001b[0m\u001b[0;34m\u001b[0m\u001b[0m\n",
      "\u001b[0;31mTypeError\u001b[0m: 'make' should be string!"
     ]
    }
   ],
   "source": [
    "# demo 1: expected wrong make type\n",
    "myCar = car(1, 'Accord', 2012, 23, 10) "
   ]
  },
  {
   "cell_type": "code",
   "execution_count": 146,
   "metadata": {},
   "outputs": [
    {
     "ename": "ValueError",
     "evalue": "'year' should be greater than 1900!",
     "output_type": "error",
     "traceback": [
      "\u001b[0;31m---------------------------------------------------------------------------\u001b[0m",
      "\u001b[0;31mValueError\u001b[0m                                Traceback (most recent call last)",
      "\u001b[0;32m<ipython-input-146-0beef6eece32>\u001b[0m in \u001b[0;36m<module>\u001b[0;34m\u001b[0m\n\u001b[1;32m      1\u001b[0m \u001b[0;31m# demo 2 : expected wrong year value\u001b[0m\u001b[0;34m\u001b[0m\u001b[0;34m\u001b[0m\u001b[0;34m\u001b[0m\u001b[0m\n\u001b[0;32m----> 2\u001b[0;31m \u001b[0mmyCar\u001b[0m \u001b[0;34m=\u001b[0m \u001b[0mcar\u001b[0m\u001b[0;34m(\u001b[0m\u001b[0;34m'Honda'\u001b[0m\u001b[0;34m,\u001b[0m \u001b[0;34m'Accord'\u001b[0m\u001b[0;34m,\u001b[0m \u001b[0;36m1800\u001b[0m\u001b[0;34m,\u001b[0m \u001b[0;36m23\u001b[0m\u001b[0;34m,\u001b[0m \u001b[0;36m10\u001b[0m\u001b[0;34m)\u001b[0m\u001b[0;34m\u001b[0m\u001b[0;34m\u001b[0m\u001b[0m\n\u001b[0m",
      "\u001b[0;32m<ipython-input-144-9e828015498a>\u001b[0m in \u001b[0;36m__init__\u001b[0;34m(self, make, model, year, miles_per_gallon, current_gas_level)\u001b[0m\n\u001b[1;32m     16\u001b[0m             \u001b[0;32mraise\u001b[0m \u001b[0mTypeError\u001b[0m\u001b[0;34m(\u001b[0m\u001b[0;34m\"'year' should be an int!\"\u001b[0m\u001b[0;34m)\u001b[0m\u001b[0;34m\u001b[0m\u001b[0;34m\u001b[0m\u001b[0m\n\u001b[1;32m     17\u001b[0m         \u001b[0;32mif\u001b[0m \u001b[0myear\u001b[0m \u001b[0;34m<=\u001b[0m \u001b[0;36m1900\u001b[0m\u001b[0;34m:\u001b[0m\u001b[0;34m\u001b[0m\u001b[0;34m\u001b[0m\u001b[0m\n\u001b[0;32m---> 18\u001b[0;31m             \u001b[0;32mraise\u001b[0m \u001b[0mValueError\u001b[0m\u001b[0;34m(\u001b[0m\u001b[0;34m\"'year' should be greater than 1900!\"\u001b[0m\u001b[0;34m)\u001b[0m\u001b[0;34m\u001b[0m\u001b[0;34m\u001b[0m\u001b[0m\n\u001b[0m\u001b[1;32m     19\u001b[0m         \u001b[0;32mif\u001b[0m \u001b[0mtype\u001b[0m\u001b[0;34m(\u001b[0m\u001b[0mcurrent_gas_level\u001b[0m\u001b[0;34m)\u001b[0m \u001b[0;32mnot\u001b[0m \u001b[0;32min\u001b[0m \u001b[0;34m[\u001b[0m\u001b[0mfloat\u001b[0m\u001b[0;34m,\u001b[0m \u001b[0mint\u001b[0m\u001b[0;34m]\u001b[0m\u001b[0;34m:\u001b[0m\u001b[0;34m\u001b[0m\u001b[0;34m\u001b[0m\u001b[0m\n\u001b[1;32m     20\u001b[0m             \u001b[0;32mraise\u001b[0m \u001b[0mTypeError\u001b[0m\u001b[0;34m(\u001b[0m\u001b[0;34m\"'current_gas_level' should be a float or int!\"\u001b[0m\u001b[0;34m)\u001b[0m\u001b[0;34m\u001b[0m\u001b[0;34m\u001b[0m\u001b[0m\n",
      "\u001b[0;31mValueError\u001b[0m: 'year' should be greater than 1900!"
     ]
    }
   ],
   "source": [
    "# demo 2 : expected wrong year value\n",
    "myCar = car('Honda', 'Accord', 1800, 23, 10)"
   ]
  },
  {
   "cell_type": "code",
   "execution_count": 147,
   "metadata": {},
   "outputs": [
    {
     "ename": "ValueError",
     "evalue": "'miles_per_gallon' cannot be 0 or less!",
     "output_type": "error",
     "traceback": [
      "\u001b[0;31m---------------------------------------------------------------------------\u001b[0m",
      "\u001b[0;31mValueError\u001b[0m                                Traceback (most recent call last)",
      "\u001b[0;32m<ipython-input-147-f6d54921949e>\u001b[0m in \u001b[0;36m<module>\u001b[0;34m\u001b[0m\n\u001b[1;32m      1\u001b[0m \u001b[0;31m# demo 3: expected wrong miles per gallon value\u001b[0m\u001b[0;34m\u001b[0m\u001b[0;34m\u001b[0m\u001b[0;34m\u001b[0m\u001b[0m\n\u001b[0;32m----> 2\u001b[0;31m \u001b[0mmyCar\u001b[0m \u001b[0;34m=\u001b[0m \u001b[0mcar\u001b[0m\u001b[0;34m(\u001b[0m\u001b[0;34m'Honda'\u001b[0m\u001b[0;34m,\u001b[0m \u001b[0;34m'Accord'\u001b[0m\u001b[0;34m,\u001b[0m \u001b[0;36m2012\u001b[0m\u001b[0;34m,\u001b[0m \u001b[0;36m0\u001b[0m\u001b[0;34m,\u001b[0m \u001b[0;36m10\u001b[0m \u001b[0;34m)\u001b[0m\u001b[0;34m\u001b[0m\u001b[0;34m\u001b[0m\u001b[0m\n\u001b[0m",
      "\u001b[0;32m<ipython-input-144-9e828015498a>\u001b[0m in \u001b[0;36m__init__\u001b[0;34m(self, make, model, year, miles_per_gallon, current_gas_level)\u001b[0m\n\u001b[1;32m     24\u001b[0m             \u001b[0;32mraise\u001b[0m \u001b[0mTypeError\u001b[0m\u001b[0;34m(\u001b[0m\u001b[0;34m\"'miles_per_gallon' should be a float or int!\"\u001b[0m\u001b[0;34m)\u001b[0m\u001b[0;34m\u001b[0m\u001b[0;34m\u001b[0m\u001b[0m\n\u001b[1;32m     25\u001b[0m         \u001b[0;32mif\u001b[0m \u001b[0mmiles_per_gallon\u001b[0m \u001b[0;34m<=\u001b[0m \u001b[0;36m0\u001b[0m\u001b[0;34m:\u001b[0m\u001b[0;34m\u001b[0m\u001b[0;34m\u001b[0m\u001b[0m\n\u001b[0;32m---> 26\u001b[0;31m             \u001b[0;32mraise\u001b[0m \u001b[0mValueError\u001b[0m\u001b[0;34m(\u001b[0m\u001b[0;34m\"'miles_per_gallon' cannot be 0 or less!\"\u001b[0m\u001b[0;34m)\u001b[0m\u001b[0;34m\u001b[0m\u001b[0;34m\u001b[0m\u001b[0m\n\u001b[0m\u001b[1;32m     27\u001b[0m \u001b[0;34m\u001b[0m\u001b[0m\n\u001b[1;32m     28\u001b[0m         \u001b[0;31m#if we pass all the error checks, put the values into our instance variables\u001b[0m\u001b[0;34m\u001b[0m\u001b[0;34m\u001b[0m\u001b[0;34m\u001b[0m\u001b[0m\n",
      "\u001b[0;31mValueError\u001b[0m: 'miles_per_gallon' cannot be 0 or less!"
     ]
    }
   ],
   "source": [
    "# demo 3: expected wrong miles per gallon value \n",
    "myCar = car('Honda', 'Accord', 2012, 0, 10 )"
   ]
  },
  {
   "cell_type": "code",
   "execution_count": 150,
   "metadata": {},
   "outputs": [],
   "source": [
    "# demo 4: expected that everything is right type and value\n",
    "myCar = car('Honda', 'Accord', 2012, 20, 10.0)"
   ]
  },
  {
   "cell_type": "code",
   "execution_count": 151,
   "metadata": {},
   "outputs": [
    {
     "name": "stdout",
     "output_type": "stream",
     "text": [
      "Current gas level: 10.0\n",
      "Car drives 100 miles\n",
      "Current gas level: 5.0\n"
     ]
    }
   ],
   "source": [
    "# demonstrate successful driving here\n",
    "print('Current gas level: ' + str(myCar.cgl)) \n",
    "print('Car drives 100 miles')\n",
    "myCar.drive(100)\n",
    "print('Current gas level: ' + str(myCar.cgl)) \n"
   ]
  },
  {
   "cell_type": "code",
   "execution_count": 152,
   "metadata": {},
   "outputs": [
    {
     "name": "stdout",
     "output_type": "stream",
     "text": [
      "Current gas level: 5.0\n",
      "Car wants to drive 1000 miles\n"
     ]
    },
    {
     "ename": "ValueError",
     "evalue": "'number_of_miles' is too large, not enough gas",
     "output_type": "error",
     "traceback": [
      "\u001b[0;31m---------------------------------------------------------------------------\u001b[0m",
      "\u001b[0;31mValueError\u001b[0m                                Traceback (most recent call last)",
      "\u001b[0;32m<ipython-input-152-e17aa44ff080>\u001b[0m in \u001b[0;36m<module>\u001b[0;34m\u001b[0m\n\u001b[1;32m      3\u001b[0m \u001b[0mprint\u001b[0m\u001b[0;34m(\u001b[0m\u001b[0;34m'Current gas level: '\u001b[0m \u001b[0;34m+\u001b[0m \u001b[0mstr\u001b[0m\u001b[0;34m(\u001b[0m\u001b[0mmyCar\u001b[0m\u001b[0;34m.\u001b[0m\u001b[0mcgl\u001b[0m\u001b[0;34m)\u001b[0m\u001b[0;34m)\u001b[0m\u001b[0;34m\u001b[0m\u001b[0;34m\u001b[0m\u001b[0m\n\u001b[1;32m      4\u001b[0m \u001b[0mprint\u001b[0m\u001b[0;34m(\u001b[0m\u001b[0;34m'Car wants to drive 1000 miles'\u001b[0m\u001b[0;34m)\u001b[0m\u001b[0;34m\u001b[0m\u001b[0;34m\u001b[0m\u001b[0m\n\u001b[0;32m----> 5\u001b[0;31m \u001b[0mmyCar\u001b[0m\u001b[0;34m.\u001b[0m\u001b[0mdrive\u001b[0m\u001b[0;34m(\u001b[0m\u001b[0;36m1000\u001b[0m\u001b[0;34m)\u001b[0m\u001b[0;34m\u001b[0m\u001b[0;34m\u001b[0m\u001b[0m\n\u001b[0m\u001b[1;32m      6\u001b[0m \u001b[0mprint\u001b[0m\u001b[0;34m(\u001b[0m\u001b[0;34m'Current gas level: '\u001b[0m \u001b[0;34m+\u001b[0m \u001b[0mstr\u001b[0m\u001b[0;34m(\u001b[0m\u001b[0mmyCar\u001b[0m\u001b[0;34m.\u001b[0m\u001b[0mcgl\u001b[0m\u001b[0;34m)\u001b[0m\u001b[0;34m)\u001b[0m\u001b[0;34m\u001b[0m\u001b[0;34m\u001b[0m\u001b[0m\n\u001b[1;32m      7\u001b[0m \u001b[0;34m\u001b[0m\u001b[0m\n",
      "\u001b[0;32m<ipython-input-144-9e828015498a>\u001b[0m in \u001b[0;36mdrive\u001b[0;34m(self, number_of_miles)\u001b[0m\n\u001b[1;32m     37\u001b[0m         \u001b[0mgal_needed\u001b[0m \u001b[0;34m=\u001b[0m \u001b[0mfloat\u001b[0m\u001b[0;34m(\u001b[0m\u001b[0mnumber_of_miles\u001b[0m\u001b[0;34m)\u001b[0m\u001b[0;34m/\u001b[0m\u001b[0mfloat\u001b[0m\u001b[0;34m(\u001b[0m\u001b[0mself\u001b[0m\u001b[0;34m.\u001b[0m\u001b[0mmpg\u001b[0m\u001b[0;34m)\u001b[0m\u001b[0;34m\u001b[0m\u001b[0;34m\u001b[0m\u001b[0m\n\u001b[1;32m     38\u001b[0m         \u001b[0;32mif\u001b[0m \u001b[0mself\u001b[0m\u001b[0;34m.\u001b[0m\u001b[0mcgl\u001b[0m \u001b[0;34m<\u001b[0m \u001b[0mgal_needed\u001b[0m\u001b[0;34m:\u001b[0m\u001b[0;34m\u001b[0m\u001b[0;34m\u001b[0m\u001b[0m\n\u001b[0;32m---> 39\u001b[0;31m             \u001b[0;32mraise\u001b[0m \u001b[0mValueError\u001b[0m\u001b[0;34m(\u001b[0m\u001b[0;34m\"'number_of_miles' is too large, not enough gas\"\u001b[0m\u001b[0;34m)\u001b[0m\u001b[0;34m\u001b[0m\u001b[0;34m\u001b[0m\u001b[0m\n\u001b[0m\u001b[1;32m     40\u001b[0m         \u001b[0;32melse\u001b[0m\u001b[0;34m:\u001b[0m\u001b[0;34m\u001b[0m\u001b[0;34m\u001b[0m\u001b[0m\n\u001b[1;32m     41\u001b[0m             \u001b[0mself\u001b[0m\u001b[0;34m.\u001b[0m\u001b[0mcgl\u001b[0m \u001b[0;34m-=\u001b[0m \u001b[0mgal_needed\u001b[0m\u001b[0;34m\u001b[0m\u001b[0;34m\u001b[0m\u001b[0m\n",
      "\u001b[0;31mValueError\u001b[0m: 'number_of_miles' is too large, not enough gas"
     ]
    }
   ],
   "source": [
    "# demonstrate unsuccessful driving here \n",
    "# (not enough gas)\n",
    "print('Current gas level: ' + str(myCar.cgl)) \n",
    "print('Car wants to drive 1000 miles')\n",
    "myCar.drive(1000)\n",
    "print('Current gas level: ' + str(myCar.cgl)) \n",
    "\n"
   ]
  },
  {
   "cell_type": "markdown",
   "metadata": {},
   "source": [
    "# Part B (10 points)\n",
    "\n",
    "Write a `Motorcycle` class that possesses the same class variables, instance variables, and `drive()` method as the `Car` class. \n",
    "\n",
    "Demonstrate a working example of an object of class `Motorcycle`. Then, print the `wheels` instance variable of the object to verify that the object has the correct number of wheels (which should be different from a `Car`).  \n",
    "\n",
    "**Note**: motorcycles have two wheels. \n",
    "\n",
    "### Specs\n",
    "\n",
    "- **Your solution should be under five lines long.**\n",
    "- Comments and docstrings are not required for this part. "
   ]
  },
  {
   "cell_type": "code",
   "execution_count": 168,
   "metadata": {},
   "outputs": [],
   "source": [
    "# class definition here\n",
    "class motorcycle(car):\n",
    "    wheels = 2 #set class variable for motorcycle \n",
    "\n",
    "\n",
    "# motorcycle class will have all the functions and instance variables that car\n",
    "# class contains through inheritance"
   ]
  },
  {
   "cell_type": "code",
   "execution_count": 104,
   "metadata": {},
   "outputs": [],
   "source": [
    "# construct object of class\n",
    "myMotorcycle = motorcycle(\"Yamaha\", \"YDX\", 2018, 75, 2)"
   ]
  },
  {
   "cell_type": "code",
   "execution_count": 164,
   "metadata": {},
   "outputs": [
    {
     "data": {
      "text/plain": [
       "2"
      ]
     },
     "execution_count": 164,
     "metadata": {},
     "output_type": "execute_result"
    }
   ],
   "source": [
    "# show number of wheels\n",
    "myMotorcycle.wheels"
   ]
  },
  {
   "cell_type": "markdown",
   "metadata": {},
   "source": [
    "# Part C (15 points)\n",
    "\n",
    "Write a function called `age` whose input is an object of class `Car` and whose output is the age of that object, computed according to the formula \n",
    "\n",
    "\\begin{equation*}\n",
    "    \\text{age}=2021-\\text{year manufactured}\n",
    "\\end{equation*}\n",
    "\n",
    "\n",
    "\n",
    "Your function should check that the input is an instance of class `Car`. This implies that it should also work for objects of class `Motorcycle`, and other classes that inherit from `Car`.\n",
    "\n",
    "\n",
    "Demonstrate that your function works and raises an appropriate error when the input is a  `Car` or `Motorcycle`, but not when the input is an `int` or a `string`. \n",
    "\n",
    "### Specs\n",
    "\n",
    "- Comments and docstrings are not required in this part. "
   ]
  },
  {
   "cell_type": "code",
   "execution_count": 128,
   "metadata": {},
   "outputs": [],
   "source": [
    "# define function here\n",
    "def age(myObject):\n",
    "    '''\n",
    "    will return age of object if obeject is in car class\n",
    "    '''\n",
    "    #check if input object is in car class using isinstance() \n",
    "    if not isinstance(myObject, car):\n",
    "        #if not in car class, that is a value error\n",
    "        raise ValueError('input must be an object of the class car')\n",
    "    else: \n",
    "        #return age using formula provided\n",
    "        return (2021 - myObject.year)"
   ]
  },
  {
   "cell_type": "code",
   "execution_count": 129,
   "metadata": {},
   "outputs": [
    {
     "data": {
      "text/plain": [
       "9"
      ]
     },
     "execution_count": 129,
     "metadata": {},
     "output_type": "execute_result"
    }
   ],
   "source": [
    "# show that it works on Cars\n",
    "age(myCar)"
   ]
  },
  {
   "cell_type": "code",
   "execution_count": 130,
   "metadata": {},
   "outputs": [
    {
     "data": {
      "text/plain": [
       "3"
      ]
     },
     "execution_count": 130,
     "metadata": {},
     "output_type": "execute_result"
    }
   ],
   "source": [
    "# show that it works on Motorcycles\n",
    "age(myMotorcycle)"
   ]
  },
  {
   "cell_type": "code",
   "execution_count": 131,
   "metadata": {},
   "outputs": [
    {
     "ename": "ValueError",
     "evalue": "input must be an object of the class car",
     "output_type": "error",
     "traceback": [
      "\u001b[0;31m---------------------------------------------------------------------------\u001b[0m",
      "\u001b[0;31mValueError\u001b[0m                                Traceback (most recent call last)",
      "\u001b[0;32m<ipython-input-131-5c43f065fe01>\u001b[0m in \u001b[0;36m<module>\u001b[0;34m\u001b[0m\n\u001b[1;32m      1\u001b[0m \u001b[0;31m# show an error on other inputs\u001b[0m\u001b[0;34m\u001b[0m\u001b[0;34m\u001b[0m\u001b[0;34m\u001b[0m\u001b[0m\n\u001b[0;32m----> 2\u001b[0;31m \u001b[0mage\u001b[0m\u001b[0;34m(\u001b[0m\u001b[0;36m11\u001b[0m\u001b[0;34m)\u001b[0m\u001b[0;34m\u001b[0m\u001b[0;34m\u001b[0m\u001b[0m\n\u001b[0m",
      "\u001b[0;32m<ipython-input-128-1dd40ed64a92>\u001b[0m in \u001b[0;36mage\u001b[0;34m(myObject)\u001b[0m\n\u001b[1;32m      2\u001b[0m \u001b[0;32mdef\u001b[0m \u001b[0mage\u001b[0m\u001b[0;34m(\u001b[0m\u001b[0mmyObject\u001b[0m\u001b[0;34m)\u001b[0m\u001b[0;34m:\u001b[0m\u001b[0;34m\u001b[0m\u001b[0;34m\u001b[0m\u001b[0m\n\u001b[1;32m      3\u001b[0m     \u001b[0;32mif\u001b[0m \u001b[0;32mnot\u001b[0m \u001b[0misinstance\u001b[0m\u001b[0;34m(\u001b[0m\u001b[0mmyObject\u001b[0m\u001b[0;34m,\u001b[0m \u001b[0mcar\u001b[0m\u001b[0;34m)\u001b[0m\u001b[0;34m:\u001b[0m\u001b[0;34m\u001b[0m\u001b[0;34m\u001b[0m\u001b[0m\n\u001b[0;32m----> 4\u001b[0;31m         \u001b[0;32mraise\u001b[0m \u001b[0mValueError\u001b[0m\u001b[0;34m(\u001b[0m\u001b[0;34m'input must be an object of the class car'\u001b[0m\u001b[0;34m)\u001b[0m\u001b[0;34m\u001b[0m\u001b[0;34m\u001b[0m\u001b[0m\n\u001b[0m\u001b[1;32m      5\u001b[0m     \u001b[0;32melse\u001b[0m\u001b[0;34m:\u001b[0m\u001b[0;34m\u001b[0m\u001b[0;34m\u001b[0m\u001b[0m\n\u001b[1;32m      6\u001b[0m         \u001b[0;32mreturn\u001b[0m \u001b[0;34m(\u001b[0m\u001b[0;36m2021\u001b[0m \u001b[0;34m-\u001b[0m \u001b[0mmyObject\u001b[0m\u001b[0;34m.\u001b[0m\u001b[0myear\u001b[0m\u001b[0;34m)\u001b[0m\u001b[0;34m\u001b[0m\u001b[0;34m\u001b[0m\u001b[0m\n",
      "\u001b[0;31mValueError\u001b[0m: input must be an object of the class car"
     ]
    }
   ],
   "source": [
    "# show an error on other inputs\n",
    "age(11)"
   ]
  },
  {
   "cell_type": "code",
   "execution_count": 132,
   "metadata": {},
   "outputs": [
    {
     "ename": "ValueError",
     "evalue": "input must be an object of the class car",
     "output_type": "error",
     "traceback": [
      "\u001b[0;31m---------------------------------------------------------------------------\u001b[0m",
      "\u001b[0;31mValueError\u001b[0m                                Traceback (most recent call last)",
      "\u001b[0;32m<ipython-input-132-cf15cd1a510a>\u001b[0m in \u001b[0;36m<module>\u001b[0;34m\u001b[0m\n\u001b[0;32m----> 1\u001b[0;31m \u001b[0mage\u001b[0m\u001b[0;34m(\u001b[0m\u001b[0;34m'car'\u001b[0m\u001b[0;34m)\u001b[0m\u001b[0;34m\u001b[0m\u001b[0;34m\u001b[0m\u001b[0m\n\u001b[0m",
      "\u001b[0;32m<ipython-input-128-1dd40ed64a92>\u001b[0m in \u001b[0;36mage\u001b[0;34m(myObject)\u001b[0m\n\u001b[1;32m      2\u001b[0m \u001b[0;32mdef\u001b[0m \u001b[0mage\u001b[0m\u001b[0;34m(\u001b[0m\u001b[0mmyObject\u001b[0m\u001b[0;34m)\u001b[0m\u001b[0;34m:\u001b[0m\u001b[0;34m\u001b[0m\u001b[0;34m\u001b[0m\u001b[0m\n\u001b[1;32m      3\u001b[0m     \u001b[0;32mif\u001b[0m \u001b[0;32mnot\u001b[0m \u001b[0misinstance\u001b[0m\u001b[0;34m(\u001b[0m\u001b[0mmyObject\u001b[0m\u001b[0;34m,\u001b[0m \u001b[0mcar\u001b[0m\u001b[0;34m)\u001b[0m\u001b[0;34m:\u001b[0m\u001b[0;34m\u001b[0m\u001b[0;34m\u001b[0m\u001b[0m\n\u001b[0;32m----> 4\u001b[0;31m         \u001b[0;32mraise\u001b[0m \u001b[0mValueError\u001b[0m\u001b[0;34m(\u001b[0m\u001b[0;34m'input must be an object of the class car'\u001b[0m\u001b[0;34m)\u001b[0m\u001b[0;34m\u001b[0m\u001b[0;34m\u001b[0m\u001b[0m\n\u001b[0m\u001b[1;32m      5\u001b[0m     \u001b[0;32melse\u001b[0m\u001b[0;34m:\u001b[0m\u001b[0;34m\u001b[0m\u001b[0;34m\u001b[0m\u001b[0m\n\u001b[1;32m      6\u001b[0m         \u001b[0;32mreturn\u001b[0m \u001b[0;34m(\u001b[0m\u001b[0;36m2021\u001b[0m \u001b[0;34m-\u001b[0m \u001b[0mmyObject\u001b[0m\u001b[0;34m.\u001b[0m\u001b[0myear\u001b[0m\u001b[0;34m)\u001b[0m\u001b[0;34m\u001b[0m\u001b[0;34m\u001b[0m\u001b[0m\n",
      "\u001b[0;31mValueError\u001b[0m: input must be an object of the class car"
     ]
    }
   ],
   "source": [
    "age('car')"
   ]
  },
  {
   "cell_type": "code",
   "execution_count": null,
   "metadata": {},
   "outputs": [],
   "source": []
  }
 ],
 "metadata": {
  "kernelspec": {
   "display_name": "Python 3",
   "language": "python",
   "name": "python3"
  },
  "language_info": {
   "codemirror_mode": {
    "name": "ipython",
    "version": 3
   },
   "file_extension": ".py",
   "mimetype": "text/x-python",
   "name": "python",
   "nbconvert_exporter": "python",
   "pygments_lexer": "ipython3",
   "version": "3.8.5"
  }
 },
 "nbformat": 4,
 "nbformat_minor": 4
}
