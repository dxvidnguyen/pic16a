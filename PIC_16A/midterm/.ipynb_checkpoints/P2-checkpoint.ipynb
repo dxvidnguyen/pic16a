{
 "cells": [
  {
   "cell_type": "markdown",
   "metadata": {},
   "source": [
    "# Academic Integrity Statement\n",
    "\n",
    "As a matter of Departmental policy, **we are required to give you a 0** unless you **type your name** after the following statement: \n",
    "\n",
    "> *I certify on my honor that I have neither given nor received any help, or used any non-permitted resources, while completing this evaluation.*\n",
    "\n",
    "\\[TYPE YOUR NAME HERE\\]\n",
    "\n",
    "## Permitted Resources\n",
    "\n",
    "This exam is open-book, open-notes, open-internet, open-everything. The only thing you are not allowed to do is ask another human being for help, with the exception of me. Examples: \n",
    "\n",
    "1. **Permitted**: Checking course notes and videos; browsing Google or StackOverflow; consulting previous Campuswire posts. \n",
    "2. **Not permitted**: Requesting help on Chegg; publicly posting on Campuswire (messages to me are ok); privately asking classmates for help; posting on StackOverflow. \n",
    "\n",
    "If you encounter any situation in which you're not 100% sure what's permitted, **just ask**! \n",
    "\n",
    "\n",
    "### Partial Credit\n",
    "\n",
    "Let us give you partial credit! If you're stuck on a problem and just can't get your code to run: \n",
    "\n",
    "First, **breathe**. Then, do any or all of the following: \n",
    "    \n",
    "1. Write down everything relevant that you know about the problem, as comments where your code would go. \n",
    "2. If you have non-functioning code that demonstrates some correct ideas, indicate that and keep it (commented out). \n",
    "3. Write down pseudocode (written instructions) outlining your solution approach. \n",
    "\n",
    "In brief, even if you can't quite get your code to work, you can still **show us what you know.**\n"
   ]
  },
  {
   "cell_type": "markdown",
   "metadata": {},
   "source": [
    "# Part A (30 points)\n",
    "\n",
    "Write a Car class. This car should have the following attributes and properties: \n",
    "\n",
    "- A class variable called `wheels` with value `4` (since all cars have four wheels). \n",
    "- An instance variable `make` (string), e.g. `\"Toyota\"`, `\"Subaru\"`, `\"Chevy\"`). \n",
    "- An instance variable `model` (string), e.g. `\"Corolla\"`, `\"Outback\"`, `\"Tahoe`\"). \n",
    "- An instance variable `year` (integer) the year the car was manufactured e.g. 2010). \n",
    "- An instance variable `miles_per_gallon` (float) the number of miles the car can drive per gallon of gas: e.g. 18.0)\n",
    "- An instance variable `current_gas_level` (float), the number of gallons currently in the tank of the car. \n",
    "\n",
    "### Prompt\n",
    "\n",
    "1. Your function should have an `__init__` method which  checks that `make` and `model` are strings, that `year` is an integer which is greater than 1900, that `current_gas_level` and `miles_per_gallon` are floats or ints, and that `current_gas_level`$\\geq0$. You should also check that `miles_per_gallon`>0. Make sure to raise *informative* errors if any of these checks fail.  You should appropriately use both type errors and value errors in your solution. \n",
    "2. Write a `drive()` method. This method should accept an argument `number_of_miles` giving the desired number of miles to drive. The `current_gas_level` should be reduced by an appropriate amount. If the `current_gas_level` is not sufficient to drive the specified number of miles, then raise an informative error of an appropriate type, and do not change `current_gas_level`. \n",
    "3. Demonstrate **one example** of successfully constructing an object of class `Car` and **three different examples** of raising an error from checks in the `__init__` method. \n",
    "4. Demonstrate **one example** of sucessfully calling the `drive` method, printing the  `current_gas_level` before and after. Demonstrate **one example** in which there is not enough gas and the corresponding error is raised. \n",
    "\n",
    "### Specs\n",
    "\n",
    "**Comments and docstrings, please!** \n",
    "\n",
    "1. Remember that the class itself should have a docstring describing its overall purpose, instance variables, and methods. \n",
    "2. Each method (with the possible exception of `__init__` should have a docstring describing its purpose, inputs, and outputs/other effects. "
   ]
  },
  {
   "cell_type": "code",
   "execution_count": null,
   "metadata": {},
   "outputs": [],
   "source": [
    "# define your class here \n"
   ]
  },
  {
   "cell_type": "markdown",
   "metadata": {},
   "source": [
    "Show the required examples in the code blocks below. Feel free to make new code blocks as needed. "
   ]
  },
  {
   "cell_type": "code",
   "execution_count": null,
   "metadata": {},
   "outputs": [],
   "source": [
    "# demo 1\n"
   ]
  },
  {
   "cell_type": "code",
   "execution_count": null,
   "metadata": {},
   "outputs": [],
   "source": [
    "# demo 2\n"
   ]
  },
  {
   "cell_type": "code",
   "execution_count": null,
   "metadata": {},
   "outputs": [],
   "source": [
    "# demo 3\n"
   ]
  },
  {
   "cell_type": "code",
   "execution_count": null,
   "metadata": {},
   "outputs": [],
   "source": [
    "# demo 4\n"
   ]
  },
  {
   "cell_type": "code",
   "execution_count": null,
   "metadata": {},
   "outputs": [],
   "source": [
    "# demonstrate successful driving here\n"
   ]
  },
  {
   "cell_type": "code",
   "execution_count": null,
   "metadata": {},
   "outputs": [],
   "source": [
    "# demonstrate unsuccessful driving here \n",
    "# (not enough gas)\n"
   ]
  },
  {
   "cell_type": "markdown",
   "metadata": {},
   "source": [
    "# Part B (10 points)\n",
    "\n",
    "Write a `Motorcycle` class that possesses the same class variables, instance variables, and `drive()` method as the `Car` class. \n",
    "\n",
    "Demonstrate a working example of an object of class `Motorcycle`. Then, print the `wheels` instance variable of the object to verify that the object has the correct number of wheels (which should be different from a `Car`).  \n",
    "\n",
    "**Note**: motorcycles have two wheels. \n",
    "\n",
    "### Specs\n",
    "\n",
    "- **Your solution should be under five lines long.**\n",
    "- Comments and docstrings are not required for this part. "
   ]
  },
  {
   "cell_type": "code",
   "execution_count": null,
   "metadata": {},
   "outputs": [],
   "source": [
    "# class definition here\n"
   ]
  },
  {
   "cell_type": "code",
   "execution_count": null,
   "metadata": {},
   "outputs": [],
   "source": [
    "# construct object of class\n"
   ]
  },
  {
   "cell_type": "code",
   "execution_count": null,
   "metadata": {},
   "outputs": [],
   "source": [
    "# show number of wheels\n"
   ]
  },
  {
   "cell_type": "markdown",
   "metadata": {},
   "source": [
    "# Part C (15 points)\n",
    "\n",
    "Write a function called `age` whose input is an object of class `Car` and whose output is the age of that object, computed according to the formula \n",
    "\n",
    "\\begin{equation*}\n",
    "    \\text{age}=2021-\\text{year manufactured}\n",
    "\\end{equation*}\n",
    "\n",
    "\n",
    "\n",
    "Your function should check that the input is an instance of class `Car`. This implies that it should also work for objects of class `Motorcycle`, and other classes that inherit from `Car`.\n",
    "\n",
    "\n",
    "Demonstrate that your function works and raises an appropriate error when the input is a  `Car` or `Motorcycle`, but not when the input is an `int` or a `string`. \n",
    "\n",
    "### Specs\n",
    "\n",
    "- Comments and docstrings are not required in this part. "
   ]
  },
  {
   "cell_type": "code",
   "execution_count": null,
   "metadata": {},
   "outputs": [],
   "source": [
    "# define function here\n"
   ]
  },
  {
   "cell_type": "code",
   "execution_count": null,
   "metadata": {},
   "outputs": [],
   "source": [
    "# show that it works on Cars\n"
   ]
  },
  {
   "cell_type": "code",
   "execution_count": null,
   "metadata": {},
   "outputs": [],
   "source": [
    "# show that it works on Motorcycles\n"
   ]
  },
  {
   "cell_type": "code",
   "execution_count": null,
   "metadata": {},
   "outputs": [],
   "source": [
    "# show an error on other inputs\n"
   ]
  }
 ],
 "metadata": {
  "kernelspec": {
   "display_name": "Python 3",
   "language": "python",
   "name": "python3"
  },
  "language_info": {
   "codemirror_mode": {
    "name": "ipython",
    "version": 3
   },
   "file_extension": ".py",
   "mimetype": "text/x-python",
   "name": "python",
   "nbconvert_exporter": "python",
   "pygments_lexer": "ipython3",
   "version": "3.8.5"
  }
 },
 "nbformat": 4,
 "nbformat_minor": 4
}
