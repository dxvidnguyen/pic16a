{
 "cells": [
  {
   "cell_type": "markdown",
   "metadata": {},
   "source": [
    "# Academic Integrity Statement\n",
    "\n",
    "As a matter of Departmental policy, **we are required to give you a 0** unless you **type your name** after the following statement: \n",
    "\n",
    "> *I certify on my honor that I have neither given nor received any help, or used any non-permitted resources, while completing this evaluation.*\n",
    "\n",
    "\\[TYPE YOUR NAME HERE\\]\n",
    "\n",
    "## Permitted Resources\n",
    "\n",
    "This exam is open-book, open-notes, open-internet, open-everything. The only thing you are not allowed to do is ask another human being for help, with the exception of me. Examples: \n",
    "\n",
    "1. **Permitted**: Checking course notes and videos; browsing Google or StackOverflow; consulting previous Campuswire posts. \n",
    "2. **Not permitted**: Requesting help on Chegg; publicly posting on Campuswire (messages to me are ok); privately asking classmates for help; posting on StackOverflow. \n",
    "\n",
    "If you encounter any situation in which you're not 100% sure what's permitted, **just ask**! \n",
    "\n",
    "\n",
    "### Partial Credit\n",
    "\n",
    "Let us give you partial credit! If you're stuck on a problem and just can't get your code to run: \n",
    "\n",
    "First, **breathe**. Then, do any or all of the following: \n",
    "    \n",
    "1. Write down everything relevant that you know about the problem, as comments where your code would go. \n",
    "2. If you have non-functioning code that demonstrates some correct ideas, indicate that and keep it (commented out). \n",
    "3. Write down pseudocode (written instructions) outlining your solution approach. \n",
    "\n",
    "In brief, even if you can't quite get your code to work, you can still **show us what you know.**\n",
    "\n",
    "## Introduction\n",
    "\n",
    "Here is a list of all of the presidents of the United States as tuples in the  format `(first_name,last_name)`. (Middle initials are added to last names occasionally if needed to distinguish between father/son pairs.) For example, the tuple `(\"Thomas\", \"Jefferson\")` corresponds to president Thomas Jefferson. "
   ]
  },
  {
   "cell_type": "code",
   "execution_count": 1,
   "metadata": {},
   "outputs": [],
   "source": [
    "presidents = [(\"George\",\"Washington\"),\n",
    "              (\"John\",\"Adams\"),\n",
    "              (\"Thomas\",\"Jefferson\"),\n",
    "              (\"James\", \"Madison\"),\n",
    "              (\"James\", \"Monroe\"),\n",
    "              (\"John\", \"Q. Adams\"),\n",
    "              (\"Andrew\",\"Jackson\"),\n",
    "              (\"Martin\",\"Van Buren\"),\n",
    "              (\"William\",\"Harrison\"),\n",
    "              (\"John\",\"Tyler\"),\n",
    "              (\"James\",\"Polk\"),\n",
    "              (\"Zachary\",\"Taylor\"),\n",
    "              (\"Milliard\",\"Filmore\"),\n",
    "              (\"Franklin\",\"Pierce\"),\n",
    "              (\"James\",\"Buchanan\"),\n",
    "              (\"Abraham\",\"Lincoln\"),\n",
    "              (\"Andrew\",\"Johnson\"),\n",
    "              (\"Ulysses\",\"Grant\"),\n",
    "              (\"Rutherford\",\"Hayes\"),\n",
    "              (\"James\",\"Garfield\"),\n",
    "              (\"Chester\",\"Arthur\"),\n",
    "              (\"Grover\",\"Cleveland\"),\n",
    "              (\"Benjamin\",\"Harrison\"),\n",
    "              (\"Grover\",\"Cleveland\"),\n",
    "              (\"William\",\"McKinley\"),\n",
    "              (\"Theodore\",\"Roosevelt\"),\n",
    "              (\"William\",\"Taft\"),\n",
    "              (\"Woodrow\",\"Wilson\"),\n",
    "              (\"Warren\",\"Harding\"),\n",
    "              (\"Calvin\",\"Coolidge\"),\n",
    "              (\"Herbert\",\"Hoover\"),\n",
    "              (\"Franklin\",\"Roosevelt\"),\n",
    "              (\"Harry\",\"Truman\"),\n",
    "              (\"Dwight\",\"Eisenhower\"),\n",
    "              (\"John\",\"Kennedy\"),\n",
    "              (\"Lyndon\",\"Johnson\"),\n",
    "              (\"Richard\",\"Nixon\"),\n",
    "              (\"Gerald\",\"Ford\"),\n",
    "              (\"Jimmy\",\"Carter\"),\n",
    "              (\"Ronald\",\"Reagan\"),\n",
    "              (\"George\", \"H. W. Bush\"),\n",
    "              (\"William\", \"Clinton\"),\n",
    "              (\"George\",\"W. Bush\"),\n",
    "              (\"Barack\",\"Obama\"),\n",
    "              (\"Donald\",\"Trump\"),\n",
    "              (\"Joseph\",\"Biden\")\n",
    "             ]"
   ]
  },
  {
   "cell_type": "markdown",
   "metadata": {},
   "source": [
    "# Part A (10 points)\n",
    "\n",
    "Write a function called `count_distinct()`. This function should take a single argument, which you may assume to be a list. The return value of `count_distinct(L)` should be the number of *distinct* items in `L`. For example, `count_distinct([1,1,\"b\"])` should return `2`, since `1` and `\"b\"` are the `2` distinct values in this list. \n",
    "\n",
    "### Specs\n",
    "\n",
    "- **Comments and docstrings are not required for this problem,** although they may help us give you partial credit. \n",
    "- You are not required to perform any type-checking for this problem. \n",
    "- For full credit your solution should be **three lines or less.**"
   ]
  },
  {
   "cell_type": "code",
   "execution_count": null,
   "metadata": {},
   "outputs": [],
   "source": [
    "# your function definition here\n"
   ]
  },
  {
   "cell_type": "markdown",
   "metadata": {},
   "source": [
    "Next, use `count_distinct()` to determine the number of different people who have been president of the United States? (Note, at least one person is on the list twice)"
   ]
  },
  {
   "cell_type": "code",
   "execution_count": null,
   "metadata": {},
   "outputs": [],
   "source": [
    "# test count_distinct() here\n"
   ]
  },
  {
   "cell_type": "markdown",
   "metadata": {},
   "source": [
    "# Part B (10 points)\n",
    "\n",
    "Write a function called `first_names_dict` which turns inputs a list of names (stored as tuples similar to the `presidents` list above) and returns a dictionary where the keys are first names and  values are the number of times that someone with that first name appears on the list. \n",
    "\n",
    "Demonstrate your function on the list `presidents` and print the resulting dictionary. \n",
    "\n",
    "### Specs\n",
    "\n",
    "- **Comments and docstrings are not required for this problem,** although they may help us give you partial credit. \n",
    "- You are not required to perform any type-checking for this problem: it's ok to assume that the input is a correctly-constructed list whose elements are 2-tuples of strings. \n",
    "- My solution has 8 lines but it is okay if yours is longer or shorter."
   ]
  },
  {
   "cell_type": "code",
   "execution_count": null,
   "metadata": {},
   "outputs": [],
   "source": [
    "# define first_names_dict() here\n"
   ]
  },
  {
   "cell_type": "code",
   "execution_count": null,
   "metadata": {},
   "outputs": [],
   "source": [
    "# demonstrate first_names_dict() here \n"
   ]
  },
  {
   "cell_type": "markdown",
   "metadata": {},
   "source": [
    "# Part C (25 points)\n",
    "\n",
    "Write a function called `most_common_first_name()` which determines the most common first name in a list formatted in the same way as `presidents`. Your function should return both the most common first name and the number of times it appears. \n",
    "\n",
    "In the U.S. `presidents` list, the most common first name is `\"James\"`, which appears 5 times. So, your function should be able to do this: \n",
    "\n",
    "```python\n",
    "first_name, num_occurrences = most_common_first_name(presidents)\n",
    "first_name, num_occurrences\n",
    "```\n",
    "```\n",
    "(\"James\", 5)\n",
    "```\n",
    "\n",
    "### Specs\n",
    "\n",
    "- **Comments and docstrings are not required for this problem,** although they may help us give you partial credit. \n",
    "- You are not required to perform any type-checking for this problem: it's ok to assume that the input is a correctly-constructed list whose elements are 2-tuples of strings. \n",
    "- You may assume that there is a unique most common first name. In a hypothetical list in which two names were equally common, it would be sufficient for your function to return one of them (with the correct count). \n",
    "\n",
    "Write python code which determines what the most common first name amongst U.S. presidents is. Print the most common name and how many times it's been used when you are done. (You don't have to worry about ties. No comments are necessary for this part, but adding them could help me give you partial credit. My solution was 6 lines.)"
   ]
  },
  {
   "cell_type": "code",
   "execution_count": null,
   "metadata": {},
   "outputs": [],
   "source": [
    "# write your function here\n"
   ]
  },
  {
   "cell_type": "code",
   "execution_count": null,
   "metadata": {},
   "outputs": [],
   "source": [
    "# demonstrate (using the test code from the problem prompt) here\n"
   ]
  }
 ],
 "metadata": {
  "kernelspec": {
   "display_name": "Python 3",
   "language": "python",
   "name": "python3"
  },
  "language_info": {
   "codemirror_mode": {
    "name": "ipython",
    "version": 3
   },
   "file_extension": ".py",
   "mimetype": "text/x-python",
   "name": "python",
   "nbconvert_exporter": "python",
   "pygments_lexer": "ipython3",
   "version": "3.8.5"
  }
 },
 "nbformat": 4,
 "nbformat_minor": 4
}
