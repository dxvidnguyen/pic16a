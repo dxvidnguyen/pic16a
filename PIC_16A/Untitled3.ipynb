{
 "cells": [
  {
   "cell_type": "code",
   "execution_count": 222,
   "metadata": {},
   "outputs": [],
   "source": [
    "#import libraries\n",
    "import pandas as pd\n",
    "import numpy as np\n",
    "from matplotlib import pyplot as plt\n",
    "from sklearn import tree, preprocessing, metrics\n",
    "from sklearn.model_selection import train_test_split, cross_val_score\n",
    "from sklearn.linear_model import LogisticRegression, LogisticRegressionCV\n",
    "from sklearn.metrics import roc_auc_score, roc_curve\n",
    "from sklearn.feature_selection import f_classif\n",
    "from sklearn.neural_network import MLPClassifier\n",
    "from sklearn.metrics import confusion_matrix\n",
    "from sklearn.metrics import plot_confusion_matrix\n",
    "from sklearn.feature_selection import f_classif\n",
    "import itertools"
   ]
  },
  {
   "cell_type": "code",
   "execution_count": 223,
   "metadata": {},
   "outputs": [],
   "source": [
    "#penguins data\n",
    "url = \"https://philchodrow.github.io/PIC16A/datasets/palmer_penguins.csv\"\n",
    "penguins = pd.read_csv(url)\n",
    "\n",
    "#dropping columns: studyName, Individual ID, Date Egg, Sample Number\n",
    "pdata = penguins.drop(['studyName', 'Individual ID', 'Date Egg', 'Region', 'Sample Number', 'Comments'], axis = 1)\n",
    "\n",
    "#drop nan values\n",
    "mydata = pdata.dropna()\n",
    "\n",
    "#get rid of penguin with period for sex\n",
    "data = mydata.drop(mydata.index[318])\n",
    "\n",
    "#transforming cols that are not floats and ints\n",
    "le = preprocessing.LabelEncoder()\n",
    "\n",
    "#species \n",
    "data['Species'] = le.fit_transform(data['Species'])\n",
    "#island\n",
    "data['Island'] = le.fit_transform(data['Island'])\n",
    "#stage\n",
    "data['Stage'] = le.fit_transform(data['Stage'])\n",
    "#clutch competition\n",
    "data['Clutch Completion'] = le.fit_transform(data['Clutch Completion'])\n",
    "#sex\n",
    "data['Sex'] = le.fit_transform(data['Sex'])\n"
   ]
  },
  {
   "cell_type": "code",
   "execution_count": 224,
   "metadata": {},
   "outputs": [],
   "source": [
    "#getting all possible combinations\n",
    "names = list(data.columns)[1:]\n",
    "combos = list(itertools.combinations(names, 3))\n"
   ]
  },
  {
   "cell_type": "code",
   "execution_count": 24,
   "metadata": {},
   "outputs": [],
   "source": [
    "#using tree to select cols \n",
    "def check_column_score(cols):\n",
    "    \"\"\"\n",
    "    Trains and evaluates a model via cross-validation on the columns of the data\n",
    "    with selected indices\n",
    "    \"\"\"\n",
    "    T = tree.DecisionTreeClassifier(max_depth = 5)\n",
    "    return cross_val_score(T, x_train[cols], y_train, cv = 5).mean()  \n",
    "\n",
    "\n",
    "def test_column_score(tupCol):\n",
    "    \"\"\"\n",
    "    Trains and evaluates a model on the test set using the columns of the data\n",
    "    with selected indices\n",
    "    \"\"\"\n",
    "    cols = list(tupCol)\n",
    "    T = tree.DecisionTreeClassifier(max_depth = 5)\n",
    "    T.fit(x_train[cols], y_train)\n",
    "    return T.score(x_test[cols], y_test)"
   ]
  },
  {
   "cell_type": "code",
   "execution_count": 31,
   "metadata": {},
   "outputs": [],
   "source": [
    "#split into test and training data\n",
    "train, test = train_test_split(data, test_size = 0.3)\n",
    "train.shape, test.shape\n",
    "\n",
    "x_train = train.drop(['Species'], axis = 1)\n",
    "y_train = train['Species'].values\n",
    "\n",
    "x_test = test.drop(['Species'], axis = 1)\n",
    "y_test = test['Species'].values"
   ]
  },
  {
   "cell_type": "code",
   "execution_count": 33,
   "metadata": {},
   "outputs": [],
   "source": [
    "#dict with cross value score of each combination \n",
    "D = {}\n",
    "for i in range(len(combos)): \n",
    "    cols = list(combos[i])\n",
    "    x = check_column_score(cols)\n",
    "    D[i] = x"
   ]
  },
  {
   "cell_type": "code",
   "execution_count": 34,
   "metadata": {},
   "outputs": [
    {
     "name": "stdout",
     "output_type": "stream",
     "text": [
      "---- 29\n",
      "('Island', 'Flipper Length (mm)', 'Delta 13 C (o/oo)'), Score: 0.97353\n",
      "Test score is: 0.92857\n",
      "---- 15\n",
      "('Island', 'Culmen Length (mm)', 'Culmen Depth (mm)'), Score: 0.96889\n",
      "Test score is: 0.9898\n",
      "---- 16\n",
      "('Island', 'Culmen Length (mm)', 'Flipper Length (mm)'), Score: 0.96\n",
      "Test score is: 0.96939\n",
      "---- 86\n",
      "('Culmen Length (mm)', 'Culmen Depth (mm)', 'Body Mass (g)'), Score: 0.95594\n",
      "Test score is: 0.96939\n",
      "---- 18\n",
      "('Island', 'Culmen Length (mm)', 'Sex'), Score: 0.95565\n",
      "Test score is: 0.96939\n",
      "---- 103\n",
      "('Culmen Depth (mm)', 'Flipper Length (mm)', 'Delta 13 C (o/oo)'), Score: 0.9514\n",
      "Test score is: 0.92857\n",
      "---- 91\n",
      "('Culmen Length (mm)', 'Flipper Length (mm)', 'Sex'), Score: 0.9513\n",
      "Test score is: 0.95918\n",
      "---- 85\n",
      "('Culmen Length (mm)', 'Culmen Depth (mm)', 'Flipper Length (mm)'), Score: 0.95121\n",
      "Test score is: 0.95918\n",
      "---- 89\n",
      "('Culmen Length (mm)', 'Culmen Depth (mm)', 'Delta 13 C (o/oo)'), Score: 0.94705\n",
      "Test score is: 0.9898\n",
      "---- 19\n",
      "('Island', 'Culmen Length (mm)', 'Delta 15 N (o/oo)'), Score: 0.94667\n",
      "Test score is: 0.94898\n"
     ]
    }
   ],
   "source": [
    "#sort dict\n",
    "L = list(D.items())\n",
    "L.sort(key = lambda tup: tup[1], reverse = True)\n",
    "\n",
    "#show 10 best scores\n",
    "best = L[0:10]\n",
    "\n",
    "for where, score in best:\n",
    "    print(\"---- \" + str(where))\n",
    "    print(str(combos[where]) + \", Score: \" + str(np.round(score, 5)))\n",
    "    test_score = test_column_score(combos[where])\n",
    "    print(\"Test score is: \" + str(np.round(test_score, 5)))"
   ]
  },
  {
   "cell_type": "code",
   "execution_count": 35,
   "metadata": {},
   "outputs": [],
   "source": [
    "#best one is island, culmen depth, culmen length\n",
    "X_train = train[list(combos[15])]\n",
    "X_test = test[list(combos[15])]"
   ]
  },
  {
   "cell_type": "code",
   "execution_count": 38,
   "metadata": {},
   "outputs": [
    {
     "data": {
      "image/png": "[encoded data removed]",
      "text/plain": [
       "<Figure size 720x504 with 1 Axes>"
      ]
     },
     "metadata": {
      "needs_background": "light"
     },
     "output_type": "display_data"
    }
   ],
   "source": [
    "#test out best depth for tree\n",
    "fig, ax = plt.subplots(1, figsize = (10, 7))\n",
    "\n",
    "best_score = 0\n",
    "\n",
    "for d in range(1,30):\n",
    "    T = tree.DecisionTreeClassifier(max_depth = d)\n",
    "    cv_score = cross_val_score(T, X_train, y_train, cv=10).mean()\n",
    "    ax.scatter(d, cv_score, color = \"black\")\n",
    "    \n",
    "    if cv_score > best_score:\n",
    "        best_depth = d\n",
    "        best_score = cv_score\n",
    "\n",
    "l = ax.set(title = \"Best Depth : \" + str(best_depth),\n",
    "       xlabel = \"Depth\", \n",
    "       ylabel = \"CV Score\")"
   ]
  },
  {
   "cell_type": "code",
   "execution_count": 39,
   "metadata": {},
   "outputs": [
    {
     "data": {
      "text/plain": [
       "0.9867588932806324"
      ]
     },
     "execution_count": 39,
     "metadata": {},
     "output_type": "execute_result"
    }
   ],
   "source": [
    "best_score"
   ]
  },
  {
   "cell_type": "code",
   "execution_count": 40,
   "metadata": {},
   "outputs": [
    {
     "data": {
      "text/plain": [
       "0.9897959183673469"
      ]
     },
     "execution_count": 40,
     "metadata": {},
     "output_type": "execute_result"
    }
   ],
   "source": [
    "#decision tree model\n",
    "T = tree.DecisionTreeClassifier(max_depth = best_depth)\n",
    "T.fit(X_train, y_train)\n",
    "T.score(X_test, y_test)"
   ]
  },
  {
   "cell_type": "code",
   "execution_count": 41,
   "metadata": {},
   "outputs": [
    {
     "data": {
      "image/png": "[encoded data removed]",
      "text/plain": [
       "<Figure size 720x720 with 1 Axes>"
      ]
     },
     "metadata": {
      "needs_background": "light"
     },
     "output_type": "display_data"
    }
   ],
   "source": [
    "fig, ax = plt.subplots(1, figsize = (10, 10))\n",
    "p = tree.plot_tree(T, \n",
    "                   filled = True, \n",
    "                   feature_names = penguins.drop(['Species'], axis = 1).columns)"
   ]
  },
  {
   "cell_type": "code",
   "execution_count": 204,
   "metadata": {},
   "outputs": [
    {
     "data": {
      "image/png": "[encoded data removed]",
      "text/plain": [
       "<Figure size 720x504 with 1 Axes>"
      ]
     },
     "metadata": {
      "needs_background": "light"
     },
     "output_type": "display_data"
    }
   ],
   "source": [
    "#test best complexity for logistic regresssion\n",
    "fig, ax = plt.subplots(1, figsize = (10, 7))\n",
    "lr_best_score = 0\n",
    "\n",
    "#comp is short for complexity \n",
    "for comp in np.linspace(0.1, 2, 41):\n",
    "    #range(1,30)\n",
    "    logreg = LogisticRegression(max_iter = 1000, C = comp)\n",
    "    cv_score = cross_val_score(logreg, X_train, y_train, cv=10).mean()\n",
    "    ax.scatter(comp, cv_score, color = \"black\")\n",
    "    \n",
    "    if cv_score > lr_best_score:\n",
    "        best_comp = comp\n",
    "        lr_best_score = cv_score\n",
    "    \n",
    "    \n",
    "l = ax.set(title = \"Best Complexity : \" + str(best_comp),\n",
    "       xlabel = \"Complexity\", \n",
    "       ylabel = \"CV Score\")"
   ]
  },
  {
   "cell_type": "code",
   "execution_count": 205,
   "metadata": {},
   "outputs": [
    {
     "data": {
      "text/plain": [
       "0.9693877551020408"
      ]
     },
     "execution_count": 205,
     "metadata": {},
     "output_type": "execute_result"
    }
   ],
   "source": [
    "#training lr model\n",
    "lr = LogisticRegression(max_iter = 1000, C = best_comp)\n",
    "lr.fit(X_train, y_train)\n",
    "lr.score(X_test, y_test)"
   ]
  },
  {
   "cell_type": "code",
   "execution_count": 60,
   "metadata": {},
   "outputs": [
    {
     "data": {
      "image/png": "[encoded data removed]",
      "text/plain": [
       "<Figure size 432x288 with 1 Axes>"
      ]
     },
     "metadata": {
      "needs_background": "light"
     },
     "output_type": "display_data"
    }
   ],
   "source": [
    "#MLP best depth\n",
    "fig, ax = plt.subplots(1)\n",
    "mlp_best_score = 0\n",
    "\n",
    "# For 30 depths, find the highest score to find the best depth\n",
    "for d in range(1,30):\n",
    "    clf = MLPClassifier(hidden_layer_sizes=(d, d, d), max_iter=3000)\n",
    "    cv_score = cross_val_score(clf, X_train, y_train, cv=10).mean()\n",
    "    ax.scatter(d, cv_score, color = \"black\")\n",
    "    if cv_score > mlp_best_score:\n",
    "        mlp_best_depth = d\n",
    "        mlp_best_score = cv_score\n",
    "        \n",
    "l = ax.set(title = \"Best Depth : \" + str(mlp_best_depth),\n",
    "xlabel = \"Depth\",\n",
    "ylabel = \"CV Score\")"
   ]
  },
  {
   "cell_type": "code",
   "execution_count": 61,
   "metadata": {},
   "outputs": [
    {
     "data": {
      "text/plain": [
       "0.9795918367346939"
      ]
     },
     "execution_count": 61,
     "metadata": {},
     "output_type": "execute_result"
    }
   ],
   "source": [
    "# Train an MLPClassifier at best complexity, and evaluate the model on the test set\n",
    "clf = MLPClassifier(hidden_layer_sizes=(18, 18, 18), max_iter=3000).fit(X_train, y_train)\n",
    "clf.score(X_test, y_test)"
   ]
  },
  {
   "cell_type": "markdown",
   "metadata": {},
   "source": [
    "## Training Data with Logistic Regression "
   ]
  },
  {
   "cell_type": "code",
   "execution_count": 206,
   "metadata": {},
   "outputs": [],
   "source": [
    "def check_column_scorecv(cols):\n",
    "    \"\"\"\n",
    "    Trains and evaluates a model via cross-validation on the columns of the data\n",
    "    with selected indices using logistic regression\n",
    "    \"\"\"\n",
    "    logreg = LogisticRegression(max_iter = 1000)\n",
    "    return cross_val_score(logreg, x_train[cols], y_train, cv = 5).mean()\n",
    "\n",
    "def test_column_scorecv(tupCol):\n",
    "    \"\"\"\n",
    "    Trains and evaluates a model on the test set using the columns of the data\n",
    "    with selected indices with logistic regreesion\n",
    "    \"\"\"\n",
    "    cols = list(tupCol)\n",
    "    logreg = LogisticRegression(max_iter = 1000)\n",
    "    logreg.fit(x_train[cols], y_train)\n",
    "    return logreg.score(x_test[cols], y_test)"
   ]
  },
  {
   "cell_type": "code",
   "execution_count": 207,
   "metadata": {},
   "outputs": [],
   "source": [
    "E = {}\n",
    "for i in range(len(combos)): \n",
    "    cols = list(combos[i])\n",
    "    x = check_column_scorecv(cols)\n",
    "    E[i] = x"
   ]
  },
  {
   "cell_type": "code",
   "execution_count": 209,
   "metadata": {},
   "outputs": [
    {
     "name": "stdout",
     "output_type": "stream",
     "text": [
      "---- 89\n",
      "('Culmen Length (mm)', 'Culmen Depth (mm)', 'Delta 13 C (o/oo)'), Score: 1.0\n",
      "Test score is: 0.9898\n",
      "---- 87\n",
      "('Culmen Length (mm)', 'Culmen Depth (mm)', 'Sex'), Score: 0.99111\n",
      "Test score is: 0.91837\n",
      "---- 86\n",
      "('Culmen Length (mm)', 'Culmen Depth (mm)', 'Body Mass (g)'), Score: 0.98676\n",
      "Test score is: 0.96939\n",
      "---- 88\n",
      "('Culmen Length (mm)', 'Culmen Depth (mm)', 'Delta 15 N (o/oo)'), Score: 0.98667\n",
      "Test score is: 0.94898\n",
      "---- 85\n",
      "('Culmen Length (mm)', 'Culmen Depth (mm)', 'Flipper Length (mm)'), Score: 0.97778\n",
      "Test score is: 0.95918\n",
      "---- 93\n",
      "('Culmen Length (mm)', 'Flipper Length (mm)', 'Delta 13 C (o/oo)'), Score: 0.97778\n",
      "Test score is: 0.93878\n",
      "---- 18\n",
      "('Island', 'Culmen Length (mm)', 'Sex'), Score: 0.97343\n",
      "Test score is: 0.96939\n",
      "---- 94\n",
      "('Culmen Length (mm)', 'Body Mass (g)', 'Sex'), Score: 0.96908\n",
      "Test score is: 0.95918\n",
      "---- 15\n",
      "('Island', 'Culmen Length (mm)', 'Culmen Depth (mm)'), Score: 0.96899\n",
      "Test score is: 0.9898\n",
      "---- 99\n",
      "('Culmen Length (mm)', 'Delta 15 N (o/oo)', 'Delta 13 C (o/oo)'), Score: 0.96889\n",
      "Test score is: 0.92857\n",
      "---- 19\n",
      "('Island', 'Culmen Length (mm)', 'Delta 15 N (o/oo)'), Score: 0.96454\n",
      "Test score is: 0.94898\n",
      "---- 98\n",
      "('Culmen Length (mm)', 'Sex', 'Delta 13 C (o/oo)'), Score: 0.96454\n",
      "Test score is: 0.94898\n",
      "---- 64\n",
      "('Clutch Completion', 'Culmen Length (mm)', 'Culmen Depth (mm)'), Score: 0.96039\n",
      "Test score is: 0.91837\n",
      "---- 90\n",
      "('Culmen Length (mm)', 'Flipper Length (mm)', 'Body Mass (g)'), Score: 0.96029\n",
      "Test score is: 0.96939\n",
      "---- 20\n",
      "('Island', 'Culmen Length (mm)', 'Delta 13 C (o/oo)'), Score: 0.9601\n",
      "Test score is: 0.94898\n",
      "---- 92\n",
      "('Culmen Length (mm)', 'Flipper Length (mm)', 'Delta 15 N (o/oo)'), Score: 0.9601\n",
      "Test score is: 0.93878\n",
      "---- 43\n",
      "('Stage', 'Culmen Length (mm)', 'Culmen Depth (mm)'), Score: 0.95594\n",
      "Test score is: 0.91837\n",
      "---- 17\n",
      "('Island', 'Culmen Length (mm)', 'Body Mass (g)'), Score: 0.95585\n",
      "Test score is: 0.95918\n",
      "---- 97\n",
      "('Culmen Length (mm)', 'Sex', 'Delta 15 N (o/oo)'), Score: 0.95565\n",
      "Test score is: 0.89796\n",
      "---- 103\n",
      "('Culmen Depth (mm)', 'Flipper Length (mm)', 'Delta 13 C (o/oo)'), Score: 0.9514\n",
      "Test score is: 0.92857\n",
      "---- 16\n",
      "('Island', 'Culmen Length (mm)', 'Flipper Length (mm)'), Score: 0.95121\n",
      "Test score is: 0.95918\n",
      "---- 48\n",
      "('Stage', 'Culmen Length (mm)', 'Delta 13 C (o/oo)'), Score: 0.95121\n",
      "Test score is: 0.90816\n",
      "---- 91\n",
      "('Culmen Length (mm)', 'Flipper Length (mm)', 'Sex'), Score: 0.95111\n",
      "Test score is: 0.95918\n",
      "---- 1\n",
      "('Island', 'Stage', 'Culmen Length (mm)'), Score: 0.94676\n",
      "Test score is: 0.96939\n",
      "---- 44\n",
      "('Stage', 'Culmen Length (mm)', 'Flipper Length (mm)'), Score: 0.94676\n",
      "Test score is: 0.92857\n",
      "---- 65\n",
      "('Clutch Completion', 'Culmen Length (mm)', 'Flipper Length (mm)'), Score: 0.94676\n",
      "Test score is: 0.92857\n",
      "---- 95\n",
      "('Culmen Length (mm)', 'Body Mass (g)', 'Delta 15 N (o/oo)'), Score: 0.94271\n",
      "Test score is: 0.95918\n",
      "---- 78\n",
      "('Clutch Completion', 'Flipper Length (mm)', 'Delta 13 C (o/oo)'), Score: 0.94251\n",
      "Test score is: 0.92857\n",
      "---- 115\n",
      "('Flipper Length (mm)', 'Delta 15 N (o/oo)', 'Delta 13 C (o/oo)'), Score: 0.94251\n",
      "Test score is: 0.91837\n",
      "---- 8\n",
      "('Island', 'Clutch Completion', 'Culmen Length (mm)'), Score: 0.94242\n",
      "Test score is: 0.96939\n",
      "---- 29\n",
      "('Island', 'Flipper Length (mm)', 'Delta 13 C (o/oo)'), Score: 0.94242\n",
      "Test score is: 0.93878\n",
      "---- 68\n",
      "('Clutch Completion', 'Culmen Length (mm)', 'Delta 15 N (o/oo)'), Score: 0.94242\n",
      "Test score is: 0.88776\n",
      "---- 108\n",
      "('Culmen Depth (mm)', 'Sex', 'Delta 13 C (o/oo)'), Score: 0.93836\n",
      "Test score is: 0.90816\n",
      "---- 25\n",
      "('Island', 'Culmen Depth (mm)', 'Delta 13 C (o/oo)'), Score: 0.93826\n",
      "Test score is: 0.87755\n",
      "---- 69\n",
      "('Clutch Completion', 'Culmen Length (mm)', 'Delta 13 C (o/oo)'), Score: 0.93807\n",
      "Test score is: 0.90816\n",
      "---- 47\n",
      "('Stage', 'Culmen Length (mm)', 'Delta 15 N (o/oo)'), Score: 0.93797\n",
      "Test score is: 0.88776\n",
      "---- 57\n",
      "('Stage', 'Flipper Length (mm)', 'Delta 13 C (o/oo)'), Score: 0.93372\n",
      "Test score is: 0.92857\n",
      "---- 66\n",
      "('Clutch Completion', 'Culmen Length (mm)', 'Body Mass (g)'), Score: 0.93372\n",
      "Test score is: 0.94898\n",
      "---- 96\n",
      "('Culmen Length (mm)', 'Body Mass (g)', 'Delta 13 C (o/oo)'), Score: 0.93372\n",
      "Test score is: 0.93878\n",
      "---- 114\n",
      "('Flipper Length (mm)', 'Sex', 'Delta 13 C (o/oo)'), Score: 0.93362\n",
      "Test score is: 0.92857\n",
      "---- 109\n",
      "('Culmen Depth (mm)', 'Delta 15 N (o/oo)', 'Delta 13 C (o/oo)'), Score: 0.92937\n",
      "Test score is: 0.88776\n",
      "---- 45\n",
      "('Stage', 'Culmen Length (mm)', 'Body Mass (g)'), Score: 0.92928\n",
      "Test score is: 0.94898\n",
      "---- 74\n",
      "('Clutch Completion', 'Culmen Depth (mm)', 'Delta 13 C (o/oo)'), Score: 0.92493\n",
      "Test score is: 0.87755\n",
      "---- 53\n",
      "('Stage', 'Culmen Depth (mm)', 'Delta 13 C (o/oo)'), Score: 0.92048\n",
      "Test score is: 0.87755\n",
      "---- 35\n",
      "('Island', 'Delta 15 N (o/oo)', 'Delta 13 C (o/oo)'), Score: 0.88502\n",
      "Test score is: 0.91837\n",
      "---- 106\n",
      "('Culmen Depth (mm)', 'Body Mass (g)', 'Delta 13 C (o/oo)'), Score: 0.87681\n",
      "Test score is: 0.95918\n",
      "---- 102\n",
      "('Culmen Depth (mm)', 'Flipper Length (mm)', 'Delta 15 N (o/oo)'), Score: 0.8629\n",
      "Test score is: 0.83673\n",
      "---- 112\n",
      "('Flipper Length (mm)', 'Body Mass (g)', 'Delta 13 C (o/oo)'), Score: 0.85401\n",
      "Test score is: 0.92857\n",
      "---- 77\n",
      "('Clutch Completion', 'Flipper Length (mm)', 'Delta 15 N (o/oo)'), Score: 0.84986\n",
      "Test score is: 0.82653\n",
      "---- 56\n",
      "('Stage', 'Flipper Length (mm)', 'Delta 15 N (o/oo)'), Score: 0.84966\n",
      "Test score is: 0.83673\n",
      "---- 113\n",
      "('Flipper Length (mm)', 'Sex', 'Delta 15 N (o/oo)'), Score: 0.84957\n",
      "Test score is: 0.83673\n",
      "---- 28\n",
      "('Island', 'Flipper Length (mm)', 'Delta 15 N (o/oo)'), Score: 0.84522\n",
      "Test score is: 0.83673\n",
      "---- 84\n",
      "('Clutch Completion', 'Delta 15 N (o/oo)', 'Delta 13 C (o/oo)'), Score: 0.83179\n",
      "Test score is: 0.85714\n",
      "---- 70\n",
      "('Clutch Completion', 'Culmen Depth (mm)', 'Flipper Length (mm)'), Score: 0.82319\n",
      "Test score is: 0.71429\n",
      "---- 118\n",
      "('Body Mass (g)', 'Delta 15 N (o/oo)', 'Delta 13 C (o/oo)'), Score: 0.823\n",
      "Test score is: 0.93878\n",
      "---- 119\n",
      "('Sex', 'Delta 15 N (o/oo)', 'Delta 13 C (o/oo)'), Score: 0.823\n",
      "Test score is: 0.85714\n",
      "---- 10\n",
      "('Island', 'Clutch Completion', 'Flipper Length (mm)'), Score: 0.81894\n",
      "Test score is: 0.80612\n",
      "---- 63\n",
      "('Stage', 'Delta 15 N (o/oo)', 'Delta 13 C (o/oo)'), Score: 0.81855\n",
      "Test score is: 0.85714\n",
      "---- 107\n",
      "('Culmen Depth (mm)', 'Sex', 'Delta 15 N (o/oo)'), Score: 0.8057\n",
      "Test score is: 0.79592\n",
      "---- 14\n",
      "('Island', 'Clutch Completion', 'Delta 13 C (o/oo)'), Score: 0.80531\n",
      "Test score is: 0.72449\n",
      "---- 49\n",
      "('Stage', 'Culmen Depth (mm)', 'Flipper Length (mm)'), Score: 0.80522\n",
      "Test score is: 0.72449\n",
      "---- 21\n",
      "('Island', 'Culmen Depth (mm)', 'Flipper Length (mm)'), Score: 0.80512\n",
      "Test score is: 0.80612\n",
      "---- 24\n",
      "('Island', 'Culmen Depth (mm)', 'Delta 15 N (o/oo)'), Score: 0.80135\n",
      "Test score is: 0.89796\n",
      "---- 101\n",
      "('Culmen Depth (mm)', 'Flipper Length (mm)', 'Sex'), Score: 0.80068\n",
      "Test score is: 0.72449\n",
      "---- 52\n",
      "('Stage', 'Culmen Depth (mm)', 'Delta 15 N (o/oo)'), Score: 0.79681\n",
      "Test score is: 0.77551\n",
      "---- 38\n",
      "('Stage', 'Clutch Completion', 'Flipper Length (mm)'), Score: 0.79671\n",
      "Test score is: 0.80612\n",
      "---- 7\n",
      "('Island', 'Stage', 'Delta 13 C (o/oo)'), Score: 0.79188\n",
      "Test score is: 0.72449\n",
      "---- 27\n",
      "('Island', 'Flipper Length (mm)', 'Sex'), Score: 0.79188\n",
      "Test score is: 0.81633\n",
      "---- 73\n",
      "('Clutch Completion', 'Culmen Depth (mm)', 'Delta 15 N (o/oo)'), Score: 0.78802\n",
      "Test score is: 0.76531\n",
      "---- 71\n",
      "('Clutch Completion', 'Culmen Depth (mm)', 'Body Mass (g)'), Score: 0.78783\n",
      "Test score is: 0.82653\n",
      "---- 76\n",
      "('Clutch Completion', 'Flipper Length (mm)', 'Sex'), Score: 0.78763\n",
      "Test score is: 0.79592\n",
      "---- 67\n",
      "('Clutch Completion', 'Culmen Length (mm)', 'Sex'), Score: 0.78338\n",
      "Test score is: 0.76531\n",
      "---- 3\n",
      "('Island', 'Stage', 'Flipper Length (mm)'), Score: 0.77884\n",
      "Test score is: 0.81633\n",
      "---- 34\n",
      "('Island', 'Sex', 'Delta 13 C (o/oo)'), Score: 0.77884\n",
      "Test score is: 0.72449\n",
      "---- 100\n",
      "('Culmen Depth (mm)', 'Flipper Length (mm)', 'Body Mass (g)'), Score: 0.77874\n",
      "Test score is: 0.7551\n",
      "---- 55\n",
      "('Stage', 'Flipper Length (mm)', 'Sex'), Score: 0.77865\n",
      "Test score is: 0.79592\n",
      "---- 105\n",
      "('Culmen Depth (mm)', 'Body Mass (g)', 'Delta 15 N (o/oo)'), Score: 0.77855\n",
      "Test score is: 0.85714\n",
      "---- 72\n",
      "('Clutch Completion', 'Culmen Depth (mm)', 'Sex'), Score: 0.77469\n",
      "Test score is: 0.73469\n",
      "---- 117\n",
      "('Body Mass (g)', 'Sex', 'Delta 13 C (o/oo)'), Score: 0.77459\n",
      "Test score is: 0.91837\n",
      "---- 46\n",
      "('Stage', 'Culmen Length (mm)', 'Sex'), Score: 0.77459\n",
      "Test score is: 0.76531\n",
      "---- 116\n",
      "('Body Mass (g)', 'Sex', 'Delta 15 N (o/oo)'), Score: 0.76995\n",
      "Test score is: 0.84694\n",
      "---- 22\n",
      "('Island', 'Culmen Depth (mm)', 'Body Mass (g)'), Score: 0.76551\n",
      "Test score is: 0.82653\n",
      "---- 36\n",
      "('Stage', 'Clutch Completion', 'Culmen Length (mm)'), Score: 0.76551\n",
      "Test score is: 0.7449\n",
      "---- 50\n",
      "('Stage', 'Culmen Depth (mm)', 'Body Mass (g)'), Score: 0.76551\n",
      "Test score is: 0.81633\n",
      "---- 104\n",
      "('Culmen Depth (mm)', 'Body Mass (g)', 'Sex'), Score: 0.76551\n",
      "Test score is: 0.81633\n",
      "---- 9\n",
      "('Island', 'Clutch Completion', 'Culmen Depth (mm)'), Score: 0.76145\n",
      "Test score is: 0.78571\n",
      "---- 37\n",
      "('Stage', 'Clutch Completion', 'Culmen Depth (mm)'), Score: 0.75691\n",
      "Test score is: 0.70408\n",
      "---- 51\n",
      "('Stage', 'Culmen Depth (mm)', 'Sex'), Score: 0.75681\n",
      "Test score is: 0.80612\n",
      "---- 79\n",
      "('Clutch Completion', 'Body Mass (g)', 'Sex'), Score: 0.75237\n",
      "Test score is: 0.81633\n",
      "---- 111\n",
      "('Flipper Length (mm)', 'Body Mass (g)', 'Delta 15 N (o/oo)'), Score: 0.75208\n",
      "Test score is: 0.82653\n",
      "---- 23\n",
      "('Island', 'Culmen Depth (mm)', 'Sex'), Score: 0.74357\n",
      "Test score is: 0.76531\n",
      "---- 2\n",
      "('Island', 'Stage', 'Culmen Depth (mm)'), Score: 0.73923\n",
      "Test score is: 0.7551\n",
      "---- 6\n",
      "('Island', 'Stage', 'Delta 15 N (o/oo)'), Score: 0.73913\n",
      "Test score is: 0.78571\n",
      "---- 13\n",
      "('Island', 'Clutch Completion', 'Delta 15 N (o/oo)'), Score: 0.73498\n",
      "Test score is: 0.78571\n",
      "---- 33\n",
      "('Island', 'Sex', 'Delta 15 N (o/oo)'), Score: 0.73478\n",
      "Test score is: 0.82653\n",
      "---- 80\n",
      "('Clutch Completion', 'Body Mass (g)', 'Delta 15 N (o/oo)'), Score: 0.73469\n",
      "Test score is: 0.82653\n",
      "---- 32\n",
      "('Island', 'Body Mass (g)', 'Delta 13 C (o/oo)'), Score: 0.7258\n",
      "Test score is: 0.87755\n",
      "---- 59\n",
      "('Stage', 'Body Mass (g)', 'Delta 15 N (o/oo)'), Score: 0.7256\n",
      "Test score is: 0.82653\n",
      "---- 31\n",
      "('Island', 'Body Mass (g)', 'Delta 15 N (o/oo)'), Score: 0.72551\n",
      "Test score is: 0.90816\n",
      "---- 11\n",
      "('Island', 'Clutch Completion', 'Body Mass (g)'), Score: 0.70812\n",
      "Test score is: 0.79592\n",
      "---- 110\n",
      "('Flipper Length (mm)', 'Body Mass (g)', 'Sex'), Score: 0.70802\n",
      "Test score is: 0.82653\n",
      "---- 75\n",
      "('Clutch Completion', 'Flipper Length (mm)', 'Body Mass (g)'), Score: 0.70773\n",
      "Test score is: 0.80612\n",
      "---- 60\n",
      "('Stage', 'Body Mass (g)', 'Delta 13 C (o/oo)'), Score: 0.69923\n",
      "Test score is: 0.91837\n",
      "---- 81\n",
      "('Clutch Completion', 'Body Mass (g)', 'Delta 13 C (o/oo)'), Score: 0.69923\n",
      "Test score is: 0.91837\n",
      "---- 26\n",
      "('Island', 'Flipper Length (mm)', 'Body Mass (g)'), Score: 0.69459\n",
      "Test score is: 0.81633\n",
      "---- 42\n",
      "('Stage', 'Clutch Completion', 'Delta 13 C (o/oo)'), Score: 0.68164\n",
      "Test score is: 0.66327\n",
      "---- 54\n",
      "('Stage', 'Flipper Length (mm)', 'Body Mass (g)'), Score: 0.67643\n"
     ]
    },
    {
     "name": "stdout",
     "output_type": "stream",
     "text": [
      "Test score is: 0.79592\n",
      "---- 4\n",
      "('Island', 'Stage', 'Body Mass (g)'), Score: 0.67266\n",
      "Test score is: 0.80612\n",
      "---- 30\n",
      "('Island', 'Body Mass (g)', 'Sex'), Score: 0.67266\n",
      "Test score is: 0.83673\n",
      "---- 83\n",
      "('Clutch Completion', 'Sex', 'Delta 13 C (o/oo)'), Score: 0.6685\n",
      "Test score is: 0.66327\n",
      "---- 62\n",
      "('Stage', 'Sex', 'Delta 13 C (o/oo)'), Score: 0.66831\n",
      "Test score is: 0.66327\n",
      "---- 41\n",
      "('Stage', 'Clutch Completion', 'Delta 15 N (o/oo)'), Score: 0.65952\n",
      "Test score is: 0.62245\n",
      "---- 82\n",
      "('Clutch Completion', 'Sex', 'Delta 15 N (o/oo)'), Score: 0.64599\n",
      "Test score is: 0.62245\n",
      "---- 61\n",
      "('Stage', 'Sex', 'Delta 15 N (o/oo)'), Score: 0.64135\n",
      "Test score is: 0.62245\n",
      "---- 0\n",
      "('Island', 'Stage', 'Clutch Completion'), Score: 0.62831\n",
      "Test score is: 0.7449\n",
      "---- 12\n",
      "('Island', 'Clutch Completion', 'Sex'), Score: 0.62831\n",
      "Test score is: 0.7449\n",
      "---- 39\n",
      "('Stage', 'Clutch Completion', 'Body Mass (g)'), Score: 0.62812\n",
      "Test score is: 0.73469\n",
      "---- 5\n",
      "('Island', 'Stage', 'Sex'), Score: 0.60155\n",
      "Test score is: 0.7449\n",
      "---- 58\n",
      "('Stage', 'Body Mass (g)', 'Sex'), Score: 0.5658\n",
      "Test score is: 0.84694\n",
      "---- 40\n",
      "('Stage', 'Clutch Completion', 'Sex'), Score: 0.46039\n",
      "Test score is: 0.36735\n"
     ]
    }
   ],
   "source": [
    "M = list(E.items())\n",
    "M.sort(key = lambda tup: tup[1], reverse = True)\n",
    "\n",
    "best = M\n",
    "\n",
    "for where, score in best:\n",
    "    print(\"---- \" + str(where))\n",
    "    print(str(combos[where]) + \", Score: \" + str(np.round(score, 5)))\n",
    "    test_score = test_column_score(combos[where])\n",
    "    print(\"Test score is: \" + str(np.round(test_score, 5)))"
   ]
  },
  {
   "cell_type": "code",
   "execution_count": 211,
   "metadata": {},
   "outputs": [],
   "source": [
    "#testing models \n",
    "X_train = train[list(combos[89])]\n",
    "X_test = test[list(combos[89])]"
   ]
  },
  {
   "cell_type": "code",
   "execution_count": 219,
   "metadata": {},
   "outputs": [],
   "source": [
    "def tree_best_depth(): \n",
    "    fig, ax = plt.subplots(1, figsize = (10, 7))\n",
    "\n",
    "    best_score = 0\n",
    "\n",
    "    for d in range(1,30):\n",
    "        T = tree.DecisionTreeClassifier(max_depth = d)\n",
    "        cv_score = cross_val_score(T, X_train, y_train, cv=10).mean()\n",
    "        ax.scatter(d, cv_score, color = \"black\")\n",
    "\n",
    "        if cv_score > best_score:\n",
    "            best_depth = d\n",
    "            best_score = cv_score\n",
    "\n",
    "    l = ax.set(title = \"Best Depth : \" + str(best_depth),\n",
    "           xlabel = \"Depth\", \n",
    "           ylabel = \"CV Score\")\n",
    "    return best_depth, best_score\n",
    "\n",
    "def best_complex():\n",
    "    #test best complexity for logistic regresssion\n",
    "    fig, ax = plt.subplots(1, figsize = (10, 7))\n",
    "    lr_best_score = 0\n",
    "\n",
    "    #comp is short for complexity \n",
    "    for comp in np.linspace(0.1, 2, 41):\n",
    "        #range(1,30)\n",
    "        logreg = LogisticRegression(max_iter = 1000, C = comp)\n",
    "        cv_score = cross_val_score(logreg, X_train, y_train, cv=10).mean()\n",
    "        ax.scatter(comp, cv_score, color = \"black\")\n",
    "\n",
    "        if cv_score > lr_best_score:\n",
    "            best_comp = comp\n",
    "            lr_best_score = cv_score\n",
    "\n",
    "\n",
    "    l = ax.set(title = \"Best Complexity : \" + str(best_comp),\n",
    "           xlabel = \"Complexity\", \n",
    "           ylabel = \"CV Score\")\n",
    "    \n",
    "    return best_comp, best_score\n",
    "\n",
    "def mlp_depth():\n",
    "    fig, ax = plt.subplots(1)\n",
    "    mlp_best_score = 0\n",
    "\n",
    "    # For 30 depths, find the highest score to find the best depth\n",
    "    for d in range(1,30):\n",
    "        clf = MLPClassifier(hidden_layer_sizes=(d, d, d), max_iter=3000)\n",
    "        cv_score = cross_val_score(clf, X_train, y_train, cv=10).mean()\n",
    "        ax.scatter(d, cv_score, color = \"black\")\n",
    "        if cv_score > mlp_best_score:\n",
    "            mlp_best_depth = d\n",
    "            mlp_best_score = cv_score\n",
    "\n",
    "    l = ax.set(title = \"Best Depth : \" + str(mlp_best_depth),\n",
    "    xlabel = \"Depth\",\n",
    "    ylabel = \"CV Score\")\n",
    "    \n",
    "    return mlp_best_depth, mlp_best_score"
   ]
  },
  {
   "cell_type": "code",
   "execution_count": 213,
   "metadata": {},
   "outputs": [
    {
     "data": {
      "text/plain": [
       "0.9737154150197629"
      ]
     },
     "execution_count": 213,
     "metadata": {},
     "output_type": "execute_result"
    },
    {
     "data": {
      "image/png": "[encoded data removed]",
      "text/plain": [
       "<Figure size 720x504 with 1 Axes>"
      ]
     },
     "metadata": {
      "needs_background": "light"
     },
     "output_type": "display_data"
    }
   ],
   "source": [
    "best_depth, best_score = tree_best_depth()\n",
    "print(best_score)"
   ]
  },
  {
   "cell_type": "code",
   "execution_count": 214,
   "metadata": {},
   "outputs": [
    {
     "data": {
      "text/plain": [
       "0.9897959183673469"
      ]
     },
     "execution_count": 214,
     "metadata": {},
     "output_type": "execute_result"
    }
   ],
   "source": [
    "#decision tree model\n",
    "T = tree.DecisionTreeClassifier(max_depth = best_depth)\n",
    "T.fit(X_train, y_train)\n",
    "T.score(X_test, y_test)"
   ]
  },
  {
   "cell_type": "code",
   "execution_count": 217,
   "metadata": {},
   "outputs": [
    {
     "data": {
      "text/plain": [
       "0.9737154150197629"
      ]
     },
     "execution_count": 217,
     "metadata": {},
     "output_type": "execute_result"
    },
    {
     "data": {
      "image/png": "[encoded data removed]",
      "text/plain": [
       "<Figure size 720x504 with 1 Axes>"
      ]
     },
     "metadata": {
      "needs_background": "light"
     },
     "output_type": "display_data"
    }
   ],
   "source": [
    "best_comp, best_score = best_complex()\n",
    "best_score"
   ]
  },
  {
   "cell_type": "code",
   "execution_count": 218,
   "metadata": {},
   "outputs": [
    {
     "data": {
      "text/plain": [
       "0.9897959183673469"
      ]
     },
     "execution_count": 218,
     "metadata": {},
     "output_type": "execute_result"
    }
   ],
   "source": [
    "#training lr model\n",
    "lr = LogisticRegression(max_iter = 1000, C = best_comp)\n",
    "lr.fit(X_train, y_train)\n",
    "lr.score(X_test, y_test)"
   ]
  },
  {
   "cell_type": "code",
   "execution_count": 220,
   "metadata": {},
   "outputs": [
    {
     "data": {
      "image/png": "[encoded data removed]",
      "text/plain": [
       "<Figure size 432x288 with 1 Axes>"
      ]
     },
     "metadata": {
      "needs_background": "light"
     },
     "output_type": "display_data"
    }
   ],
   "source": [
    "mlp_best_score, mlp_best_depth = mlp_depth()"
   ]
  },
  {
   "cell_type": "code",
   "execution_count": 221,
   "metadata": {},
   "outputs": [
    {
     "data": {
      "text/plain": [
       "0.9693877551020408"
      ]
     },
     "execution_count": 221,
     "metadata": {},
     "output_type": "execute_result"
    }
   ],
   "source": [
    "# Train an MLPClassifier at best complexity, and evaluate the model on the test set\n",
    "clf = MLPClassifier(hidden_layer_sizes=(18, 18, 18), max_iter=3000).fit(X_train, y_train)\n",
    "clf.score(X_test, y_test)"
   ]
  },
  {
   "cell_type": "markdown",
   "metadata": {},
   "source": [
    "Lauren's way"
   ]
  },
  {
   "cell_type": "code",
   "execution_count": 228,
   "metadata": {},
   "outputs": [
    {
     "name": "stdout",
     "output_type": "stream",
     "text": [
      "Stage nan\n",
      "Flipper Length (mm) 365.1069077264567\n",
      "Culmen Length (mm) 281.2614644972567\n",
      "Culmen Depth (mm) 233.86469890724268\n",
      "Body Mass (g) 214.08580404981282\n"
     ]
    },
    {
     "name": "stderr",
     "output_type": "stream",
     "text": [
      "/opt/anaconda3/lib/python3.8/site-packages/sklearn/feature_selection/_univariate_selection.py:114: UserWarning: Features [1] are constant.\n",
      "  warnings.warn(\"Features %s are constant.\" % constant_features_idx,\n",
      "/opt/anaconda3/lib/python3.8/site-packages/sklearn/feature_selection/_univariate_selection.py:116: RuntimeWarning: invalid value encountered in true_divide\n",
      "  f = msb / msw\n"
     ]
    }
   ],
   "source": [
    "threshold = 5 # the number of most relevant features\n",
    "high_score_features = []\n",
    "feature_scores = f_classif(x_train, y_train)[0]\n",
    "for score, f_name in sorted(zip(feature_scores, x_train.columns), reverse=True)[:threshold]:\n",
    "      print(f_name, score)\n",
    "      high_score_features.append(f_name)"
   ]
  },
  {
   "cell_type": "code",
   "execution_count": 229,
   "metadata": {},
   "outputs": [],
   "source": [
    "X_train = train[['Culmen Length (mm)', 'Culmen Depth (mm)', 'Sex']]\n",
    "X_test = test[['Culmen Length (mm)', 'Culmen Depth (mm)', 'Sex']]"
   ]
  },
  {
   "cell_type": "code",
   "execution_count": 231,
   "metadata": {},
   "outputs": [
    {
     "name": "stdout",
     "output_type": "stream",
     "text": [
      "training score: 0.9733201581027668\n"
     ]
    },
    {
     "data": {
      "image/png": "[encoded data removed]",
      "text/plain": [
       "<Figure size 720x504 with 1 Axes>"
      ]
     },
     "metadata": {
      "needs_background": "light"
     },
     "output_type": "display_data"
    }
   ],
   "source": [
    "#tree\n",
    "best_depth, best_score = tree_best_depth()\n",
    "print(\"training score: \" + str(best_score))\n",
    "\n",
    "#decision tree model\n",
    "T = tree.DecisionTreeClassifier(max_depth = best_depth)\n",
    "T.fit(X_train, y_train)\n",
    "tree_score = T.score(X_test, y_test)"
   ]
  },
  {
   "cell_type": "code",
   "execution_count": 232,
   "metadata": {},
   "outputs": [
    {
     "data": {
      "text/plain": [
       "0.9897959183673469"
      ]
     },
     "execution_count": 232,
     "metadata": {},
     "output_type": "execute_result"
    }
   ],
   "source": [
    "tree_score"
   ]
  },
  {
   "cell_type": "code",
   "execution_count": 233,
   "metadata": {},
   "outputs": [
    {
     "name": "stdout",
     "output_type": "stream",
     "text": [
      "training score: 0.9733201581027668\n"
     ]
    },
    {
     "data": {
      "image/png": "[encoded data removed]",
      "text/plain": [
       "<Figure size 720x504 with 1 Axes>"
      ]
     },
     "metadata": {
      "needs_background": "light"
     },
     "output_type": "display_data"
    }
   ],
   "source": [
    "best_comp, best_score = best_complex()\n",
    "print(\"training score: \" + str(best_score))\n",
    "\n",
    "#training lr model\n",
    "lr = LogisticRegression(max_iter = 1000, C = best_comp)\n",
    "lr.fit(X_train, y_train)\n",
    "lr_score = lr.score(X_test, y_test)"
   ]
  },
  {
   "cell_type": "code",
   "execution_count": 234,
   "metadata": {},
   "outputs": [
    {
     "data": {
      "text/plain": [
       "0.9897959183673469"
      ]
     },
     "execution_count": 234,
     "metadata": {},
     "output_type": "execute_result"
    }
   ],
   "source": [
    "lr_score"
   ]
  },
  {
   "cell_type": "code",
   "execution_count": 235,
   "metadata": {},
   "outputs": [
    {
     "name": "stdout",
     "output_type": "stream",
     "text": [
      "training score: 18\n"
     ]
    },
    {
     "data": {
      "image/png": "[encoded data removed]",
      "text/plain": [
       "<Figure size 432x288 with 1 Axes>"
      ]
     },
     "metadata": {
      "needs_background": "light"
     },
     "output_type": "display_data"
    }
   ],
   "source": [
    "mlp_best_score, mlp_best_depth = mlp_depth()\n",
    "print(\"training score: \" + str(mlp_best_score))\n",
    "\n",
    "clf = MLPClassifier(hidden_layer_sizes=(18, 18, 18), max_iter=3000).fit(X_train, y_train)\n",
    "mlp_score = clf.score(X_test, y_test)"
   ]
  },
  {
   "cell_type": "code",
   "execution_count": 236,
   "metadata": {},
   "outputs": [
    {
     "data": {
      "text/plain": [
       "0.9387755102040817"
      ]
     },
     "execution_count": 236,
     "metadata": {},
     "output_type": "execute_result"
    }
   ],
   "source": [
    "mlp_score"
   ]
  },
  {
   "cell_type": "code",
   "execution_count": 249,
   "metadata": {},
   "outputs": [
    {
     "name": "stderr",
     "output_type": "stream",
     "text": [
      "No handles with labels found to put in legend.\n",
      "No handles with labels found to put in legend.\n"
     ]
    },
    {
     "data": {
      "text/plain": [
       "Text(0.5, 1.0, 'Female Penguins')"
      ]
     },
     "execution_count": 249,
     "metadata": {},
     "output_type": "execute_result"
    },
    {
     "data": {
      "image/png": "[encoded data removed]",
      "text/plain": [
       "<Figure size 432x288 with 1 Axes>"
      ]
     },
     "metadata": {
      "needs_background": "light"
     },
     "output_type": "display_data"
    },
    {
     "data": {
      "image/png": "[encoded data removed]",
      "text/plain": [
       "<Figure size 432x288 with 1 Axes>"
      ]
     },
     "metadata": {
      "needs_background": "light"
     },
     "output_type": "display_data"
    }
   ],
   "source": [
    "def plot_regions(c, X, y):\n",
    "    '''\n",
    "    function used to plot regions \n",
    "    borrowed from the live lecture's code\n",
    "    '''\n",
    "        \n",
    "    # for convenience, give names to the two \n",
    "    # columns of the data\n",
    "    x0 = X['Culmen Length (mm)']\n",
    "    x1 = X['Culmen Depth (mm)']\n",
    "    \n",
    "    # create a grid\n",
    "    grid_x = np.linspace(x0.min(),x0.max(),501)\n",
    "    grid_y = np.linspace(x1.min(),x1.max(),501)\n",
    "    xx, yy = np.meshgrid(grid_x, grid_y)\n",
    "    \n",
    "    # extract model predictions, using the \n",
    "    # np.c_ attribute to join together the \n",
    "    # two parts of the grid. \n",
    "    # array.ravel() converts an multidimensional\n",
    "    # array into a 1d array, and we use array.reshape()\n",
    "    # to turn the resulting predictions p \n",
    "    # back into 2d\n",
    "    \n",
    "    XX = xx.ravel()\n",
    "    YY = yy.ravel()\n",
    "    \n",
    "    XY = np.c_[XX, YY]\n",
    "\n",
    "    p = c.predict(XY)\n",
    "    p = p.reshape(xx.shape)\n",
    "    \n",
    "    # create the plot\n",
    "    fig, ax = plt.subplots(1)\n",
    "    \n",
    "    # use contour plot to visualize the predictions\n",
    "    ax.contourf(xx, yy, p, cmap = \"jet\", alpha = 0.2, vmin = 0, vmax = 2)\n",
    "    \n",
    "    # plot the data\n",
    "    ax.scatter(x0, x1, c = y, cmap = \"jet\", vmin = 0, vmax = 2)\n",
    "    \n",
    "    ax.set(xlabel = \"Culmen Length (mm)\", \n",
    "           ylabel = \"Culmen Depth (mm)\")\n",
    "\n",
    "\n",
    "    \n",
    "# Fit the model with dropped Sex column, so that it can have 2 columns for plot regions\n",
    "\n",
    "clf.fit(X_train.drop(['Sex'], axis=1), y_train)\n",
    "\n",
    "# Separate the males and females, drop the sex column, predict the y's and plot\n",
    "X_male = X_train.loc[X_train['Sex'] == 1]\n",
    "X_male = X_male.drop(['Sex'], axis=1)\n",
    "y_male = clf.predict(X_male)\n",
    "\n",
    "X_female = X_train.loc[X_train['Sex'] == 0]\n",
    "X_female = X_female.drop(['Sex'], axis=1)\n",
    "y_female = clf.predict(X_female)\n",
    "\n",
    "plot_regions(clf, X_male, y_male) \n",
    "plt.title(\"Male Penguins\")\n",
    "\n",
    "plot_regions(clf, X_female, y_female)\n",
    "plt.title(\"Female Penguins\")\n",
    "\n"
   ]
  },
  {
   "cell_type": "code",
   "execution_count": null,
   "metadata": {},
   "outputs": [],
   "source": []
  }
 ],
 "metadata": {
  "kernelspec": {
   "display_name": "Python 3",
   "language": "python",
   "name": "python3"
  },
  "language_info": {
   "codemirror_mode": {
    "name": "ipython",
    "version": 3
   },
   "file_extension": ".py",
   "mimetype": "text/x-python",
   "name": "python",
   "nbconvert_exporter": "python",
   "pygments_lexer": "ipython3",
   "version": "3.8.5"
  }
 },
 "nbformat": 4,
 "nbformat_minor": 4
}
