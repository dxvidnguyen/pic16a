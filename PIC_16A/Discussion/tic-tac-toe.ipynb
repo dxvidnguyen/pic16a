{
 "cells": [
  {
   "cell_type": "markdown",
   "metadata": {},
   "source": [
    "# Basic Tic-Tac-Toe\n",
    "\n",
    "### Group Members and Roles\n",
    "\n",
    "- Group Member 1 (Role)\n",
    "- Group Member 2 (Role)\n",
    "- Group Member 3 (Role)\n",
    "\n",
    "### Intro\n",
    "\n",
    "In this activity, we'll work in groups to write a very simple version of the game [Tic-Tac-Toe](https://en.wikipedia.org/wiki/Tic-tac-toe). As you may know, Tic-Tac-Toe is a two-player game. \n",
    "\n",
    "- The game starts with an empty 3x3 grid: \n",
    "\n",
    "``` \n",
    ". . .\n",
    ". . .\n",
    ". . .\n",
    "```\n",
    "- Player 1 places an X in one of the 9 grid squares. \n",
    "- Player 2 places an O in one of the remaining 8 grid squares.\n",
    "- The players alternate until no grid squares remain. \n",
    "- A player wins if any row, column, or diagonal contains 3 copies of their symbol; if no player wins, the game ends in a draw. Here is an example of a game in which the O player has won (on the diagonal) after the 6th turn. \n",
    "\n",
    "```\n",
    "O X . \n",
    "X O .\n",
    "X . O\n",
    "```\n",
    "\n",
    "In this activity, we won't worry about evaluating which player has won -- instead, we'll focus on writing code that will allow players to place their symbols and visualize the grid. \n",
    "\n",
    "This activity will ask you to write a single, large chunk of code, which may appear somewhat disorganized. In future lectures, we'll discuss *functions*, which offer convenient ways to break large operations into simpler operations that are easier to manage. "
   ]
  },
  {
   "cell_type": "markdown",
   "metadata": {},
   "source": [
    "As often in programming, we'll start from the end and work our way back toward the beginning. In Parts (A)-(C), I will give you the code block, and your task is to describe in words what it does. Note: the operation of several of these code blocks may appear somewhat cryptic in isolation -- just interpret what you see. \n",
    "\n",
    "**Note**: you are free to run the code! But you'll need to reason about the structure of the code, in addition to observing the output, in order to understand what is going on. \n",
    "\n",
    "## § Part (A)"
   ]
  },
  {
   "cell_type": "code",
   "execution_count": null,
   "metadata": {},
   "outputs": [],
   "source": [
    "while True: \n",
    "    current_move = input(\"Player, please enter your move:\")\n",
    "    if current_move == \"I win!\":\n",
    "        print(\"good job\")\n",
    "        break"
   ]
  },
  {
   "cell_type": "markdown",
   "metadata": {},
   "source": [
    "## Solution\n",
    "\n",
    "\\[Your explanation of the code here\\]\n"
   ]
  },
  {
   "cell_type": "markdown",
   "metadata": {},
   "source": [
    "## § Part (B)"
   ]
  },
  {
   "cell_type": "code",
   "execution_count": 2,
   "metadata": {},
   "outputs": [
    {
     "data": {
      "text/plain": [
       "[['.', '.', '.'], ['.', '.', '.'], ['.', '.', '.']]"
      ]
     },
     "execution_count": 2,
     "metadata": {},
     "output_type": "execute_result"
    }
   ],
   "source": [
    "n = 3\n",
    "grid = [[\".\" for i in range(n)] for j in range(n)]\n",
    "grid"
   ]
  },
  {
   "cell_type": "markdown",
   "metadata": {},
   "source": [
    "## Solution\n",
    "\n",
    "\\[Your explanation of the code here\\]\n"
   ]
  },
  {
   "cell_type": "markdown",
   "metadata": {},
   "source": [
    "## § Part (C)\n",
    "\n",
    "For this code to run, you'll need to run the code in Part (B) if you haven't done so already. \n",
    "\n",
    "*Hint: By default, `print(a)` will add a newline (`\\n`) after printing `a`. You can modify this behavior (to print rows) by using `print(a, end = \" \")`.*"
   ]
  },
  {
   "cell_type": "code",
   "execution_count": 3,
   "metadata": {},
   "outputs": [
    {
     "name": "stdout",
     "output_type": "stream",
     "text": [
      ". . . \n",
      "\n",
      ". . . \n",
      "\n",
      ". . . \n",
      "\n"
     ]
    }
   ],
   "source": [
    "for i in range(n):\n",
    "    for j in range(n):\n",
    "        print(grid[i][j], end = \" \")\n",
    "    print(\"\\n\")"
   ]
  },
  {
   "cell_type": "markdown",
   "metadata": {},
   "source": [
    "## Solution\n",
    "\n",
    "\\[Your explanation of the code here\\]\n"
   ]
  },
  {
   "cell_type": "markdown",
   "metadata": {},
   "source": [
    "## § Part (D)\n",
    "\n",
    "Now we are going to ask you to start synthesizing and modifying the code shown in parts **(A)--(C)** to produce a functioning Tic-Tac-Toe game. \n",
    "\n",
    "Use your understanding of the code shown in parts **(A)--(C)** to create a block of code which will: \n",
    "\n",
    "- Initialize the empty `grid` as in **(B)**. \n",
    "- Prompt the user until the user says \"I win!\", as in **(A)**. \n",
    "    - If the user gives any other input, print the grid, as in **(C)**. \n",
    "\n",
    "***Hint***: use `if-else` to check whether to terminate the loop or print the grid. <br>\n",
    "***Hint***: you may find it useful to modify the code from **(B)** so that another symbol (like `\".\"`) is printed instead of `\" \"`. \n",
    "\n",
    "You will not need to write much code (after you copy-paste from **(A)--(C)**).\n",
    "\n",
    "At this stage, it is not necessary to request or use any other input from the user. "
   ]
  },
  {
   "cell_type": "code",
   "execution_count": null,
   "metadata": {},
   "outputs": [],
   "source": [
    "# your solution here\n",
    "\n",
    "## first, initialize the empty grid using the code from (b)\n",
    "n = 3\n",
    "grid = [[\".\" for i in range(n)] for j in range(n)]\n",
    "\n",
    "\n",
    "\n",
    "## then, until the user types \"I win!\":\n",
    "### prompt the user for input\n",
    "while True: \n",
    "    current_move = input(\"Player, please enter your move:\")\n",
    "    if current_move == \"I win!\":\n",
    "        print(\"good job\")\n",
    "        break\n",
    "### if the input is \"I win!\", exit the loop\n",
    "### otherwise, print the grid using the code from (c)\n",
    "\n",
    "    for i in range(n):\n",
    "        for j in range(n):\n",
    "            print(grid[i][j], end = \" \")\n",
    "        print(\"\\n\")\n",
    "\n"
   ]
  },
  {
   "cell_type": "markdown",
   "metadata": {},
   "source": [
    "## § Part (E)\n",
    "\n",
    "Next, study the following code block. What does it do? "
   ]
  },
  {
   "cell_type": "code",
   "execution_count": null,
   "metadata": {},
   "outputs": [],
   "source": [
    "turn = 0\n",
    "while turn < 10:\n",
    "    if turn % 2 == 0:\n",
    "        player = \"X\"\n",
    "    else:\n",
    "        player = \"O\"\n",
    "\n",
    "    current_move = input(\"Player \" + player + \", please enter your move:\")\n",
    "    turn += 1"
   ]
  },
  {
   "cell_type": "markdown",
   "metadata": {},
   "source": [
    "Once you feel comfortable with the above, copy your code from **(D)** into the code block below, and begin to modify it using the ideas illustrated immediately above. \n",
    "\n",
    "Your new code should include a `turn` variable which keeps track of whose turn it is. Additionally, your code should prompt each player (\"Player X\" and \"Player O\") on the appropriate turns. \n",
    "\n",
    "The code block above has most of the required pieces -- you just need to slot them in. "
   ]
  },
  {
   "cell_type": "code",
   "execution_count": 7,
   "metadata": {},
   "outputs": [
    {
     "ename": "KeyboardInterrupt",
     "evalue": "Interrupted by user",
     "output_type": "error",
     "traceback": [
      "\u001b[0;31m---------------------------------------------------------------------------\u001b[0m",
      "\u001b[0;31mKeyboardInterrupt\u001b[0m                         Traceback (most recent call last)",
      "\u001b[0;32m<ipython-input-7-415de099b809>\u001b[0m in \u001b[0;36m<module>\u001b[0;34m\u001b[0m\n\u001b[1;32m      3\u001b[0m \u001b[0;34m\u001b[0m\u001b[0m\n\u001b[1;32m      4\u001b[0m \u001b[0;32mwhile\u001b[0m \u001b[0;32mTrue\u001b[0m\u001b[0;34m:\u001b[0m\u001b[0;34m\u001b[0m\u001b[0;34m\u001b[0m\u001b[0m\n\u001b[0;32m----> 5\u001b[0;31m     \u001b[0mcurrent_move\u001b[0m \u001b[0;34m=\u001b[0m \u001b[0minput\u001b[0m\u001b[0;34m(\u001b[0m\u001b[0;34m\"Player, please enter your move:\"\u001b[0m\u001b[0;34m)\u001b[0m\u001b[0;34m\u001b[0m\u001b[0;34m\u001b[0m\u001b[0m\n\u001b[0m\u001b[1;32m      6\u001b[0m     \u001b[0;32mif\u001b[0m \u001b[0mcurrent_move\u001b[0m \u001b[0;34m==\u001b[0m \u001b[0;34m\"I win!\"\u001b[0m\u001b[0;34m:\u001b[0m\u001b[0;34m\u001b[0m\u001b[0;34m\u001b[0m\u001b[0m\n\u001b[1;32m      7\u001b[0m         \u001b[0mprint\u001b[0m\u001b[0;34m(\u001b[0m\u001b[0;34m\"good job\"\u001b[0m\u001b[0;34m)\u001b[0m\u001b[0;34m\u001b[0m\u001b[0;34m\u001b[0m\u001b[0m\n",
      "\u001b[0;32m/opt/anaconda3/lib/python3.8/site-packages/ipykernel/kernelbase.py\u001b[0m in \u001b[0;36mraw_input\u001b[0;34m(self, prompt)\u001b[0m\n\u001b[1;32m    858\u001b[0m                 \u001b[0;34m\"raw_input was called, but this frontend does not support input requests.\"\u001b[0m\u001b[0;34m\u001b[0m\u001b[0;34m\u001b[0m\u001b[0m\n\u001b[1;32m    859\u001b[0m             )\n\u001b[0;32m--> 860\u001b[0;31m         return self._input_request(str(prompt),\n\u001b[0m\u001b[1;32m    861\u001b[0m             \u001b[0mself\u001b[0m\u001b[0;34m.\u001b[0m\u001b[0m_parent_ident\u001b[0m\u001b[0;34m,\u001b[0m\u001b[0;34m\u001b[0m\u001b[0;34m\u001b[0m\u001b[0m\n\u001b[1;32m    862\u001b[0m             \u001b[0mself\u001b[0m\u001b[0;34m.\u001b[0m\u001b[0m_parent_header\u001b[0m\u001b[0;34m,\u001b[0m\u001b[0;34m\u001b[0m\u001b[0;34m\u001b[0m\u001b[0m\n",
      "\u001b[0;32m/opt/anaconda3/lib/python3.8/site-packages/ipykernel/kernelbase.py\u001b[0m in \u001b[0;36m_input_request\u001b[0;34m(self, prompt, ident, parent, password)\u001b[0m\n\u001b[1;32m    902\u001b[0m             \u001b[0;32mexcept\u001b[0m \u001b[0mKeyboardInterrupt\u001b[0m\u001b[0;34m:\u001b[0m\u001b[0;34m\u001b[0m\u001b[0;34m\u001b[0m\u001b[0m\n\u001b[1;32m    903\u001b[0m                 \u001b[0;31m# re-raise KeyboardInterrupt, to truncate traceback\u001b[0m\u001b[0;34m\u001b[0m\u001b[0;34m\u001b[0m\u001b[0;34m\u001b[0m\u001b[0m\n\u001b[0;32m--> 904\u001b[0;31m                 \u001b[0;32mraise\u001b[0m \u001b[0mKeyboardInterrupt\u001b[0m\u001b[0;34m(\u001b[0m\u001b[0;34m\"Interrupted by user\"\u001b[0m\u001b[0;34m)\u001b[0m \u001b[0;32mfrom\u001b[0m \u001b[0;32mNone\u001b[0m\u001b[0;34m\u001b[0m\u001b[0;34m\u001b[0m\u001b[0m\n\u001b[0m\u001b[1;32m    905\u001b[0m             \u001b[0;32mexcept\u001b[0m \u001b[0mException\u001b[0m \u001b[0;32mas\u001b[0m \u001b[0me\u001b[0m\u001b[0;34m:\u001b[0m\u001b[0;34m\u001b[0m\u001b[0;34m\u001b[0m\u001b[0m\n\u001b[1;32m    906\u001b[0m                 \u001b[0mself\u001b[0m\u001b[0;34m.\u001b[0m\u001b[0mlog\u001b[0m\u001b[0;34m.\u001b[0m\u001b[0mwarning\u001b[0m\u001b[0;34m(\u001b[0m\u001b[0;34m\"Invalid Message:\"\u001b[0m\u001b[0;34m,\u001b[0m \u001b[0mexc_info\u001b[0m\u001b[0;34m=\u001b[0m\u001b[0;32mTrue\u001b[0m\u001b[0;34m)\u001b[0m\u001b[0;34m\u001b[0m\u001b[0;34m\u001b[0m\u001b[0m\n",
      "\u001b[0;31mKeyboardInterrupt\u001b[0m: Interrupted by user"
     ]
    }
   ],
   "source": [
    "\n",
    "n = 3\n",
    "grid = [[\".\" for i in range(n)] for j in range(n)]\n",
    "\n",
    "while True: \n",
    "    current_move = input(\"Player, please enter your move:\")\n",
    "    if current_move == \"I win!\":\n",
    "        print(\"good job\")\n",
    "        break\n",
    "\n",
    "    for i in range(n):\n",
    "        for j in range(n):\n",
    "            print(grid[i][j], end = \" \")\n",
    "        print(\"\\n\")"
   ]
  },
  {
   "cell_type": "markdown",
   "metadata": {},
   "source": [
    "## § Part (F)\n",
    "\n",
    "Now, allow both players to make moves. If Player X enters two integers separated by a space, then place an \"X\" in the corresponding grid position. You may assume that both players will always input either \"I win!\" or two nonnegative integers no larger than `n-1`. For now, you may assume that the players will not attempt to make a move on a square that is already occupied. \n",
    "\n",
    "***Hint***: the following block illustrates how to get two integer coordinates from the user input. \n",
    "\n",
    "```python\n",
    "current_move = \"1 1\"\n",
    "coords = current_move.split()\n",
    "```"
   ]
  },
  {
   "cell_type": "code",
   "execution_count": 11,
   "metadata": {},
   "outputs": [
    {
     "name": "stdout",
     "output_type": "stream",
     "text": [
      "['1', '1']\n"
     ]
    },
    {
     "data": {
      "text/plain": [
       "1"
      ]
     },
     "execution_count": 11,
     "metadata": {},
     "output_type": "execute_result"
    }
   ],
   "source": [
    "# your solution here\n",
    "\n",
    "current_move = \"1 1\"\n",
    "coords = current_move.split()\n",
    "print(coords)\n",
    "coords[1]\n",
    "int(coords[1])"
   ]
  },
  {
   "cell_type": "markdown",
   "metadata": {},
   "source": [
    "## § Part (G)\n",
    "\n",
    "Now modify your code so that, if the player attempts to make a move in a space that is already occupied, then ask the player for a different move. \n",
    "\n",
    "***Hint***: `continue` will return immediately to the beginning of the `while`-loop, and may be useful for reprompting after invalid inputs."
   ]
  },
  {
   "cell_type": "code",
   "execution_count": 9,
   "metadata": {},
   "outputs": [
    {
     "ename": "TypeError",
     "evalue": "list indices must be integers or slices, not tuple",
     "output_type": "error",
     "traceback": [
      "\u001b[0;31m---------------------------------------------------------------------------\u001b[0m",
      "\u001b[0;31mTypeError\u001b[0m                                 Traceback (most recent call last)",
      "\u001b[0;32m<ipython-input-9-40a65d5c6900>\u001b[0m in \u001b[0;36m<module>\u001b[0;34m\u001b[0m\n\u001b[1;32m      1\u001b[0m \u001b[0;31m# your solution here\u001b[0m\u001b[0;34m\u001b[0m\u001b[0;34m\u001b[0m\u001b[0;34m\u001b[0m\u001b[0m\n\u001b[0;32m----> 2\u001b[0;31m \u001b[0mgrid\u001b[0m\u001b[0;34m[\u001b[0m\u001b[0mint\u001b[0m\u001b[0;34m(\u001b[0m\u001b[0mcoords\u001b[0m\u001b[0;34m[\u001b[0m\u001b[0;36m0\u001b[0m\u001b[0;34m]\u001b[0m\u001b[0;34m)\u001b[0m\u001b[0;34m,\u001b[0m \u001b[0mint\u001b[0m\u001b[0;34m(\u001b[0m\u001b[0mcoords\u001b[0m\u001b[0;34m[\u001b[0m\u001b[0;36m1\u001b[0m\u001b[0;34m]\u001b[0m\u001b[0;34m)\u001b[0m\u001b[0;34m]\u001b[0m\u001b[0;34m\u001b[0m\u001b[0;34m\u001b[0m\u001b[0m\n\u001b[0m",
      "\u001b[0;31mTypeError\u001b[0m: list indices must be integers or slices, not tuple"
     ]
    }
   ],
   "source": [
    "# your solution here\n",
    "grid[int(coords[0]), int(coords[1])]\n"
   ]
  },
  {
   "cell_type": "markdown",
   "metadata": {},
   "source": [
    "## § Part (H)\n",
    "\n",
    "Add comments to the important parts of your code and turn it in. Your comments should make clear which parts of your code are: \n",
    "\n",
    "- Initializing the grid. \n",
    "- Updating the grid. \n",
    "- Prompting the user. \n",
    "- Checking for the validity of moves. \n",
    "- Keeping track of turns. "
   ]
  },
  {
   "cell_type": "code",
   "execution_count": null,
   "metadata": {},
   "outputs": [],
   "source": [
    "# your solution here\n"
   ]
  },
  {
   "cell_type": "markdown",
   "metadata": {},
   "source": [
    "# Example Session\n",
    "\n",
    "Here is an example of the session output in a complete solution. In the final move, Player X types \"I win!\" instead of making their winning move at (2, 1). \n",
    "?\n",
    "```\n",
    "Player X, please enter your move: 1 1\n",
    "         \n",
    ". . .\n",
    ". X .    \n",
    ". . .\n",
    "         \n",
    "Player O, please enter your move: 0 0\n",
    "\n",
    "O . .       \n",
    ". X .     \n",
    ". . .\n",
    "         \n",
    "Player X, please enter your move: 0 1\n",
    "\n",
    "O X .     \n",
    ". X .\n",
    ". . .\n",
    "\n",
    "Player O, please enter your move: 2 0\n",
    "\n",
    "O X .     \n",
    ". X .\n",
    "0 . .\n",
    "\n",
    "Player X, please enter your move: I win!\n",
    "good job\n",
    "```"
   ]
  }
 ],
 "metadata": {
  "kernelspec": {
   "display_name": "Python 3",
   "language": "python",
   "name": "python3"
  },
  "language_info": {
   "codemirror_mode": {
    "name": "ipython",
    "version": 3
   },
   "file_extension": ".py",
   "mimetype": "text/x-python",
   "name": "python",
   "nbconvert_exporter": "python",
   "pygments_lexer": "ipython3",
   "version": "3.8.5"
  }
 },
 "nbformat": 4,
 "nbformat_minor": 4
}
