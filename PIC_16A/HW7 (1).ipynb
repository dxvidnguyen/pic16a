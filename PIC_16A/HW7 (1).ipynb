{
 "cells": [
  {
   "cell_type": "markdown",
   "metadata": {},
   "source": [
    "# Homework 7\n",
    "\n",
    "Unlike previous homework assignments, this homework is **completed as a group** and **submitted on CCLE.** In other words, it's similar to an extended Discussion Activity. \n",
    "\n",
    "> We affirm that we personally wrote the text, code, and comments in this homework assignment. \n",
    "\n",
    "> We received help from \\[\\] who gave me suggestions on \\[problem #\\].\n",
    "\n",
    "\\- \\[Lauren, Rashi, David\\] May 26, 2021"
   ]
  },
  {
   "cell_type": "markdown",
   "metadata": {},
   "source": [
    "## Problem 0\n",
    "\n",
    "It is highly recommended that you work with your group to fully complete the previous Discussion assignments related to the project this week, as all of these are directly helpful for your project submission. "
   ]
  },
  {
   "cell_type": "markdown",
   "metadata": {},
   "source": [
    "## Problem 1\n",
    "\n",
    "In your project, you are required to demonstrate the use of decision trees and multinomial logistic regression classifiers. Groups of three must also demonstrate the use of one additional model. In this homework assignment, you will write a detailed report that will largely fulfill this requirement. \n",
    "\n",
    "Choose one machine learning model, other than decision trees and multinomial logistic regression (unless you are a group of 2 -- see below). Some possibilities include, but are not limited to: \n",
    "\n",
    "- Support vector classifiers (`sklearn.svm.SVC`). Complexity parameter is called `gamma`. Higher values create more complex models)\n",
    "- K-nearest-neighbor classifiers (`sklearn.neighbors.KNeighborsClassifier`). Complexity parameter is called `n_neighbors`. Higher values create less complex models. When working with KNN models, it is helpful to standardize your data columns first. For this purpose, `sklearn.preprocessing.StandardScaler` can be used. \n",
    "- Multilayer perceptron classifier, a kind of neural network (`sklearn.neural_network.MLPClassifier`). The complexity is controlled by the number of neurons and layers, as specified by the `hidden_layer_sizes` parameter -- more neurons and layers correspond to more complex models. \n",
    "\n",
    "You should consult the documentation for these models, which is available online or via `?`. \n",
    "\n",
    "\n",
    "#### Groups of 2\n",
    "\n",
    "If you are a group of 2, you are not required to use an additional model and may instead use multinomial logistic regression for this assignment. Please note this in your submission. \n",
    "\n",
    "- Multinomial logistic regression (`sklearn.linear_model.LogisticRegression`). The complexity is controlled by `C`, the inverse regularization strength. Larger values of `C` correspond to more complex models. \n",
    "\n",
    "### Instructions\n",
    "\n",
    "Replicate and expand the pipeline from Discussion 15, substituting out decision trees for your chosen classifier. In particular, you should: \n",
    "\n",
    "1. **Load** the data. \n",
    "2. **Split the data** into training and test sets. \n",
    "3. Write one or more functions to **clean and transform the data** as needed. You should add comments and function docstrings as appropriate to describe to your reader what you are doing and why. Apply your functions to the training and test sets. \n",
    "4. **Select 3 columns (features)** from the data. You are required to use at least one qualitative feature (like Island or Sex). We saw one way of doing this \"by hand\" during a previous Live Lecture, but there are many other approaches as well. You may wish to delegate one group member to do some research on the topic of \"feature selection in Python with sklearn\". \n",
    "4. **Use cross-validation** to estimate optimal model complexity (*Note*: cross-validation is also an acceptable way to perform feature selection -- you may use it above, but you are required to use it here). \n",
    "5. Having selected your features and an optimal complexity, **evaluate your model on the test set.** \n",
    "6. **Inspect** a few instances in which your trained model gave the wrong answer on the test set. Explain why your model was \"tricked\" in this case? Create and comment on a confusion matrix -- [check Monday's lecture notes](https://nbviewer.jupyter.org/github/PhilChodrow/PIC16A/blob/master/content/ML/digits.ipynb) for an example. \n",
    "7. **Plot the decision regions** for your model. These are covered in a recent live lecture, and code required to construct them is below. The horizontal and vertical axes should be the two quantitative predictor variables that you selected. Create a separate plot for each possible value of the qualitative predictor variable that you selected. For example, if you chose `Sex` as your qualitative variable, you should show two plots, with the decision regions for Female and Male penguins separately. Add appropriate axis labels and any other measures required to make your plots look professional. Add commentary to contextualize the mistakes that your model made. \n",
    "    - You are welcome to use the [code from live lecture](https://nbviewer.jupyter.org/github/PhilChodrow/PIC16A/blob/master/live_lectures/22-live-lecture.ipynb) for this purpose. A common pitfall when using code for manual decision regions is re-training a model (using `model.fit()`) once for each plot. You should ensure that your model is only trained once, and that its predictions are then extracted for each plot. \n",
    "\n",
    "Throughout, add helpful explanation for your reader. For example, you should explain the idea behind cross-validation; anything you are able to learn about how your model works; how to interpret the optimal complexity parameter; and why your model went wrong in certain cases.  \n",
    "\n",
    "### Additional Specifications\n",
    "\n",
    "This homework will be graded by me personally, and will be graded using a rubric very similar to that used for the final project. I'll also give you some feedback indicating how you can improve. To get the most benefit out of this feedback, you should **treat this homework as a rehearsal for the full project.** \n",
    "\n",
    "Your solution should **not** fit in a single code cell -- a good, readable, and adequately-explained solution will likely require at least one code cell for each of the eight steps above. Make sure that there is plenty of surrounding text explanation and comments. Add code cells and plenty of markdown cells as needed. You can also use section headers with `###` to organize your work. \n",
    "\n",
    "Your comments and explanation should be written to an imaginary reader who has never encountered the Palmer Penguins data set before, and knows less about machine learning than you do. Explain your steps. Why train-test split? Why cross-validation? Why decision regions? And so on. If you'd like, imagine that you are writing to a time-traveller version of you from two weeks ago. \n",
    "\n",
    "It is not necessary to submit the HW on a copy of this notebook -- you may create and submit a fresh notebook if you wold like. Regardless, \n",
    "\n",
    "#### You are required to include a Group Contributions Statement on this HW. \n",
    "\n",
    "## Your Solution"
   ]
  },
  {
   "cell_type": "code",
   "execution_count": 2,
   "metadata": {},
   "outputs": [],
   "source": [
    "# Imports\n",
    "\n",
    "import pandas as pd\n",
    "from matplotlib import pyplot as plt\n",
    "from sklearn import tree, preprocessing\n",
    "import numpy as np\n",
    "from itertools import combinations, product\n",
    "from sklearn.model_selection import train_test_split\n",
    "from sklearn.model_selection import cross_val_score\n",
    "from sklearn.neural_network import MLPClassifier"
   ]
  },
  {
   "cell_type": "code",
   "execution_count": 3,
   "metadata": {},
   "outputs": [],
   "source": [
    "def clean_data(penguins):\n",
    "    # Dropping unneeded columns and rows\n",
    "    penguins = penguins.drop(['studyName', 'Sample Number', 'Stage', 'Individual ID', 'Clutch Completion', 'Date Egg', 'Comments', 'Region'], axis = 1)\n",
    "    penguins = penguins.dropna()\n",
    "\n",
    "    # Recoding and cleaning Sex column\n",
    "    recode1 = {\"MALE\"  : 0, \"FEMALE\" : 1, \".\" : 2}\n",
    "    penguins[\"Sex\"] = penguins[\"Sex\"].map(recode1)\n",
    "    penguins = penguins[penguins['Sex'] != 2]\n",
    "\n",
    "    # Recoding Island column\n",
    "    recode2 = {'Biscoe'  : 0, 'Dream' : 1, 'Torgersen'  : 3}\n",
    "    penguins[\"Island\"] = penguins[\"Island\"].map(recode2)\n",
    "    \n",
    "    return penguins\n"
   ]
  },
  {
   "cell_type": "code",
   "execution_count": 4,
   "metadata": {},
   "outputs": [],
   "source": [
    "url = \"https://philchodrow.github.io/PIC16A/datasets/palmer_penguins.csv\"\n",
    "penguins = pd.read_csv(url)\n",
    "\n",
    "penguins = clean_data(penguins)\n",
    "\n",
    "train, test = train_test_split(penguins, test_size = 0.3)\n",
    "train.shape, test.shape\n",
    "\n",
    "x_train = train.drop(['Species'], axis = 1)\n",
    "y_train = train['Species'].values\n",
    "\n",
    "x_test = test.drop(['Species'], axis = 1)\n",
    "y_test = test['Species'].values"
   ]
  },
  {
   "cell_type": "markdown",
   "metadata": {},
   "source": [
    "### Feature selection\n",
    "\n",
    "Note: a decision tree will be used to feature select. "
   ]
  },
  {
   "cell_type": "code",
   "execution_count": 5,
   "metadata": {},
   "outputs": [],
   "source": [
    "# Note: decision trees will be used to \n",
    "\n",
    "def check_column_score(cols):\n",
    "    \"\"\"\n",
    "    Trains and evaluates a model via cross-validation on the columns of the data\n",
    "    with selected indices\n",
    "    \"\"\"\n",
    "    T = tree.DecisionTreeClassifier(max_depth = 5)\n",
    "    return cross_val_score(T, x_train[cols], y_train, cv = 5).mean()  \n",
    "\n",
    "\n",
    "def test_column_score(tupCol):\n",
    "    \"\"\"\n",
    "    Trains and evaluates a model on the test set using the columns of the data\n",
    "    with selected indices\n",
    "    \"\"\"\n",
    "    cols = list(tupCol)\n",
    "    T = tree.DecisionTreeClassifier(max_depth = 5)\n",
    "    T.fit(x_train[cols], y_train)\n",
    "    return T.score(x_test[cols], y_test)"
   ]
  },
  {
   "cell_type": "code",
   "execution_count": 7,
   "metadata": {},
   "outputs": [
    {
     "name": "stdout",
     "output_type": "stream",
     "text": [
      "---- 25\n",
      "('Culmen Length (mm)', 'Culmen Depth (mm)', 'Delta 13 C (o/oo)'), Score: 0.97807\n",
      "Test score is: 0.95918\n",
      "---- 4\n",
      "('Island', 'Culmen Length (mm)', 'Delta 15 N (o/oo)'), Score: 0.97787\n",
      "Test score is: 0.95918\n",
      "---- 31\n",
      "('Culmen Length (mm)', 'Body Mass (g)', 'Delta 15 N (o/oo)'), Score: 0.96899\n",
      "Test score is: 0.93878\n",
      "---- 22\n",
      "('Culmen Length (mm)', 'Culmen Depth (mm)', 'Body Mass (g)'), Score: 0.96473\n",
      "Test score is: 0.97959\n",
      "---- 0\n",
      "('Island', 'Culmen Length (mm)', 'Culmen Depth (mm)'), Score: 0.96454\n",
      "Test score is: 1.0\n",
      "---- 23\n",
      "('Culmen Length (mm)', 'Culmen Depth (mm)', 'Sex'), Score: 0.96039\n",
      "Test score is: 0.9898\n",
      "---- 30\n",
      "('Culmen Length (mm)', 'Body Mass (g)', 'Sex'), Score: 0.96039\n",
      "Test score is: 0.92857\n",
      "---- 3\n",
      "('Island', 'Culmen Length (mm)', 'Sex'), Score: 0.96019\n",
      "Test score is: 0.96939\n",
      "---- 24\n",
      "('Culmen Length (mm)', 'Culmen Depth (mm)', 'Delta 15 N (o/oo)'), Score: 0.96019\n",
      "Test score is: 0.96939\n",
      "---- 21\n",
      "('Culmen Length (mm)', 'Culmen Depth (mm)', 'Flipper Length (mm)'), Score: 0.95585\n",
      "Test score is: 0.9898\n"
     ]
    }
   ],
   "source": [
    "# Feature selection\n",
    "\n",
    "names = list(penguins.columns)[1:9]\n",
    "combos = list(combinations(names, 3))\n",
    "\n",
    "D = {}\n",
    "for i in range(len(combos)): \n",
    "    cols = list(combos[i])\n",
    "    x = check_column_score(cols)\n",
    "    D[i] = x\n",
    "    \n",
    "L = list(D.items())\n",
    "L.sort(key = lambda tup: tup[1], reverse = True)\n",
    "\n",
    "best = L[0:10]\n",
    "\n",
    "for where, score in best:\n",
    "    print(\"---- \" + str(where))\n",
    "    print(str(combos[where]) + \", Score: \" + str(np.round(score, 5)))\n",
    "    test_score = test_column_score(combos[where])\n",
    "    print(\"Test score is: \" + str(np.round(test_score, 5)))"
   ]
  },
  {
   "cell_type": "markdown",
   "metadata": {},
   "source": [
    "The above code shows us the best coombinations of variables that includes both the cross evaluation score from the training data and the score from the test data. Taking both of these scores into account, along with the fact that we want one of my three prediction variables to be categorical, we select Island, Culmen Length, and Culmen Depth to be the three prediction variables of our model."
   ]
  },
  {
   "cell_type": "markdown",
   "metadata": {},
   "source": [
    "### Hidden Layer Size Selection"
   ]
  },
  {
   "cell_type": "code",
   "execution_count": 8,
   "metadata": {},
   "outputs": [
    {
     "data": {
      "image/png": "[encoded data removed]",
      "text/plain": [
       "<Figure size 432x288 with 1 Axes>"
      ]
     },
     "metadata": {
      "needs_background": "light"
     },
     "output_type": "display_data"
    }
   ],
   "source": [
    "from statistics import mean\n",
    "\n",
    "X_train = train[list(combos[0])]\n",
    "X_test = test[list(combos[0])]\n",
    "\n",
    "\n",
    "fig, ax = plt.subplots(1)\n",
    "\n",
    "sizes = [50, 100, 250]\n",
    "best_score = 0\n",
    "\n",
    "for c1, c2, c3 in product(sizes, repeat =  3):\n",
    "    \n",
    "    clf = MLPClassifier(hidden_layer_sizes=(c1, c2, c3), max_iter=1000)\n",
    "    cv_score = cross_val_score(clf, X_train, y_train, cv=10).mean()\n",
    "    ax.scatter(mean([c1, c2, c3]), cv_score, color = \"black\")\n",
    "    \n",
    "    if cv_score > best_score:\n",
    "        best_depth = (c1, c2, c3)\n",
    "        best_score = cv_score\n",
    "        \n",
    "        \n",
    "l = ax.set(title = \"Best Size Combo: \" + str(best_depth),\n",
    "xlabel = \"Size Combo Mean\",\n",
    "ylabel = \"CV Score\")\n",
    "    "
   ]
  },
  {
   "cell_type": "markdown",
   "metadata": {},
   "source": [
    "### The completed, trained model"
   ]
  },
  {
   "cell_type": "code",
   "execution_count": 9,
   "metadata": {},
   "outputs": [
    {
     "data": {
      "text/plain": [
       "0.9897959183673469"
      ]
     },
     "execution_count": 9,
     "metadata": {},
     "output_type": "execute_result"
    }
   ],
   "source": [
    "# Train an MLPClassifier at best complexity, and evaluate the model on the test set\n",
    "\n",
    "clf = MLPClassifier(hidden_layer_sizes=(50, 50, 100), max_iter=1000).fit(X_train, y_train)\n",
    "clf.score(X_test, y_test)"
   ]
  },
  {
   "cell_type": "markdown",
   "metadata": {},
   "source": [
    "### Part 7 and 8"
   ]
  },
  {
   "cell_type": "code",
   "execution_count": 10,
   "metadata": {},
   "outputs": [
    {
     "data": {
      "image/png": "[encoded data removed]",
      "text/plain": [
       "<Figure size 432x288 with 2 Axes>"
      ]
     },
     "metadata": {
      "needs_background": "light"
     },
     "output_type": "display_data"
    }
   ],
   "source": [
    "# Create and comment on a confusion matrix \n",
    "\n",
    "from sklearn.metrics import confusion_matrix\n",
    "from sklearn.metrics import plot_confusion_matrix\n",
    "\n",
    "y_train_pred = clf.predict(X_train)\n",
    "c = confusion_matrix(y_train, y_train_pred)\n",
    "\n",
    "disp = plot_confusion_matrix(clf, X_test, y_test, cmap = plt.cm.Blues)"
   ]
  },
  {
   "cell_type": "code",
   "execution_count": 11,
   "metadata": {},
   "outputs": [
    {
     "data": {
      "text/plain": [
       "array([[92,  1,  0],\n",
       "       [ 6, 38,  1],\n",
       "       [ 0,  5, 83]])"
      ]
     },
     "execution_count": 11,
     "metadata": {},
     "output_type": "execute_result"
    }
   ],
   "source": [
    "#matrix showing what was wrong \n",
    "c"
   ]
  },
  {
   "cell_type": "code",
   "execution_count": 13,
   "metadata": {},
   "outputs": [
    {
     "data": {
      "text/plain": [
       "(array(['Chinstrap penguin (Pygoscelis antarctica)',\n",
       "        'Chinstrap penguin (Pygoscelis antarctica)',\n",
       "        'Chinstrap penguin (Pygoscelis antarctica)',\n",
       "        'Gentoo penguin (Pygoscelis papua)',\n",
       "        'Adelie Penguin (Pygoscelis adeliae)',\n",
       "        'Adelie Penguin (Pygoscelis adeliae)',\n",
       "        'Adelie Penguin (Pygoscelis adeliae)',\n",
       "        'Chinstrap penguin (Pygoscelis antarctica)',\n",
       "        'Chinstrap penguin (Pygoscelis antarctica)',\n",
       "        'Adelie Penguin (Pygoscelis adeliae)',\n",
       "        'Adelie Penguin (Pygoscelis adeliae)',\n",
       "        'Adelie Penguin (Pygoscelis adeliae)',\n",
       "        'Chinstrap penguin (Pygoscelis antarctica)'], dtype='<U41'),\n",
       " array(['Gentoo penguin (Pygoscelis papua)',\n",
       "        'Gentoo penguin (Pygoscelis papua)',\n",
       "        'Gentoo penguin (Pygoscelis papua)',\n",
       "        'Chinstrap penguin (Pygoscelis antarctica)',\n",
       "        'Chinstrap penguin (Pygoscelis antarctica)',\n",
       "        'Chinstrap penguin (Pygoscelis antarctica)',\n",
       "        'Chinstrap penguin (Pygoscelis antarctica)',\n",
       "        'Gentoo penguin (Pygoscelis papua)',\n",
       "        'Gentoo penguin (Pygoscelis papua)',\n",
       "        'Chinstrap penguin (Pygoscelis antarctica)',\n",
       "        'Chinstrap penguin (Pygoscelis antarctica)',\n",
       "        'Chinstrap penguin (Pygoscelis antarctica)',\n",
       "        'Adelie Penguin (Pygoscelis adeliae)'], dtype=object))"
      ]
     },
     "execution_count": 13,
     "metadata": {},
     "output_type": "execute_result"
    }
   ],
   "source": [
    "#checking for the mistakes\n",
    "mistakes = X_train[y_train != y_train_pred]\n",
    "mistake_labels = y_train[y_train != y_train_pred]\n",
    "mistake_preds = y_train_pred[y_train != y_train_pred]\n",
    "\n",
    "mistake_preds, mistake_labels"
   ]
  },
  {
   "cell_type": "code",
   "execution_count": 19,
   "metadata": {},
   "outputs": [
    {
     "ename": "KeyError",
     "evalue": "\"['Sex'] not found in axis\"",
     "output_type": "error",
     "traceback": [
      "\u001b[0;31m---------------------------------------------------------------------------\u001b[0m",
      "\u001b[0;31mKeyError\u001b[0m                                  Traceback (most recent call last)",
      "\u001b[0;32m<ipython-input-19-d4815d009812>\u001b[0m in \u001b[0;36m<module>\u001b[0;34m\u001b[0m\n\u001b[1;32m     41\u001b[0m \u001b[0;34m\u001b[0m\u001b[0m\n\u001b[1;32m     42\u001b[0m \u001b[0;31m# Fit the model with dropped Sex column, so that it can have 2 columns for plot regions\u001b[0m\u001b[0;34m\u001b[0m\u001b[0;34m\u001b[0m\u001b[0;34m\u001b[0m\u001b[0m\n\u001b[0;32m---> 43\u001b[0;31m \u001b[0mdrop_col\u001b[0m \u001b[0;34m=\u001b[0m \u001b[0mX_train\u001b[0m\u001b[0;34m.\u001b[0m\u001b[0mdrop\u001b[0m\u001b[0;34m(\u001b[0m\u001b[0;34m[\u001b[0m\u001b[0;34m'Sex'\u001b[0m\u001b[0;34m]\u001b[0m\u001b[0;34m,\u001b[0m \u001b[0maxis\u001b[0m\u001b[0;34m=\u001b[0m\u001b[0;36m1\u001b[0m\u001b[0;34m)\u001b[0m\u001b[0;34m\u001b[0m\u001b[0;34m\u001b[0m\u001b[0m\n\u001b[0m\u001b[1;32m     44\u001b[0m \u001b[0mclf\u001b[0m\u001b[0;34m.\u001b[0m\u001b[0mfit\u001b[0m\u001b[0;34m(\u001b[0m\u001b[0mdrop_col\u001b[0m\u001b[0;34m,\u001b[0m \u001b[0my_train\u001b[0m\u001b[0;34m)\u001b[0m\u001b[0;34m\u001b[0m\u001b[0;34m\u001b[0m\u001b[0m\n\u001b[1;32m     45\u001b[0m \u001b[0;34m\u001b[0m\u001b[0m\n",
      "\u001b[0;32m/opt/anaconda3/lib/python3.8/site-packages/pandas/core/frame.py\u001b[0m in \u001b[0;36mdrop\u001b[0;34m(self, labels, axis, index, columns, level, inplace, errors)\u001b[0m\n\u001b[1;32m   4161\u001b[0m                 \u001b[0mweight\u001b[0m  \u001b[0;36m1.0\u001b[0m     \u001b[0;36m0.8\u001b[0m\u001b[0;34m\u001b[0m\u001b[0;34m\u001b[0m\u001b[0m\n\u001b[1;32m   4162\u001b[0m         \"\"\"\n\u001b[0;32m-> 4163\u001b[0;31m         return super().drop(\n\u001b[0m\u001b[1;32m   4164\u001b[0m             \u001b[0mlabels\u001b[0m\u001b[0;34m=\u001b[0m\u001b[0mlabels\u001b[0m\u001b[0;34m,\u001b[0m\u001b[0;34m\u001b[0m\u001b[0;34m\u001b[0m\u001b[0m\n\u001b[1;32m   4165\u001b[0m             \u001b[0maxis\u001b[0m\u001b[0;34m=\u001b[0m\u001b[0maxis\u001b[0m\u001b[0;34m,\u001b[0m\u001b[0;34m\u001b[0m\u001b[0;34m\u001b[0m\u001b[0m\n",
      "\u001b[0;32m/opt/anaconda3/lib/python3.8/site-packages/pandas/core/generic.py\u001b[0m in \u001b[0;36mdrop\u001b[0;34m(self, labels, axis, index, columns, level, inplace, errors)\u001b[0m\n\u001b[1;32m   3885\u001b[0m         \u001b[0;32mfor\u001b[0m \u001b[0maxis\u001b[0m\u001b[0;34m,\u001b[0m \u001b[0mlabels\u001b[0m \u001b[0;32min\u001b[0m \u001b[0maxes\u001b[0m\u001b[0;34m.\u001b[0m\u001b[0mitems\u001b[0m\u001b[0;34m(\u001b[0m\u001b[0;34m)\u001b[0m\u001b[0;34m:\u001b[0m\u001b[0;34m\u001b[0m\u001b[0;34m\u001b[0m\u001b[0m\n\u001b[1;32m   3886\u001b[0m             \u001b[0;32mif\u001b[0m \u001b[0mlabels\u001b[0m \u001b[0;32mis\u001b[0m \u001b[0;32mnot\u001b[0m \u001b[0;32mNone\u001b[0m\u001b[0;34m:\u001b[0m\u001b[0;34m\u001b[0m\u001b[0;34m\u001b[0m\u001b[0m\n\u001b[0;32m-> 3887\u001b[0;31m                 \u001b[0mobj\u001b[0m \u001b[0;34m=\u001b[0m \u001b[0mobj\u001b[0m\u001b[0;34m.\u001b[0m\u001b[0m_drop_axis\u001b[0m\u001b[0;34m(\u001b[0m\u001b[0mlabels\u001b[0m\u001b[0;34m,\u001b[0m \u001b[0maxis\u001b[0m\u001b[0;34m,\u001b[0m \u001b[0mlevel\u001b[0m\u001b[0;34m=\u001b[0m\u001b[0mlevel\u001b[0m\u001b[0;34m,\u001b[0m \u001b[0merrors\u001b[0m\u001b[0;34m=\u001b[0m\u001b[0merrors\u001b[0m\u001b[0;34m)\u001b[0m\u001b[0;34m\u001b[0m\u001b[0;34m\u001b[0m\u001b[0m\n\u001b[0m\u001b[1;32m   3888\u001b[0m \u001b[0;34m\u001b[0m\u001b[0m\n\u001b[1;32m   3889\u001b[0m         \u001b[0;32mif\u001b[0m \u001b[0minplace\u001b[0m\u001b[0;34m:\u001b[0m\u001b[0;34m\u001b[0m\u001b[0;34m\u001b[0m\u001b[0m\n",
      "\u001b[0;32m/opt/anaconda3/lib/python3.8/site-packages/pandas/core/generic.py\u001b[0m in \u001b[0;36m_drop_axis\u001b[0;34m(self, labels, axis, level, errors)\u001b[0m\n\u001b[1;32m   3919\u001b[0m                 \u001b[0mnew_axis\u001b[0m \u001b[0;34m=\u001b[0m \u001b[0maxis\u001b[0m\u001b[0;34m.\u001b[0m\u001b[0mdrop\u001b[0m\u001b[0;34m(\u001b[0m\u001b[0mlabels\u001b[0m\u001b[0;34m,\u001b[0m \u001b[0mlevel\u001b[0m\u001b[0;34m=\u001b[0m\u001b[0mlevel\u001b[0m\u001b[0;34m,\u001b[0m \u001b[0merrors\u001b[0m\u001b[0;34m=\u001b[0m\u001b[0merrors\u001b[0m\u001b[0;34m)\u001b[0m\u001b[0;34m\u001b[0m\u001b[0;34m\u001b[0m\u001b[0m\n\u001b[1;32m   3920\u001b[0m             \u001b[0;32melse\u001b[0m\u001b[0;34m:\u001b[0m\u001b[0;34m\u001b[0m\u001b[0;34m\u001b[0m\u001b[0m\n\u001b[0;32m-> 3921\u001b[0;31m                 \u001b[0mnew_axis\u001b[0m \u001b[0;34m=\u001b[0m \u001b[0maxis\u001b[0m\u001b[0;34m.\u001b[0m\u001b[0mdrop\u001b[0m\u001b[0;34m(\u001b[0m\u001b[0mlabels\u001b[0m\u001b[0;34m,\u001b[0m \u001b[0merrors\u001b[0m\u001b[0;34m=\u001b[0m\u001b[0merrors\u001b[0m\u001b[0;34m)\u001b[0m\u001b[0;34m\u001b[0m\u001b[0;34m\u001b[0m\u001b[0m\n\u001b[0m\u001b[1;32m   3922\u001b[0m             \u001b[0mresult\u001b[0m \u001b[0;34m=\u001b[0m \u001b[0mself\u001b[0m\u001b[0;34m.\u001b[0m\u001b[0mreindex\u001b[0m\u001b[0;34m(\u001b[0m\u001b[0;34m**\u001b[0m\u001b[0;34m{\u001b[0m\u001b[0maxis_name\u001b[0m\u001b[0;34m:\u001b[0m \u001b[0mnew_axis\u001b[0m\u001b[0;34m}\u001b[0m\u001b[0;34m)\u001b[0m\u001b[0;34m\u001b[0m\u001b[0;34m\u001b[0m\u001b[0m\n\u001b[1;32m   3923\u001b[0m \u001b[0;34m\u001b[0m\u001b[0m\n",
      "\u001b[0;32m/opt/anaconda3/lib/python3.8/site-packages/pandas/core/indexes/base.py\u001b[0m in \u001b[0;36mdrop\u001b[0;34m(self, labels, errors)\u001b[0m\n\u001b[1;32m   5280\u001b[0m         \u001b[0;32mif\u001b[0m \u001b[0mmask\u001b[0m\u001b[0;34m.\u001b[0m\u001b[0many\u001b[0m\u001b[0;34m(\u001b[0m\u001b[0;34m)\u001b[0m\u001b[0;34m:\u001b[0m\u001b[0;34m\u001b[0m\u001b[0;34m\u001b[0m\u001b[0m\n\u001b[1;32m   5281\u001b[0m             \u001b[0;32mif\u001b[0m \u001b[0merrors\u001b[0m \u001b[0;34m!=\u001b[0m \u001b[0;34m\"ignore\"\u001b[0m\u001b[0;34m:\u001b[0m\u001b[0;34m\u001b[0m\u001b[0;34m\u001b[0m\u001b[0m\n\u001b[0;32m-> 5282\u001b[0;31m                 \u001b[0;32mraise\u001b[0m \u001b[0mKeyError\u001b[0m\u001b[0;34m(\u001b[0m\u001b[0;34mf\"{labels[mask]} not found in axis\"\u001b[0m\u001b[0;34m)\u001b[0m\u001b[0;34m\u001b[0m\u001b[0;34m\u001b[0m\u001b[0m\n\u001b[0m\u001b[1;32m   5283\u001b[0m             \u001b[0mindexer\u001b[0m \u001b[0;34m=\u001b[0m \u001b[0mindexer\u001b[0m\u001b[0;34m[\u001b[0m\u001b[0;34m~\u001b[0m\u001b[0mmask\u001b[0m\u001b[0;34m]\u001b[0m\u001b[0;34m\u001b[0m\u001b[0;34m\u001b[0m\u001b[0m\n\u001b[1;32m   5284\u001b[0m         \u001b[0;32mreturn\u001b[0m \u001b[0mself\u001b[0m\u001b[0;34m.\u001b[0m\u001b[0mdelete\u001b[0m\u001b[0;34m(\u001b[0m\u001b[0mindexer\u001b[0m\u001b[0;34m)\u001b[0m\u001b[0;34m\u001b[0m\u001b[0;34m\u001b[0m\u001b[0m\n",
      "\u001b[0;31mKeyError\u001b[0m: \"['Sex'] not found in axis\""
     ]
    }
   ],
   "source": [
    "# Plot the decision regions\n",
    "from sklearn import tree\n",
    "def plot_regions(c, X, y):\n",
    "        \n",
    "    # for convenience, give names to the two \n",
    "    # columns of the data\n",
    "    x0 = X['Flipper Length (mm)']\n",
    "    x1 = X['Culmen Depth (mm)']\n",
    "    \n",
    "    # create a grid\n",
    "    grid_x = np.linspace(x0.min(),x0.max(),501)\n",
    "    grid_y = np.linspace(x1.min(),x1.max(),501)\n",
    "    xx, yy = np.meshgrid(grid_x, grid_y)\n",
    "    \n",
    "    # extract model predictions, using the \n",
    "    # np.c_ attribute to join together the \n",
    "    # two parts of the grid. \n",
    "    # array.ravel() converts an multidimensional\n",
    "    # array into a 1d array, and we use array.reshape()\n",
    "    # to turn the resulting predictions p \n",
    "    # back into 2d\n",
    "    \n",
    "    XX = xx.ravel()\n",
    "    YY = yy.ravel()\n",
    "    XY = np.c_[XX, YY]\n",
    "    \n",
    "    p = c.predict(XY)\n",
    "    p = p.reshape(xx.shape)\n",
    "    \n",
    "    # create the plot\n",
    "    fig, ax = plt.subplots(1)\n",
    "    \n",
    "    # use contour plot to visualize the predictions\n",
    "    ax.contourf(xx, yy, p, cmap = \"jet\", alpha = 0.2, vmin = 0, vmax = 2)\n",
    "    \n",
    "    # plot the data\n",
    "    ax.scatter(x0, x1, c = y, cmap = \"jet\", vmin = 0, vmax = 2)\n",
    "    \n",
    "    ax.set(xlabel = \"Flipper Length (mm)\", \n",
    "           ylabel = \"Culmen Depth (mm)\")\n",
    "\n",
    "# Fit the model with dropped Sex column, so that it can have 2 columns for plot regions\n",
    "drop_col = X_train.drop(['Sex'], axis=1)\n",
    "clf.fit(drop_col, y_train)\n",
    "\n",
    "# Separate the males and females, drop the sex column, predict the y's and plot\n",
    "X_male = X_train.loc[X_train['Sex'] == 1]\n",
    "X_male = X_male.drop(['Sex'], axis=1)\n",
    "y_male = clf.predict(X_male)\n",
    "\n",
    "X_female = X_train.loc[X_train['Sex'] == 2]\n",
    "X_female = X_female.drop(['Sex'], axis=1)\n",
    "y_female = clf.predict(X_female)\n",
    "\n",
    "plot_regions(clf, X_male, y_male)\n",
    "plot_regions(clf, X_female, y_female)"
   ]
  },
  {
   "cell_type": "code",
   "execution_count": null,
   "metadata": {},
   "outputs": [],
   "source": []
  },
  {
   "cell_type": "code",
   "execution_count": null,
   "metadata": {},
   "outputs": [],
   "source": []
  }
 ],
 "metadata": {
  "kernelspec": {
   "display_name": "Python 3",
   "language": "python",
   "name": "python3"
  },
  "language_info": {
   "codemirror_mode": {
    "name": "ipython",
    "version": 3
   },
   "file_extension": ".py",
   "mimetype": "text/x-python",
   "name": "python",
   "nbconvert_exporter": "python",
   "pygments_lexer": "ipython3",
   "version": "3.8.5"
  }
 },
 "nbformat": 4,
 "nbformat_minor": 4
}
