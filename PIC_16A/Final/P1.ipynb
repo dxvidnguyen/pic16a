{
 "cells": [
  {
   "cell_type": "markdown",
   "metadata": {},
   "source": [
    "# PIC16A Final Exam, Problem 1 (55 points)\n",
    "\n",
    "### *Spring 2021*\n",
    "\n",
    "## Academic Integrity Statement\n",
    "\n",
    "As a matter of Departmental policy, **we are required to give you a 0** unless you **type your name** after the following statement: \n",
    "\n",
    "> *I certify on my honor that I have neither given nor received any help, or used any non-permitted resources, while completing this evaluation.*\n",
    "\n",
    "- David Nguyen\n",
    "\n",
    "## Permitted Resources\n",
    "\n",
    "This exam is open-book, open-notes, open-internet, open-everything. The only thing you are not allowed to do is ask another human being for help, with the exception of me. Examples: \n",
    "\n",
    "1. **Permitted**: Checking course notes and videos; browsing Google or StackOverflow; consulting previous Campuswire posts. \n",
    "2. **Not permitted**: Requesting help on Chegg; publicly posting on Campuswire (messages to me are ok); privately asking classmates for help; posting on StackOverflow. \n",
    "\n",
    "If you encounter any situation in which you're not 100% sure what's permitted, **just ask**! \n",
    "\n",
    "\n",
    "### Partial Credit\n",
    "\n",
    "Let us give you partial credit! If you're stuck on a problem and just can't get your code to run: \n",
    "\n",
    "First, **breathe**. Then, do any or all of the following: \n",
    "    \n",
    "1. Write down everything relevant that you know about the problem, as comments where your code would go. \n",
    "2. If you have non-functioning code that demonstrates some correct ideas, indicate that and keep it (commented out). \n",
    "3. Write down pseudocode (written instructions) outlining your solution approach. \n",
    "\n",
    "In brief, even if you can't quite get your code to work, you can still **show us what you know.**"
   ]
  },
  {
   "cell_type": "markdown",
   "metadata": {},
   "source": [
    "# Introduction\n",
    "\n",
    "This problem is based on the article \n",
    "\n",
    "> Obermeyer, Z., Powers, B., Vogeli, C., & Mullainathan, S. (2019). Dissecting racial bias in an algorithm used to manage the health of populations. *Science*, 366(6464), 447-453.\n",
    "\n",
    "In this article, the authors use patient medical records, demographics, and insurance claims to study bias in a machine learning model used to predict patient risk. This model has been used to make recommendations about which patients should be admitted to more intensive care programs on the basis of their health. \n",
    "\n",
    "In this problem, you will replicate several of the qualitative findings from this study. \n",
    "\n",
    "The results presented in this article were discussed by Dr. Ruha Benjamin in the video \"[Are We Automating Racism](https://www.youtube.com/watch?v=Ok5sKLXqynQ),\" which was one of the videos we watched as part of our discussion of algorithmic bias in Week 8. You are free to consult either the article or the video when completing this assignment. While doing so may be interesting, it is not likely to concretely help you in the problems below.\n",
    "\n",
    "\n",
    "\n",
    "\n",
    "## Data Access\n",
    "\n",
    "In order to protect patient privacy, the authors did not share the \"real\" data used in their study. Instead, they created a randomized version of the data that preserves many of the same patterns and trends. Run the cell below to access the data. I have also uploaded the CSV file directly to CCLE in case you have issues using this URL. "
   ]
  },
  {
   "cell_type": "code",
   "execution_count": 1,
   "metadata": {},
   "outputs": [],
   "source": [
    "import pandas as pd\n",
    "url = \"https://gitlab.com/labsysmed/dissecting-bias/-/raw/master/data/data_new.csv?inline=false\"\n",
    "df = pd.read_csv(url)"
   ]
  },
  {
   "cell_type": "markdown",
   "metadata": {},
   "source": [
    "There are 48,784 patients represented as rows in the data, and 160 pieces of information about each patient represented as columns. Run the code below to check this: "
   ]
  },
  {
   "cell_type": "code",
   "execution_count": 2,
   "metadata": {},
   "outputs": [
    {
     "data": {
      "text/plain": [
       "(48784, 160)"
      ]
     },
     "execution_count": 2,
     "metadata": {},
     "output_type": "execute_result"
    }
   ],
   "source": [
    "df.shape"
   ]
  },
  {
   "cell_type": "markdown",
   "metadata": {},
   "source": [
    "A few of the columns are going to be especially important in our analysis: \n",
    "\n",
    "- `risk_score_t` is the algorithm's risk score assigned to a given patient. \n",
    "- `cost_t` is the patient's medical costs in the study period. \n",
    "- `race` is the patient's self-reported race. The authors filtered the data to include only `white` and `black` patients. \n",
    "- `gagne_sum_t` is the total number of chronic illnesses presented by the patient during the study period. \n",
    "- `dem_female` is a patient sex indicator, with `1` indicating female patients and `0` indicating male patients. \n",
    "\n",
    "Run the code below to take a look at these columns. "
   ]
  },
  {
   "cell_type": "code",
   "execution_count": 3,
   "metadata": {},
   "outputs": [
    {
     "data": {
      "text/html": [
       "<div>\n",
       "<style scoped>\n",
       "    .dataframe tbody tr th:only-of-type {\n",
       "        vertical-align: middle;\n",
       "    }\n",
       "\n",
       "    .dataframe tbody tr th {\n",
       "        vertical-align: top;\n",
       "    }\n",
       "\n",
       "    .dataframe thead th {\n",
       "        text-align: right;\n",
       "    }\n",
       "</style>\n",
       "<table border=\"1\" class=\"dataframe\">\n",
       "  <thead>\n",
       "    <tr style=\"text-align: right;\">\n",
       "      <th></th>\n",
       "      <th>risk_score_t</th>\n",
       "      <th>cost_t</th>\n",
       "      <th>gagne_sum_t</th>\n",
       "      <th>race</th>\n",
       "      <th>dem_female</th>\n",
       "    </tr>\n",
       "  </thead>\n",
       "  <tbody>\n",
       "    <tr>\n",
       "      <th>0</th>\n",
       "      <td>1.987430</td>\n",
       "      <td>1200.0</td>\n",
       "      <td>0</td>\n",
       "      <td>white</td>\n",
       "      <td>0</td>\n",
       "    </tr>\n",
       "    <tr>\n",
       "      <th>1</th>\n",
       "      <td>7.677934</td>\n",
       "      <td>2600.0</td>\n",
       "      <td>3</td>\n",
       "      <td>white</td>\n",
       "      <td>1</td>\n",
       "    </tr>\n",
       "    <tr>\n",
       "      <th>2</th>\n",
       "      <td>0.407678</td>\n",
       "      <td>500.0</td>\n",
       "      <td>0</td>\n",
       "      <td>white</td>\n",
       "      <td>1</td>\n",
       "    </tr>\n",
       "    <tr>\n",
       "      <th>3</th>\n",
       "      <td>0.798369</td>\n",
       "      <td>1300.0</td>\n",
       "      <td>0</td>\n",
       "      <td>white</td>\n",
       "      <td>1</td>\n",
       "    </tr>\n",
       "    <tr>\n",
       "      <th>4</th>\n",
       "      <td>17.513165</td>\n",
       "      <td>1100.0</td>\n",
       "      <td>1</td>\n",
       "      <td>white</td>\n",
       "      <td>1</td>\n",
       "    </tr>\n",
       "  </tbody>\n",
       "</table>\n",
       "</div>"
      ],
      "text/plain": [
       "   risk_score_t  cost_t  gagne_sum_t   race  dem_female\n",
       "0      1.987430  1200.0            0  white           0\n",
       "1      7.677934  2600.0            3  white           1\n",
       "2      0.407678   500.0            0  white           1\n",
       "3      0.798369  1300.0            0  white           1\n",
       "4     17.513165  1100.0            1  white           1"
      ]
     },
     "execution_count": 3,
     "metadata": {},
     "output_type": "execute_result"
    }
   ],
   "source": [
    "cols = ['risk_score_t', 'cost_t', 'gagne_sum_t','race',  'dem_female']\n",
    "df[cols].head()"
   ]
  },
  {
   "cell_type": "markdown",
   "metadata": {},
   "source": [
    "# Part A (20 points)\n",
    "\n",
    "Here's how the algorithm was used in the medical setting: \n",
    "\n",
    "> Patients with higher scores from the algorithm were more likely to be enrolled in “high-risk care management” programs. \n",
    "\n",
    "A high-risk care management program offers additional health resources to patients, including trained healthcare providers to help them manage complex health needs. In other words, \n",
    "\n",
    "> If you are very sick, getting a **high** score on the algorithm can help you receive **more** medical attention. \n",
    "\n",
    "One of the major findings of the study above was that the algorithm tended to give lower scores to Black patients, even when those Black patients were equally sick as White patients. In this part, you will replicate this finding. \n",
    "\n",
    "**To do so, create the following plot:** \n",
    "\n",
    "<figure class=\"image\" style=\"width:70%\">\n",
    "  <img src=\"https://raw.githubusercontent.com/PhilChodrow/PIC16A/master/_images/risk1.png\" alt=\"\">\n",
    "  <figcaption><i></i></figcaption>\n",
    "</figure>\n",
    "\n",
    "#### Key Points\n",
    "\n",
    "- **The vertical axis gives the *percentile risk* of patients assigned by the algorithm, rounded to the nearest percentage point**. A patient in the 85th percentile, for example, received a risk score from the algorithm higher than 84% of all patients and lower than 15% of all patients. The raw risk score (not the percentile) of each patient is contained in the `risk_score_t` column. \n",
    "- **The horizontal axis gives the average number of chronic illnesses presented by patients in the corresponding risk percentile**. For example, White men in the 80th risk score percentile presented, on average, approximately two chronic illnesses. The number of chronic illnesses presented by a patient is contained in the `\"gagne_sum_t\"` column of the data. \n",
    "- Different colors segment Black and White patients (`race`). Two panels distinguish between male and female patients. The `dem_female` column gives the sex of each patient, with `0` representing male and `1` representing female.  \n",
    "\n",
    "### Specs\n",
    "\n",
    "Please attend to the following details:\n",
    "\n",
    "- It is important that you **round the percentile risk scores to the nearest percentile**, and compute the average number of conditions within each rounded percentile. This means that, for example, there should be 101 data points  (percentiles 0%-100%) corresponding to Black women, 101 other data points corresponding to White women, etc. Failure to round and compute the mean will result in your plot containing an unreadable number of points. \n",
    "- The horizontal axis, vertical axis, and axis titles are all appropriately ***capitalized***: the first letter of the first word is capitalized. \n",
    "- The legend title, as well as the legend entries, are also appropriately capitalized. \n",
    "- Beyond these specs, you are free to modify the colors, transparency, etc, and get creative with the text. You are not required to replicate the exact size or aspect ratio of the figure. \n",
    "\n",
    "### Hints\n",
    "\n",
    "- The only columns you need to work with in this problem are: `risk_score_t`, `race`, `gagne_sum_t` (containing the number of chronic illnesses per patient), and `dem_female`\n",
    "- The plotting aspect problem can be solved using either standard `matplotlib` or `seaborn`. Correct approaches using either set of tools will receive full credit. \n",
    "- The percentiles of an data frame column `df[\"x\"]` can be computed by `df[\"x\"].rank()/len(df)`. The results will be values between 0 and 1. One should then multiply by 100 and `round()` the results to obtain the percentiles as integers between 0 and 100. \n",
    "- To compute the mean number of chronic illnesses per percentile, group by the integer percentiles (as well as race and sex) and then compute the `mean` of the `gagne_sum_t` column. \n",
    "- The plotted points should correspond to *average* number of chronic conditions, *grouped by* percentiles and demographic variables. "
   ]
  },
  {
   "cell_type": "code",
   "execution_count": 45,
   "metadata": {},
   "outputs": [],
   "source": [
    "#import matplotlib\n",
    "from matplotlib import pyplot as plt\n",
    "import numpy as np\n"
   ]
  },
  {
   "cell_type": "code",
   "execution_count": 458,
   "metadata": {},
   "outputs": [],
   "source": [
    "# feel free to use this cell for \"scratchwork\" (e.g. data exploration). \n",
    "# Place your actual solution in the cell below\n"
   ]
  },
  {
   "cell_type": "code",
   "execution_count": 226,
   "metadata": {},
   "outputs": [
    {
     "name": "stderr",
     "output_type": "stream",
     "text": [
      "<ipython-input-226-c07ddeea0d13>:2: SettingWithCopyWarning: \n",
      "A value is trying to be set on a copy of a slice from a DataFrame.\n",
      "Try using .loc[row_indexer,col_indexer] = value instead\n",
      "\n",
      "See the caveats in the documentation: https://pandas.pydata.org/pandas-docs/stable/user_guide/indexing.html#returning-a-view-versus-a-copy\n",
      "  data['percentile'] = round((data['risk_score_t'].rank() / len(data)) * 100)\n"
     ]
    }
   ],
   "source": [
    "#make dataframe with columns we need \n",
    "data = df[['risk_score_t', 'gagne_sum_t','race',  'dem_female']]\n",
    "#find percentiles for each patient (percentiles rounded to whole numbers) \n",
    "data['percentile'] = round((data['risk_score_t'].rank() / len(data)) * 100)"
   ]
  },
  {
   "cell_type": "code",
   "execution_count": 504,
   "metadata": {},
   "outputs": [],
   "source": [
    "#separate by gender\n",
    "data_m = data[data['dem_female'] == 0]\n",
    "data_f = data[data['dem_female'] == 1]\n",
    "#separate by race\n",
    "data_m_b = data_m[data_m['race'] == 'black']\n",
    "data_m_w = data_m[data_m['race'] == 'white']\n",
    "data_f_b = data_f[data_f['race'] == 'black']\n",
    "data_f_w = data_f[data_f['race'] == 'white']"
   ]
  },
  {
   "cell_type": "code",
   "execution_count": 640,
   "metadata": {},
   "outputs": [],
   "source": [
    "def clean_data(data, name):\n",
    "    '''\n",
    "    returns series that with multiindex race and sex\n",
    "    '''\n",
    "    sort = data.drop(['risk_score_t', 'race', 'dem_female'], axis = 1)\n",
    "    sort = sort.groupby(['percentile']).aggregate([np.mean])\n",
    "    sort = sort.rename(columns={'gagne_sum_t': str(name[0]), 'mean': str(name[1])})\n",
    "    return sort "
   ]
  },
  {
   "cell_type": "code",
   "execution_count": 785,
   "metadata": {},
   "outputs": [],
   "source": [
    "groups = [data_m_b, data_m_w, data_f_b, data_f_w]\n",
    "names = [['male','black'], ['male','white'], ['female','black'],['female','white']]\n",
    "clean_group = [clean_data(groups[n],names[n]) for n in range(4)]\n",
    "d1 = pd.concat(clean_group, axis = 1)"
   ]
  },
  {
   "cell_type": "code",
   "execution_count": 806,
   "metadata": {},
   "outputs": [
    {
     "data": {
      "text/plain": [
       "<matplotlib.legend.Legend at 0x7fe82a99a610>"
      ]
     },
     "execution_count": 806,
     "metadata": {},
     "output_type": "execute_result"
    },
    {
     "data": {
      "image/png": "[encoded data removed]",
      "text/plain": [
       "<Figure size 720x360 with 2 Axes>"
      ]
     },
     "metadata": {
      "needs_background": "light"
     },
     "output_type": "display_data"
    }
   ],
   "source": [
    "fig, ax = plt.subplots(1,2)\n",
    "\n",
    "fig.set_size_inches(10, 5)\n",
    "\n",
    "#plots\n",
    "p1 = ax[0].scatter(d1['male', 'black'], d1.index, label = 'black')\n",
    "p2 = ax[0].scatter(d1['male', 'white'], d1.index, label = 'white')\n",
    "p3 = ax[1].scatter(d1['female', 'black'], d1.index, label = 'black')\n",
    "p4 = ax[1].scatter(d1['female', 'white'], d1.index, label = 'white')\n",
    "\n",
    "ax[0].set(xlabel = 'Mean number of chronic illnesses', title = 'Male')\n",
    "ax[1].set(xlabel = 'Mean number of chronic illnesses', title = 'Female')\n",
    "plt.tight_layout()\n",
    "\n",
    "\n",
    "fig.text(0.0, 0.5, 'Percentile Risk Score(from algorithim)', \n",
    "         va='center', rotation='vertical')\n",
    "fig.legend(handles=[p1, p2], title='Race', bbox_to_anchor=(1, 0.5), loc='center left')"
   ]
  },
  {
   "cell_type": "markdown",
   "metadata": {},
   "source": [
    "# Part B (5 points)\n",
    "\n",
    "In no more than four sentences, describe the meaning of the plot you produced in Part A. For example, suppose that Patient A is Black, that Patient B is White, and that both Patient A and Patient B have exactly the same chronic illnesses. Are Patient A and Patient B equally likely to be referred to the high-risk care management program? "
   ]
  },
  {
   "cell_type": "markdown",
   "metadata": {},
   "source": [
    "Looking at our plots, a trend that we can see with both genders is that black patients will be given a lower risk score despite having the same number of chronic illnesses as their white counterparts as the plots for black patients is lower on the percentile risk score. If patient A was black and patient B was white, patient A would be less likely to be referred to a high risk managemnet program. \n"
   ]
  },
  {
   "cell_type": "markdown",
   "metadata": {},
   "source": [
    "# Part C (30 points)\n",
    "\n",
    "Next, you'll perform an analysis to identify the source of this disparity in Black and White patients. You might imagine that the model was trained to base its risk scores on an \"overall level of health\" in the training data. However, it is very difficult to get data on such a concept. \n",
    "\n",
    "For this reason, the algorithm studied was trained instead using *total medical costs* as the target variable. That is: \n",
    "\n",
    "> The risk score an agent receives is a function of the model's prediction of the total medical costs which will be incurred by that individual. \n",
    "\n",
    "This is a superficially logical choice, since (a) total medical costs are generally correlated with health and (b) costs are regularly recorded in insurance claims data. \n",
    "\n",
    "In this problem, you'll use linear regression to estimate the difference in generated medical costs between White and Black patients in this data set, and comment on this result in the context of Part A and B. \n",
    "\n",
    "### What You Should Do\n",
    "\n",
    "1. If you modified the data frame `df` in any way, you should re-run the code in which you load the data frame. \n",
    "2. Run the supplied cell in order to limit the columns in the data frame to the ones you will use in this analysis. \n",
    "3. The `race` column of the data is currently a string. Encode it using integer labels. \n",
    "4. Partition the data into a target data `y` consisting of the `cost_t` column of `df`. Let the predictor data `X` contain all other columns, excluding `cost_t`. \n",
    "5. Perform a train-test split of `X` and `y`, using 20% of the data as test data. Please pass the argument `random_state = 2021` to your split function in order to ensure reproducibility. **Important**: you should do this using only one function call. \n",
    "6. Create a **linear** regression model and fit it to the training data. Evaluate the `score` of the model on the training and testing data. Here are the scores that I got -- it's ok if yours are a little different. \n",
    "    - Training score: `0.12629789734544883`\n",
    "    - Testing score: `0.12415443228313183`\n",
    "7. Based these results, comment on whether you are concerned about overfitting. **Note**: these are not \"accuracy\" scores but rather \"coefficient of determination\" scores. They are relatively low, but low scores on statistical tasks are common in medical and biological applications. \n",
    "8. Examine the `coef_` attribute of the fitted linear regression model. The `race` column is the first one in the data frame. This means that the very first entry of the `coef_` array gives the model's estimate of the difference in costs between White and Black patients when controlling for sex, age, and medical conditions. Here's what I got -- it's ok if your answer is a little different: \n",
    "    - Coefficient of `race`: `579.9031747777375`. \n",
    "9. Black patients in the US tend to generate *lower* medical costs than their equally-sick White counterparts, due to long-standing disparities in access to medical resources. Using your result from Step 8:\n",
    "    - State your estimate of the difference in medical costs between White and Black patients. \n",
    "    - Describe in no more than 4 sentences how your result would explain the disparities in risk scores from Part A. \n",
    "    \n",
    "    \n",
    "***Note***: *The estimated cost disparity in the published paper is higher, over twice the result given here. This may reflect a methodological difference in their modeling or possibly be a byproduct of their data randomization.* "
   ]
  },
  {
   "cell_type": "markdown",
   "metadata": {},
   "source": [
    "#### Step 1\n",
    "\n",
    "If you modified the data frame `df` in any way in Part A, you should run the code below to reload the data frame. "
   ]
  },
  {
   "cell_type": "code",
   "execution_count": 738,
   "metadata": {},
   "outputs": [],
   "source": [
    "# Step 1: run, do not modify\n",
    "df = pd.read_csv(url)"
   ]
  },
  {
   "cell_type": "markdown",
   "metadata": {},
   "source": [
    "#### Step 2\n",
    "\n",
    "Run this cell in order to limit the columns in the data frame to the ones you will use in this analysis. "
   ]
  },
  {
   "cell_type": "code",
   "execution_count": 739,
   "metadata": {},
   "outputs": [],
   "source": [
    "# Step 2: run, do not modify\n",
    "cols = ['cost_t',\n",
    "        'race',\n",
    "        'dem_female',\n",
    "        'dem_age_band_18-24_tm1',\n",
    "        'dem_age_band_25-34_tm1',\n",
    "        'dem_age_band_35-44_tm1',\n",
    "        'dem_age_band_45-54_tm1',\n",
    "        'dem_age_band_55-64_tm1',\n",
    "        'dem_age_band_65-74_tm1',\n",
    "        'dem_age_band_75+_tm1',\n",
    "        'alcohol_elixhauser_tm1',\n",
    "        'anemia_elixhauser_tm1',\n",
    "        'arrhythmia_elixhauser_tm1',\n",
    "        'arthritis_elixhauser_tm1',\n",
    "        'bloodlossanemia_elixhauser_tm1',\n",
    "        'coagulopathy_elixhauser_tm1',\n",
    "        'compdiabetes_elixhauser_tm1',\n",
    "        'depression_elixhauser_tm1',\n",
    "        'drugabuse_elixhauser_tm1',\n",
    "        'electrolytes_elixhauser_tm1',\n",
    "        'hypertension_elixhauser_tm1',\n",
    "        'hypothyroid_elixhauser_tm1',\n",
    "        'liver_elixhauser_tm1',\n",
    "        'neurodegen_elixhauser_tm1',\n",
    "        'obesity_elixhauser_tm1',\n",
    "        'paralysis_elixhauser_tm1',\n",
    "        'psychosis_elixhauser_tm1',\n",
    "        'pulmcirc_elixhauser_tm1',\n",
    "        'pvd_elixhauser_tm1',\n",
    "        'renal_elixhauser_tm1',\n",
    "        'uncompdiabetes_elixhauser_tm1',\n",
    "        'valvulardz_elixhauser_tm1',\n",
    "        'wtloss_elixhauser_tm1',\n",
    "        'cerebrovasculardz_romano_tm1',\n",
    "        'chf_romano_tm1',\n",
    "        'dementia_romano_tm1',\n",
    "        'hemiplegia_romano_tm1',\n",
    "        'hivaids_romano_tm1',\n",
    "        'metastatic_romano_tm1',\n",
    "        'myocardialinfarct_romano_tm1',\n",
    "        'pulmonarydz_romano_tm1',\n",
    "        'tumor_romano_tm1',\n",
    "        'ulcer_romano_tm1']\n",
    "\n",
    "df = df[cols]"
   ]
  },
  {
   "cell_type": "markdown",
   "metadata": {},
   "source": [
    "#### Step 3\n",
    "\n",
    "The `race` column of the data is currently a string. Encode it using integer labels. "
   ]
  },
  {
   "cell_type": "code",
   "execution_count": 747,
   "metadata": {},
   "outputs": [],
   "source": [
    "# Step 3: your code here\n",
    "from sklearn import preprocessing\n",
    "le = preprocessing.LabelEncoder()\n",
    "df['race'] = le.fit_transform(df['race'])\n"
   ]
  },
  {
   "cell_type": "markdown",
   "metadata": {},
   "source": [
    "#### Step 4\n",
    "\n",
    "Partition the data into a target data `y` consisting of the `cost_t` column of `df`. Let the predictor data `X` contain all other columns, excluding `cost_t`. "
   ]
  },
  {
   "cell_type": "code",
   "execution_count": 750,
   "metadata": {},
   "outputs": [],
   "source": [
    "# Step 4: your code here\n",
    "\n",
    "y = df['cost_t']\n",
    "X = df.drop(['cost_t'], axis = 1)"
   ]
  },
  {
   "cell_type": "markdown",
   "metadata": {},
   "source": [
    "#### Step 5\n",
    "\n",
    "Perform a train-test split of `X` and `y`, using 20% of the data as test data. Please pass the argument `random_state = 2021` to your split function in order to ensure reproducibility. \n",
    "\n",
    "**Important**: you should do this using only one function call. \n"
   ]
  },
  {
   "cell_type": "code",
   "execution_count": 753,
   "metadata": {},
   "outputs": [],
   "source": [
    "# Step 5: your code here\n",
    "from sklearn.model_selection import train_test_split\n",
    "\n",
    "X_train, X_test, y_train, y_test = train_test_split(X, y, test_size = 0.2, random_state = 2021)"
   ]
  },
  {
   "cell_type": "markdown",
   "metadata": {},
   "source": [
    "#### Step 6\n",
    "\n",
    "Create a **linear** regression model and fit it to the training data. Evaluate the `score` of the model on the training and testing data. Here are the scores that I got -- it's ok if yours are a little different. \n",
    "- Training score: `0.12629789734544883`\n",
    "- Testing score: `0.12415443228313183`"
   ]
  },
  {
   "cell_type": "code",
   "execution_count": 778,
   "metadata": {},
   "outputs": [
    {
     "name": "stdout",
     "output_type": "stream",
     "text": [
      "Training score: 0.12629789734544883\n",
      "Testing score: 0.12415443228313183\n"
     ]
    }
   ],
   "source": [
    "# Step 6: your code here\n",
    "from sklearn.linear_model import LinearRegression\n",
    "\n",
    "reg = LinearRegression()\n",
    "reg.fit(X_train, y_train)\n",
    "train_score = reg.score(X_train, y_train)\n",
    "test_score = reg.score(X_test, y_test)\n",
    "\n",
    "print('Training score: '+ str(train_score))\n",
    "print('Testing score: ' + str(test_score))"
   ]
  },
  {
   "cell_type": "markdown",
   "metadata": {},
   "source": [
    "#### Step 7"
   ]
  },
  {
   "cell_type": "markdown",
   "metadata": {},
   "source": [
    "Based the results above, comment on whether you are concerned about overfitting. \n",
    "\n",
    "**Note**: these are not \"accuracy\" scores but rather \"coefficient of determination\" scores. They are relatively low, but low scores on statistical tasks are common in medical and biological applications. \n",
    "\n",
    "## Part 7 Answer\n",
    "Although the training and test scores are both low, they are very similar to one another. Therefore I do not think overfitting is currently a point of concern. The training score is higher than the test score, which may indicate overfitting. However, if we look at the standard deviation, which can be found using the np.std() function, we see that the standard deviation is about 0.00107173 (rounded value). As we can see, the standard deviation is a value that is less than 1%. Therefore, the training score being a higher value than the test is not a point of concern and overall overfitting does not seem like a point of concern as of now."
   ]
  },
  {
   "cell_type": "code",
   "execution_count": 770,
   "metadata": {},
   "outputs": [
    {
     "data": {
      "text/plain": [
       "0.001071732531158498"
      ]
     },
     "execution_count": 770,
     "metadata": {},
     "output_type": "execute_result"
    }
   ],
   "source": [
    "ex = np.array([test_score, train_score])\n",
    "np.std(ex)"
   ]
  },
  {
   "cell_type": "markdown",
   "metadata": {},
   "source": [
    "#### Step 8\n",
    "\n",
    "Examine the `coef_` attribute of the fitted linear regression model. The `race` column is the first one in the predictor data frame. This means that the very first entry of the `coef_` array gives the model's estimate of the difference in costs between White and Black patients when controlling for sex, age, and medical conditions. Here's what I got -- it's ok if your answer is a little different: \n",
    "- Coefficient of `race`: `579.9031747777375`. "
   ]
  },
  {
   "cell_type": "code",
   "execution_count": 783,
   "metadata": {},
   "outputs": [
    {
     "data": {
      "text/plain": [
       "579.9031747777375"
      ]
     },
     "execution_count": 783,
     "metadata": {},
     "output_type": "execute_result"
    }
   ],
   "source": [
    "# Step 8: your code here\n",
    "# coef_ for race\n",
    "reg.coef_[0] "
   ]
  },
  {
   "cell_type": "markdown",
   "metadata": {},
   "source": [
    "#### Step 9"
   ]
  },
  {
   "cell_type": "markdown",
   "metadata": {},
   "source": [
    "Black patients in the US tend to generate *lower* medical costs than their equally-sick White counterparts, due to long-standing disparities in access to medical resources. Using your result from Step 8:\n",
    "- State your estimate of the difference in medical costs between White and Black patients. \n",
    "- Describe in no more than 4 sentences how your result would explain the disparities in risk scores from Part A. \n",
    "\n",
    "## Part 9 Answer\n",
    "My estimated difference between white and black patients ( reg.coef [ 0 ] ) : 579.90\n",
    "\n",
    "From my estimated difference, we can see that there is a significant difference in the medical costs for white and black patients. This alligns with the disparities in part A as black patients are generally given lower risk scores compared to equally sick white counterparts. If black patients are seen as less sick, less resources will be used and this leads to lower medical costs for black patients. Overall we can see that the healthcare system needs adjust to fairly treat black patients. "
   ]
  },
  {
   "cell_type": "code",
   "execution_count": null,
   "metadata": {},
   "outputs": [],
   "source": []
  }
 ],
 "metadata": {
  "kernelspec": {
   "display_name": "Python 3",
   "language": "python",
   "name": "python3"
  },
  "language_info": {
   "codemirror_mode": {
    "name": "ipython",
    "version": 3
   },
   "file_extension": ".py",
   "mimetype": "text/x-python",
   "name": "python",
   "nbconvert_exporter": "python",
   "pygments_lexer": "ipython3",
   "version": "3.8.5"
  }
 },
 "nbformat": 4,
 "nbformat_minor": 4
}
