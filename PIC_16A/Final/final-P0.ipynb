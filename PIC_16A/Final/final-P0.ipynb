{
 "cells": [
  {
   "cell_type": "markdown",
   "metadata": {},
   "source": [
    "# Problem 0\n",
    "\n",
    "This problem is optional, and does not require you to write any code. \n",
    "\n",
    "If you do not answer this problem, then I will assign your overall grade in PIC16A based on your final average, as computed according to the rubric described in the syllabus. \n",
    "\n",
    "If you do answer this problem, then I will additionally consider how thorough, detailed, and thoughtful your answers are, as well as my professional judgment, when setting your overall course grade. "
   ]
  },
  {
   "cell_type": "markdown",
   "metadata": {},
   "source": [
    "# Part A\n",
    "\n",
    "**Take one of the topics or ideas we studied in PIC16A, and explain how it can be applied to your field of study or intended career.** Provide details on how you will use the material from this course in your future endeavors. Try to give at least two examples. For each one, explain both (a) what you are able to do now and (b) what you need to learn in order to do it even better. \n",
    "\n",
    "***Note***: if you're not sure what your field of study or intended career might be at this stage, that's ok! Just describe some things that interest you and which you might want to work on or learn about in the future. "
   ]
  },
  {
   "cell_type": "markdown",
   "metadata": {},
   "source": [
    "#### Your Response\n",
    "\n",
    "I liked learning about the data structures from the live lectures. I feel that data strcutres are much more intiuitive and easy to understand using python. For example, I did not really understand hash maps and how to use them in C++, but I really enjoy dicts and feel that I have a certain level of mastery in dicts where as I would just pray my hash maps worked. This will definitely help if I can achieve my goal of becoming a software engineer.\n",
    "\n",
    "I also learned how to be more efficient in this class. I never realized but before I would just code in the most intuitive (often simple but with huge time and space complexities) just to power through and get my work done. This class really emphasized keeping my code as concise as possible and it really made me think about the best possible way. Even though I would go back and forth between different methods, I have learned to be more flexible and catch patterns to make my code run faster and better"
   ]
  },
  {
   "cell_type": "markdown",
   "metadata": {},
   "source": [
    "# Part B\n",
    "\n",
    "**Describe a time in this course when you struggled to understand/use an idea or tool.** What did you learn from this struggle? How did you eventually overcome this struggle? How will this experience help you in the future? If you feel that you built your persistence, self-confidence, or any other personal trait, you can describe them here. "
   ]
  },
  {
   "cell_type": "markdown",
   "metadata": {},
   "source": [
    "#### Your Response\n",
    "I honestly did not understand machine learning and it was a really hard concept to wrap my mind around. I had a really hard time understanding what a model was and did. I knew the textbook definition but I really struggled seeing how it was applied. Especially with training models by hand and using the models from the sklearn kits. What helped me most was asking classmates for help! We had a group me and people were really nice and helped break down concepts for me and I truly appreciate all their time. I feel struggling with this and having school be online allowed me to reach out to more people. Theres less pressure than asking for help in real life and it was really cool just to learn as I interacted with classmates. It was also reassuring when a classmate did not understand because then we could piece ideas together. "
   ]
  },
  {
   "cell_type": "markdown",
   "metadata": {},
   "source": [
    "# Part C\n",
    "\n",
    "One of the primary objectives of PIC16A was to give you experience in working collaboratively on challenging coding problems. **Discuss how you have improved in your ability to work collaboratively over the course of the quarter.** You might wish to describe particular problems that you worked on, or on memorable moments with your teammates. "
   ]
  },
  {
   "cell_type": "markdown",
   "metadata": {},
   "source": [
    "#### Your Response\n",
    "   I feel that all the groupwork really held me accountable. I usually procrastinate but working in a team really allowed for me to get better with my time management as i have to keep a deadline in order to keep up with my groupmates. I had a hard time with the discussion sections at first because one of my groupmates was so smart and kinda pioneering everything, but working with her allowed me to learn at a faster pace because she worked so fast and explanined concepts very clearly and concisely if I had a question"
   ]
  },
  {
   "cell_type": "markdown",
   "metadata": {},
   "source": [
    "# Part D\n",
    "\n",
    "Suppose for a moment that the syllabus did not specify how your final grade is calculated. Based on what you have learned and achieved this quarter, **what grade do you feel that you have earned?** Share anything that you feel demonstrates your learning in this course. Some possibilities include: \n",
    "\n",
    "- Exceptional work with your group. \n",
    "- Your final self-assessment of your understanding of the content. \n",
    "- Your growth in confidence between the beginning and end of the quarter. \n",
    "- ...\n",
    "\n",
    "Use this space to share anything that will help me give you a final grade that reflects how much you have learned in PIC16A. "
   ]
  },
  {
   "cell_type": "markdown",
   "metadata": {},
   "source": [
    "#### Your Response\n",
    "I feel like I should have earned probably a B (I hope my real grade is an A and I really think I did good in my final but a B for the context of this question). I watched all the lectures. I attended office hours when I needed help. I checked campus wire and asked classmates for help on groupme. I followed all the instructions. \n",
    "\n",
    "I do admit though, I wasn't 100% perfect. I had to drop homeworks and dicussions in order to balance everything else I have going. Although I only dropped because I knew I was allowed to, I should  have done everything regardless of the drop policy ideally. I am slightly disappointed in myself for taking advantage of the drop policy where as it should have been a safety blanket. I usally just chase after a good grade and taking advantage of the drop policy just comes from my desperation to get good grades. Therefore in the context of this question I feel like I would not deserve an A due to lack academic enthusiasm. Don't get me wrong though, I did calculate how much I would need on the final and I knew what I needed to get an A going in and that is all I went for. Going for partial credit on the final was a strategic move but does cast away any interest for the mastery of the subject, which I feel is a super important factor in this question. \n",
    "\n",
    "Something I am proud of is doing all the quizzes. Even if I got a few low scores, I did every single quiz and kept up with the material. I feel like I've learned a lot in this class. That I will actually be able to use the material in this course in the material. This class was my only class that I enjoyed the material and learned instead of just memorized. \n",
    "\n",
    "Something I did slightly struggle with was I feared starting and would procrastinate, but when I started the homework, it was just tedious and not overwhelmingly difficult. Now I will be more confident and manage my time better. The group project as well was super cool. The way my group operated was that we split up work and then came together. It was interesting to see how we had to all learn and intrepret the other people's code in order to help or debug. In this process, I saw how much my groupmates commented and then realized I sometimes had an issue with overcommenting. Overcommenting makes my code hard to read and overall ugly. Seeing how much or little my groupmates commented helped me realized how much i should comment so someone else could understand my code. Overall I really enjoyed the class and am glad to be able to retain the material for more than just midterms and finals."
   ]
  },
  {
   "cell_type": "code",
   "execution_count": null,
   "metadata": {},
   "outputs": [],
   "source": []
  }
 ],
 "metadata": {
  "kernelspec": {
   "display_name": "Python 3",
   "language": "python",
   "name": "python3"
  },
  "language_info": {
   "codemirror_mode": {
    "name": "ipython",
    "version": 3
   },
   "file_extension": ".py",
   "mimetype": "text/x-python",
   "name": "python",
   "nbconvert_exporter": "python",
   "pygments_lexer": "ipython3",
   "version": "3.8.5"
  }
 },
 "nbformat": 4,
 "nbformat_minor": 4
}
